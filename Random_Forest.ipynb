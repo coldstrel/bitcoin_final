{
 "cells": [
  {
   "cell_type": "markdown",
   "id": "bd2da956",
   "metadata": {},
   "source": [
    "### Import Dependencies"
   ]
  },
  {
   "cell_type": "code",
   "execution_count": 1,
   "id": "53132190",
   "metadata": {},
   "outputs": [],
   "source": [
    "#Data manipulation\n",
    "import pandas as pd\n",
    "import numpy as np\n",
    "from time import time\n",
    "import datetime\n",
    "from path import Path\n",
    "\n",
    "# Import packages\n",
    "import math, re, IPython\n",
    "\n",
    "#Data visualizations\n",
    "import seaborn as sns\n",
    "import matplotlib.pyplot as plt\n",
    "from matplotlib.pylab import rcParams\n",
    "from pprint import pprint\n",
    "\n",
    "#Import automatic learning packages\n",
    "from sklearn import tree\n",
    "from sklearn.ensemble import RandomForestClassifier\n",
    "from sklearn.ensemble import RandomForestRegressor\n",
    "from sklearn.model_selection import cross_val_score\n",
    "from sklearn.preprocessing import StandardScaler\n",
    "from sklearn.model_selection import train_test_split\n",
    "from sklearn.metrics import confusion_matrix, accuracy_score, classification_report, mean_absolute_error, mean_squared_error, r2_score\n",
    "from sklearn.tree import export_graphviz\n"
   ]
  },
  {
   "cell_type": "code",
   "execution_count": 2,
   "id": "f0633aa5",
   "metadata": {},
   "outputs": [
    {
     "data": {
      "text/html": [
       "<div>\n",
       "<style scoped>\n",
       "    .dataframe tbody tr th:only-of-type {\n",
       "        vertical-align: middle;\n",
       "    }\n",
       "\n",
       "    .dataframe tbody tr th {\n",
       "        vertical-align: top;\n",
       "    }\n",
       "\n",
       "    .dataframe thead th {\n",
       "        text-align: right;\n",
       "    }\n",
       "</style>\n",
       "<table border=\"1\" class=\"dataframe\">\n",
       "  <thead>\n",
       "    <tr style=\"text-align: right;\">\n",
       "      <th></th>\n",
       "      <th>Date</th>\n",
       "      <th>Open</th>\n",
       "      <th>High</th>\n",
       "      <th>Low</th>\n",
       "      <th>Last</th>\n",
       "    </tr>\n",
       "  </thead>\n",
       "  <tbody>\n",
       "    <tr>\n",
       "      <th>0</th>\n",
       "      <td>11/9/2020 3:00</td>\n",
       "      <td>15539.15</td>\n",
       "      <td>15588.37</td>\n",
       "      <td>15448.60</td>\n",
       "      <td>15479.00</td>\n",
       "    </tr>\n",
       "    <tr>\n",
       "      <th>1</th>\n",
       "      <td>11/9/2020 4:00</td>\n",
       "      <td>15483.44</td>\n",
       "      <td>15500.02</td>\n",
       "      <td>15398.99</td>\n",
       "      <td>15453.22</td>\n",
       "    </tr>\n",
       "    <tr>\n",
       "      <th>2</th>\n",
       "      <td>11/9/2020 5:00</td>\n",
       "      <td>15453.22</td>\n",
       "      <td>15459.15</td>\n",
       "      <td>15365.80</td>\n",
       "      <td>15369.90</td>\n",
       "    </tr>\n",
       "    <tr>\n",
       "      <th>3</th>\n",
       "      <td>11/9/2020 6:00</td>\n",
       "      <td>15403.11</td>\n",
       "      <td>15512.47</td>\n",
       "      <td>15319.21</td>\n",
       "      <td>15488.27</td>\n",
       "    </tr>\n",
       "    <tr>\n",
       "      <th>4</th>\n",
       "      <td>11/9/2020 7:00</td>\n",
       "      <td>15491.50</td>\n",
       "      <td>15492.00</td>\n",
       "      <td>15366.50</td>\n",
       "      <td>15400.57</td>\n",
       "    </tr>\n",
       "  </tbody>\n",
       "</table>\n",
       "</div>"
      ],
      "text/plain": [
       "             Date      Open      High       Low      Last\n",
       "0  11/9/2020 3:00  15539.15  15588.37  15448.60  15479.00\n",
       "1  11/9/2020 4:00  15483.44  15500.02  15398.99  15453.22\n",
       "2  11/9/2020 5:00  15453.22  15459.15  15365.80  15369.90\n",
       "3  11/9/2020 6:00  15403.11  15512.47  15319.21  15488.27\n",
       "4  11/9/2020 7:00  15491.50  15492.00  15366.50  15400.57"
      ]
     },
     "execution_count": 2,
     "metadata": {},
     "output_type": "execute_result"
    }
   ],
   "source": [
    "# Loading data\n",
    "file_path = Path(\"BTC_snap_hourly.csv\")\n",
    "btc_df = pd.read_csv(file_path)\n",
    "btc_df.head()"
   ]
  },
  {
   "cell_type": "code",
   "execution_count": 3,
   "id": "0c538631",
   "metadata": {},
   "outputs": [
    {
     "data": {
      "text/plain": [
       "Date     object\n",
       "Open    float64\n",
       "High    float64\n",
       "Low     float64\n",
       "Last    float64\n",
       "dtype: object"
      ]
     },
     "execution_count": 3,
     "metadata": {},
     "output_type": "execute_result"
    }
   ],
   "source": [
    "btc_df.dtypes"
   ]
  },
  {
   "cell_type": "code",
   "execution_count": 4,
   "id": "9f664899",
   "metadata": {},
   "outputs": [
    {
     "data": {
      "text/plain": [
       "Date    datetime64[ns]\n",
       "Open           float64\n",
       "High           float64\n",
       "Low            float64\n",
       "Last           float64\n",
       "dtype: object"
      ]
     },
     "execution_count": 4,
     "metadata": {},
     "output_type": "execute_result"
    }
   ],
   "source": [
    "# Converting Dates into a Datetime Format\n",
    "btc_df[\"Date\"] = pd.to_datetime(btc_df.Date)\n",
    "btc_df.dtypes"
   ]
  },
  {
   "cell_type": "code",
   "execution_count": 5,
   "id": "d7bcad6b",
   "metadata": {},
   "outputs": [
    {
     "data": {
      "text/html": [
       "<div>\n",
       "<style scoped>\n",
       "    .dataframe tbody tr th:only-of-type {\n",
       "        vertical-align: middle;\n",
       "    }\n",
       "\n",
       "    .dataframe tbody tr th {\n",
       "        vertical-align: top;\n",
       "    }\n",
       "\n",
       "    .dataframe thead th {\n",
       "        text-align: right;\n",
       "    }\n",
       "</style>\n",
       "<table border=\"1\" class=\"dataframe\">\n",
       "  <thead>\n",
       "    <tr style=\"text-align: right;\">\n",
       "      <th></th>\n",
       "      <th>Open</th>\n",
       "      <th>High</th>\n",
       "      <th>Low</th>\n",
       "      <th>Last</th>\n",
       "    </tr>\n",
       "    <tr>\n",
       "      <th>Date</th>\n",
       "      <th></th>\n",
       "      <th></th>\n",
       "      <th></th>\n",
       "      <th></th>\n",
       "    </tr>\n",
       "  </thead>\n",
       "  <tbody>\n",
       "    <tr>\n",
       "      <th>2020-11-09 03:00:00</th>\n",
       "      <td>15539.15</td>\n",
       "      <td>15588.37</td>\n",
       "      <td>15448.60</td>\n",
       "      <td>15479.00</td>\n",
       "    </tr>\n",
       "    <tr>\n",
       "      <th>2020-11-09 04:00:00</th>\n",
       "      <td>15483.44</td>\n",
       "      <td>15500.02</td>\n",
       "      <td>15398.99</td>\n",
       "      <td>15453.22</td>\n",
       "    </tr>\n",
       "    <tr>\n",
       "      <th>2020-11-09 05:00:00</th>\n",
       "      <td>15453.22</td>\n",
       "      <td>15459.15</td>\n",
       "      <td>15365.80</td>\n",
       "      <td>15369.90</td>\n",
       "    </tr>\n",
       "    <tr>\n",
       "      <th>2020-11-09 06:00:00</th>\n",
       "      <td>15403.11</td>\n",
       "      <td>15512.47</td>\n",
       "      <td>15319.21</td>\n",
       "      <td>15488.27</td>\n",
       "    </tr>\n",
       "    <tr>\n",
       "      <th>2020-11-09 07:00:00</th>\n",
       "      <td>15491.50</td>\n",
       "      <td>15492.00</td>\n",
       "      <td>15366.50</td>\n",
       "      <td>15400.57</td>\n",
       "    </tr>\n",
       "  </tbody>\n",
       "</table>\n",
       "</div>"
      ],
      "text/plain": [
       "                         Open      High       Low      Last\n",
       "Date                                                       \n",
       "2020-11-09 03:00:00  15539.15  15588.37  15448.60  15479.00\n",
       "2020-11-09 04:00:00  15483.44  15500.02  15398.99  15453.22\n",
       "2020-11-09 05:00:00  15453.22  15459.15  15365.80  15369.90\n",
       "2020-11-09 06:00:00  15403.11  15512.47  15319.21  15488.27\n",
       "2020-11-09 07:00:00  15491.50  15492.00  15366.50  15400.57"
      ]
     },
     "execution_count": 5,
     "metadata": {},
     "output_type": "execute_result"
    }
   ],
   "source": [
    "# Setting dates as the index\n",
    "btc_df.set_index('Date', inplace=True)\n",
    "btc_df.head()"
   ]
  },
  {
   "cell_type": "code",
   "execution_count": 6,
   "id": "205874e9",
   "metadata": {},
   "outputs": [
    {
     "data": {
      "text/html": [
       "<div>\n",
       "<style scoped>\n",
       "    .dataframe tbody tr th:only-of-type {\n",
       "        vertical-align: middle;\n",
       "    }\n",
       "\n",
       "    .dataframe tbody tr th {\n",
       "        vertical-align: top;\n",
       "    }\n",
       "\n",
       "    .dataframe thead th {\n",
       "        text-align: right;\n",
       "    }\n",
       "</style>\n",
       "<table border=\"1\" class=\"dataframe\">\n",
       "  <thead>\n",
       "    <tr style=\"text-align: right;\">\n",
       "      <th></th>\n",
       "      <th>Open</th>\n",
       "      <th>High</th>\n",
       "      <th>Low</th>\n",
       "      <th>Last</th>\n",
       "    </tr>\n",
       "    <tr>\n",
       "      <th>Date</th>\n",
       "      <th></th>\n",
       "      <th></th>\n",
       "      <th></th>\n",
       "      <th></th>\n",
       "    </tr>\n",
       "  </thead>\n",
       "  <tbody>\n",
       "    <tr>\n",
       "      <th>2020-11-09 03:00:00</th>\n",
       "      <td>15539.15</td>\n",
       "      <td>15588.37</td>\n",
       "      <td>15448.60</td>\n",
       "      <td>15479.00</td>\n",
       "    </tr>\n",
       "    <tr>\n",
       "      <th>2020-11-09 04:00:00</th>\n",
       "      <td>15483.44</td>\n",
       "      <td>15500.02</td>\n",
       "      <td>15398.99</td>\n",
       "      <td>15453.22</td>\n",
       "    </tr>\n",
       "    <tr>\n",
       "      <th>2020-11-09 05:00:00</th>\n",
       "      <td>15453.22</td>\n",
       "      <td>15459.15</td>\n",
       "      <td>15365.80</td>\n",
       "      <td>15369.90</td>\n",
       "    </tr>\n",
       "    <tr>\n",
       "      <th>2020-11-09 06:00:00</th>\n",
       "      <td>15403.11</td>\n",
       "      <td>15512.47</td>\n",
       "      <td>15319.21</td>\n",
       "      <td>15488.27</td>\n",
       "    </tr>\n",
       "    <tr>\n",
       "      <th>2020-11-09 07:00:00</th>\n",
       "      <td>15491.50</td>\n",
       "      <td>15492.00</td>\n",
       "      <td>15366.50</td>\n",
       "      <td>15400.57</td>\n",
       "    </tr>\n",
       "  </tbody>\n",
       "</table>\n",
       "</div>"
      ],
      "text/plain": [
       "                         Open      High       Low      Last\n",
       "Date                                                       \n",
       "2020-11-09 03:00:00  15539.15  15588.37  15448.60  15479.00\n",
       "2020-11-09 04:00:00  15483.44  15500.02  15398.99  15453.22\n",
       "2020-11-09 05:00:00  15453.22  15459.15  15365.80  15369.90\n",
       "2020-11-09 06:00:00  15403.11  15512.47  15319.21  15488.27\n",
       "2020-11-09 07:00:00  15491.50  15492.00  15366.50  15400.57"
      ]
     },
     "execution_count": 6,
     "metadata": {},
     "output_type": "execute_result"
    }
   ],
   "source": [
    "# Selecting only the Closing Price as well as the dates starting from January 2017.\n",
    "# This is the time when Bitcoin and Cryptocurrency in general started to become popular to trade and is \n",
    "# probably a better representation of current crypto trading trends.\n",
    "\n",
    "btc_df = btc_df.loc['2020-11-09':]\n",
    "btc_df.head()"
   ]
  },
  {
   "cell_type": "code",
   "execution_count": 7,
   "id": "802ef355",
   "metadata": {},
   "outputs": [
    {
     "name": "stdout",
     "output_type": "stream",
     "text": [
      "<class 'pandas.core.frame.DataFrame'>\n",
      "DatetimeIndex: 8747 entries, 2020-11-09 03:00:00 to 2021-11-09 03:00:00\n",
      "Data columns (total 4 columns):\n",
      " #   Column  Non-Null Count  Dtype  \n",
      "---  ------  --------------  -----  \n",
      " 0   Open    8747 non-null   float64\n",
      " 1   High    8747 non-null   float64\n",
      " 2   Low     8747 non-null   float64\n",
      " 3   Last    8747 non-null   float64\n",
      "dtypes: float64(4)\n",
      "memory usage: 341.7 KB\n",
      "None\n"
     ]
    }
   ],
   "source": [
    "print(btc_df.info())"
   ]
  },
  {
   "cell_type": "code",
   "execution_count": 8,
   "id": "02b1272c",
   "metadata": {},
   "outputs": [
    {
     "data": {
      "image/png": "[encoded data removed]",
      "text/plain": [
       "<Figure size 1152x360 with 1 Axes>"
      ]
     },
     "metadata": {
      "needs_background": "light"
     },
     "output_type": "display_data"
    }
   ],
   "source": [
    "# Plotting Bitcoin's Historical Prices\n",
    "btc_df['Last'].plot(figsize=(16,5))\n",
    "\n",
    "plt.xlabel('Date')\n",
    "plt.ylabel('Price in USD')\n",
    "plt.title('Bitcoin Price')\n",
    "plt.savefig('btcprice.png')\n",
    "\n",
    "\n",
    "plt.show()"
   ]
  },
  {
   "cell_type": "code",
   "execution_count": 9,
   "id": "11f0e84c",
   "metadata": {},
   "outputs": [
    {
     "data": {
      "text/html": [
       "<div>\n",
       "<style scoped>\n",
       "    .dataframe tbody tr th:only-of-type {\n",
       "        vertical-align: middle;\n",
       "    }\n",
       "\n",
       "    .dataframe tbody tr th {\n",
       "        vertical-align: top;\n",
       "    }\n",
       "\n",
       "    .dataframe thead th {\n",
       "        text-align: right;\n",
       "    }\n",
       "</style>\n",
       "<table border=\"1\" class=\"dataframe\">\n",
       "  <thead>\n",
       "    <tr style=\"text-align: right;\">\n",
       "      <th></th>\n",
       "      <th>Open</th>\n",
       "      <th>High</th>\n",
       "      <th>Low</th>\n",
       "    </tr>\n",
       "    <tr>\n",
       "      <th>Date</th>\n",
       "      <th></th>\n",
       "      <th></th>\n",
       "      <th></th>\n",
       "    </tr>\n",
       "  </thead>\n",
       "  <tbody>\n",
       "    <tr>\n",
       "      <th>2020-11-09 03:00:00</th>\n",
       "      <td>15539.15</td>\n",
       "      <td>15588.37</td>\n",
       "      <td>15448.60</td>\n",
       "    </tr>\n",
       "    <tr>\n",
       "      <th>2020-11-09 04:00:00</th>\n",
       "      <td>15483.44</td>\n",
       "      <td>15500.02</td>\n",
       "      <td>15398.99</td>\n",
       "    </tr>\n",
       "    <tr>\n",
       "      <th>2020-11-09 05:00:00</th>\n",
       "      <td>15453.22</td>\n",
       "      <td>15459.15</td>\n",
       "      <td>15365.80</td>\n",
       "    </tr>\n",
       "    <tr>\n",
       "      <th>2020-11-09 06:00:00</th>\n",
       "      <td>15403.11</td>\n",
       "      <td>15512.47</td>\n",
       "      <td>15319.21</td>\n",
       "    </tr>\n",
       "    <tr>\n",
       "      <th>2020-11-09 07:00:00</th>\n",
       "      <td>15491.50</td>\n",
       "      <td>15492.00</td>\n",
       "      <td>15366.50</td>\n",
       "    </tr>\n",
       "  </tbody>\n",
       "</table>\n",
       "</div>"
      ],
      "text/plain": [
       "                         Open      High       Low\n",
       "Date                                             \n",
       "2020-11-09 03:00:00  15539.15  15588.37  15448.60\n",
       "2020-11-09 04:00:00  15483.44  15500.02  15398.99\n",
       "2020-11-09 05:00:00  15453.22  15459.15  15365.80\n",
       "2020-11-09 06:00:00  15403.11  15512.47  15319.21\n",
       "2020-11-09 07:00:00  15491.50  15492.00  15366.50"
      ]
     },
     "execution_count": 9,
     "metadata": {},
     "output_type": "execute_result"
    }
   ],
   "source": [
    "# Define the features set.\n",
    "X = btc_df.copy()\n",
    "X = X.drop(\"Last\", axis=1)\n",
    "X.head()"
   ]
  },
  {
   "cell_type": "code",
   "execution_count": 10,
   "id": "a3a1d36f",
   "metadata": {},
   "outputs": [
    {
     "data": {
      "text/plain": [
       "array([15479.  , 15453.22, 15369.9 , 15488.27, 15400.57])"
      ]
     },
     "execution_count": 10,
     "metadata": {},
     "output_type": "execute_result"
    }
   ],
   "source": [
    "# Define the target set.\n",
    "y = btc_df[\"Last\"].ravel()\n",
    "y[:5]"
   ]
  },
  {
   "cell_type": "markdown",
   "id": "1d987fab",
   "metadata": {},
   "source": [
    "The most important variables will be studied, trying to determine which independent variables have the greatest effect on the model:"
   ]
  },
  {
   "cell_type": "code",
   "execution_count": 11,
   "id": "0e009379",
   "metadata": {},
   "outputs": [
    {
     "data": {
      "text/html": [
       "<div>\n",
       "<style scoped>\n",
       "    .dataframe tbody tr th:only-of-type {\n",
       "        vertical-align: middle;\n",
       "    }\n",
       "\n",
       "    .dataframe tbody tr th {\n",
       "        vertical-align: top;\n",
       "    }\n",
       "\n",
       "    .dataframe thead th {\n",
       "        text-align: right;\n",
       "    }\n",
       "</style>\n",
       "<table border=\"1\" class=\"dataframe\">\n",
       "  <thead>\n",
       "    <tr style=\"text-align: right;\">\n",
       "      <th></th>\n",
       "      <th>Open</th>\n",
       "      <th>High</th>\n",
       "      <th>Low</th>\n",
       "      <th>Last</th>\n",
       "    </tr>\n",
       "  </thead>\n",
       "  <tbody>\n",
       "    <tr>\n",
       "      <th>Open</th>\n",
       "      <td>1.000000</td>\n",
       "      <td>0.999773</td>\n",
       "      <td>0.999630</td>\n",
       "      <td>0.999549</td>\n",
       "    </tr>\n",
       "    <tr>\n",
       "      <th>High</th>\n",
       "      <td>0.999773</td>\n",
       "      <td>1.000000</td>\n",
       "      <td>0.999472</td>\n",
       "      <td>0.999761</td>\n",
       "    </tr>\n",
       "    <tr>\n",
       "      <th>Low</th>\n",
       "      <td>0.999630</td>\n",
       "      <td>0.999472</td>\n",
       "      <td>1.000000</td>\n",
       "      <td>0.999691</td>\n",
       "    </tr>\n",
       "    <tr>\n",
       "      <th>Last</th>\n",
       "      <td>0.999549</td>\n",
       "      <td>0.999761</td>\n",
       "      <td>0.999691</td>\n",
       "      <td>1.000000</td>\n",
       "    </tr>\n",
       "  </tbody>\n",
       "</table>\n",
       "</div>"
      ],
      "text/plain": [
       "          Open      High       Low      Last\n",
       "Open  1.000000  0.999773  0.999630  0.999549\n",
       "High  0.999773  1.000000  0.999472  0.999761\n",
       "Low   0.999630  0.999472  1.000000  0.999691\n",
       "Last  0.999549  0.999761  0.999691  1.000000"
      ]
     },
     "execution_count": 11,
     "metadata": {},
     "output_type": "execute_result"
    }
   ],
   "source": [
    "# Correlation among variables\n",
    "btc_df.corr()"
   ]
  },
  {
   "cell_type": "code",
   "execution_count": 12,
   "id": "73d78f2f",
   "metadata": {},
   "outputs": [
    {
     "data": {
      "text/html": [
       "<div>\n",
       "<style scoped>\n",
       "    .dataframe tbody tr th:only-of-type {\n",
       "        vertical-align: middle;\n",
       "    }\n",
       "\n",
       "    .dataframe tbody tr th {\n",
       "        vertical-align: top;\n",
       "    }\n",
       "\n",
       "    .dataframe thead th {\n",
       "        text-align: right;\n",
       "    }\n",
       "</style>\n",
       "<table border=\"1\" class=\"dataframe\">\n",
       "  <thead>\n",
       "    <tr style=\"text-align: right;\">\n",
       "      <th></th>\n",
       "      <th>Open</th>\n",
       "      <th>High</th>\n",
       "      <th>Low</th>\n",
       "      <th>Last</th>\n",
       "    </tr>\n",
       "  </thead>\n",
       "  <tbody>\n",
       "    <tr>\n",
       "      <th>count</th>\n",
       "      <td>8747.000000</td>\n",
       "      <td>8747.000000</td>\n",
       "      <td>8747.000000</td>\n",
       "      <td>8747.000000</td>\n",
       "    </tr>\n",
       "    <tr>\n",
       "      <th>mean</th>\n",
       "      <td>42501.301817</td>\n",
       "      <td>42785.736910</td>\n",
       "      <td>42192.235314</td>\n",
       "      <td>42506.951234</td>\n",
       "    </tr>\n",
       "    <tr>\n",
       "      <th>std</th>\n",
       "      <td>13065.272789</td>\n",
       "      <td>13120.279349</td>\n",
       "      <td>13012.562571</td>\n",
       "      <td>13064.620093</td>\n",
       "    </tr>\n",
       "    <tr>\n",
       "      <th>min</th>\n",
       "      <td>15010.000000</td>\n",
       "      <td>15142.560000</td>\n",
       "      <td>14818.000000</td>\n",
       "      <td>15010.000000</td>\n",
       "    </tr>\n",
       "    <tr>\n",
       "      <th>25%</th>\n",
       "      <td>33786.010000</td>\n",
       "      <td>34035.010000</td>\n",
       "      <td>33518.060000</td>\n",
       "      <td>33790.055000</td>\n",
       "    </tr>\n",
       "    <tr>\n",
       "      <th>50%</th>\n",
       "      <td>43740.500000</td>\n",
       "      <td>44108.010000</td>\n",
       "      <td>43435.100000</td>\n",
       "      <td>43756.570000</td>\n",
       "    </tr>\n",
       "    <tr>\n",
       "      <th>75%</th>\n",
       "      <td>54180.475000</td>\n",
       "      <td>54538.920000</td>\n",
       "      <td>53773.650000</td>\n",
       "      <td>54187.225000</td>\n",
       "    </tr>\n",
       "    <tr>\n",
       "      <th>max</th>\n",
       "      <td>67634.200000</td>\n",
       "      <td>67833.970000</td>\n",
       "      <td>67364.940000</td>\n",
       "      <td>67658.020000</td>\n",
       "    </tr>\n",
       "  </tbody>\n",
       "</table>\n",
       "</div>"
      ],
      "text/plain": [
       "               Open          High           Low          Last\n",
       "count   8747.000000   8747.000000   8747.000000   8747.000000\n",
       "mean   42501.301817  42785.736910  42192.235314  42506.951234\n",
       "std    13065.272789  13120.279349  13012.562571  13064.620093\n",
       "min    15010.000000  15142.560000  14818.000000  15010.000000\n",
       "25%    33786.010000  34035.010000  33518.060000  33790.055000\n",
       "50%    43740.500000  44108.010000  43435.100000  43756.570000\n",
       "75%    54180.475000  54538.920000  53773.650000  54187.225000\n",
       "max    67634.200000  67833.970000  67364.940000  67658.020000"
      ]
     },
     "execution_count": 12,
     "metadata": {},
     "output_type": "execute_result"
    }
   ],
   "source": [
    "# Data analysis\n",
    "btc_df.describe()"
   ]
  },
  {
   "cell_type": "code",
   "execution_count": 13,
   "id": "d25522bd",
   "metadata": {},
   "outputs": [],
   "source": [
    "# Split the data into 80% train and 20% test\n",
    "X_train, X_test, y_train, y_test = train_test_split(X, y, test_size=0.2, random_state=78, shuffle=False)"
   ]
  },
  {
   "cell_type": "code",
   "execution_count": 14,
   "id": "f4e99e20",
   "metadata": {},
   "outputs": [
    {
     "name": "stdout",
     "output_type": "stream",
     "text": [
      "Training Features Shape (6997, 3)\n",
      "Training Labels Shape (6997,)\n",
      "Training Features Shape (1750, 3)\n",
      "Training Labels Shape (1750,)\n"
     ]
    }
   ],
   "source": [
    "print('Training Features Shape', X_train.shape)\n",
    "print('Training Labels Shape', y_train.shape)\n",
    "print('Training Features Shape', X_test.shape)\n",
    "print('Training Labels Shape', y_test.shape)"
   ]
  },
  {
   "cell_type": "code",
   "execution_count": 15,
   "id": "837f564c",
   "metadata": {},
   "outputs": [],
   "source": [
    "# RMSE and print_score functions to calculate RMSE and check R^2 on the two sets\n",
    "def rmse(x,y): return math.sqrt(((x-y)**2).mean())\n",
    "def print_score(m):\n",
    "    res = [rmse(m.predict(X_train), y_train),\n",
    "          rmse(m.predict(X_test), y_test),\n",
    "              m.score(X_train, y_train),\n",
    "              m.score(X_test, y_test)]\n",
    "    print(f\"RMSE train set: {res[0]} \\nRMSE test set: {res[1]} \\nR^2 train set: {res[2]} \\nR^2 test set: {res[3]}\")"
   ]
  },
  {
   "cell_type": "code",
   "execution_count": 16,
   "id": "89f4568d",
   "metadata": {},
   "outputs": [],
   "source": [
    "# Creation of the model\n",
    "# Se crea este primer modelo con parámetros por default excepto random_state\n",
    "btc_model = RandomForestRegressor(random_state=78)"
   ]
  },
  {
   "cell_type": "code",
   "execution_count": 17,
   "id": "3db811ae",
   "metadata": {},
   "outputs": [
    {
     "data": {
      "text/plain": [
       "RandomForestRegressor(random_state=78)"
      ]
     },
     "execution_count": 17,
     "metadata": {},
     "output_type": "execute_result"
    }
   ],
   "source": [
    "# Fitting the model\n",
    "btc_model.fit(X_train, y_train)"
   ]
  },
  {
   "cell_type": "code",
   "execution_count": 18,
   "id": "c2bc9553",
   "metadata": {},
   "outputs": [
    {
     "name": "stdout",
     "output_type": "stream",
     "text": [
      "RMSE train set: 78.85479102789446 \n",
      "RMSE test set: 342.8933666008689 \n",
      "R^2 train set: 0.9999624008760989 \n",
      "R^2 test set: 0.997900191013612\n"
     ]
    }
   ],
   "source": [
    "print_score(btc_model)"
   ]
  },
  {
   "cell_type": "code",
   "execution_count": 19,
   "id": "5d855a43",
   "metadata": {},
   "outputs": [],
   "source": [
    "# The model is modified to obtain better results\n",
    "modified_btc_model = RandomForestRegressor(n_estimators=200, random_state=78)"
   ]
  },
  {
   "cell_type": "code",
   "execution_count": 20,
   "id": "5fe50e43",
   "metadata": {},
   "outputs": [
    {
     "data": {
      "text/plain": [
       "RandomForestRegressor(n_estimators=200, random_state=78)"
      ]
     },
     "execution_count": 20,
     "metadata": {},
     "output_type": "execute_result"
    }
   ],
   "source": [
    "modified_btc_model.fit(X_train, y_train)"
   ]
  },
  {
   "cell_type": "code",
   "execution_count": 21,
   "id": "b622051a",
   "metadata": {},
   "outputs": [
    {
     "name": "stdout",
     "output_type": "stream",
     "text": [
      "RMSE train set: 77.99636146139454 \n",
      "RMSE test set: 343.5462147028196 \n",
      "R^2 train set: 0.999963215043926 \n",
      "R^2 test set: 0.9978921875848008\n"
     ]
    }
   ],
   "source": [
    "print_score(modified_btc_model)"
   ]
  },
  {
   "cell_type": "code",
   "execution_count": 22,
   "id": "180a8ce2",
   "metadata": {},
   "outputs": [],
   "source": [
    "# Return MAE, MRSE, R^2, Adjusted R^2\n",
    "def reg_acc(y_true, y_pre):\n",
    "    return_var = []\n",
    "    from math import sqrt\n",
    "    rmse = sqrt(mean_squared_error(y_true,y_pre))\n",
    "    return_var.append(rmse)\n",
    "    print(\"RMSE: \",rmse)\n",
    "    r2 = r2_score(y_true,y_pre)\n",
    "    return_var.append(r2)\n",
    "    print(\"R2: \",r2)\n",
    "    mae = mean_absolute_error(y_true,y_pre)\n",
    "    return_var.append(mae)\n",
    "    print(\"MAE: \",mae)\n",
    "    \n",
    "    if 0 in y_true:\n",
    "        print(\"MAPE can not be calculated\")\n",
    "        return_var_append(0)\n",
    "    else:\n",
    "        mape = round(np.mean(np.abs((y_true - y_pre)/y_true))*100,4)\n",
    "        print(\"MAPE :\", mape)\n",
    "        print(\"=============================\")\n",
    "        print(\"Model Accuracy(%) :\", 100-mape)\n",
    "        return_var.append(mape)\n",
    "        return_var.append(100-mape)\n",
    "    return return_var\n"
   ]
  },
  {
   "cell_type": "code",
   "execution_count": 23,
   "id": "d31ca7d8",
   "metadata": {},
   "outputs": [
    {
     "name": "stdout",
     "output_type": "stream",
     "text": [
      "Tree Size: 10\n",
      "RMSE:  332.87792812710103\n",
      "R2:  0.9980210645783051\n",
      "MAE:  191.5012485714284\n",
      "MAPE : 0.3502\n",
      "=============================\n",
      "Model Accuracy(%) : 99.6498\n",
      "Tree Size: 20\n",
      "RMSE:  336.86755112910146\n",
      "R2:  0.997973344266495\n",
      "MAE:  188.71717571428564\n",
      "MAPE : 0.3446\n",
      "=============================\n",
      "Model Accuracy(%) : 99.6554\n",
      "Tree Size: 30\n",
      "RMSE:  344.77795292781474\n",
      "R2:  0.9978770459397838\n",
      "MAE:  190.5199819047622\n",
      "MAPE : 0.3472\n",
      "=============================\n",
      "Model Accuracy(%) : 99.6528\n",
      "Tree Size: 40\n",
      "RMSE:  342.0951239175366\n",
      "R2:  0.9979099561844078\n",
      "MAE:  190.04713357142901\n",
      "MAPE : 0.3466\n",
      "=============================\n",
      "Model Accuracy(%) : 99.6534\n",
      "Tree Size: 50\n",
      "RMSE:  342.73339106854917\n",
      "R2:  0.9979021498715689\n",
      "MAE:  189.47614537142937\n",
      "MAPE : 0.3451\n",
      "=============================\n",
      "Model Accuracy(%) : 99.6549\n",
      "Tree Size: 60\n",
      "RMSE:  341.7963134576937\n",
      "R2:  0.9979136057786676\n",
      "MAE:  188.61420752381062\n",
      "MAPE : 0.3435\n",
      "=============================\n",
      "Model Accuracy(%) : 99.6565\n",
      "Tree Size: 70\n",
      "RMSE:  341.7839854920233\n",
      "R2:  0.9979137562807735\n",
      "MAE:  188.8772378775526\n",
      "MAPE : 0.3442\n",
      "=============================\n",
      "Model Accuracy(%) : 99.6558\n",
      "Tree Size: 80\n",
      "RMSE:  342.3696406743704\n",
      "R2:  0.997906600496381\n",
      "MAE:  189.38822050000132\n",
      "MAPE : 0.3455\n",
      "=============================\n",
      "Model Accuracy(%) : 99.6545\n",
      "Tree Size: 90\n",
      "RMSE:  344.3650142344497\n",
      "R2:  0.9978821281957044\n",
      "MAE:  189.70450723809688\n",
      "MAPE : 0.3457\n",
      "=============================\n",
      "Model Accuracy(%) : 99.6543\n",
      "Tree Size: 100\n",
      "RMSE:  343.79210267920297\n",
      "R2:  0.9978891692356836\n",
      "MAE:  189.34895371428792\n",
      "MAPE : 0.3451\n",
      "=============================\n",
      "Model Accuracy(%) : 99.6549\n",
      "Tree Size: 110\n",
      "RMSE:  343.2892272286817\n",
      "R2:  0.9978953398756122\n",
      "MAE:  189.0646524155868\n",
      "MAPE : 0.3447\n",
      "=============================\n",
      "Model Accuracy(%) : 99.6553\n",
      "Tree Size: 120\n",
      "RMSE:  344.12575314100576\n",
      "R2:  0.9978850701222616\n",
      "MAE:  189.70079052381195\n",
      "MAPE : 0.3462\n",
      "=============================\n",
      "Model Accuracy(%) : 99.6538\n",
      "Tree Size: 130\n",
      "RMSE:  345.0138986668458\n",
      "R2:  0.9978741392959318\n",
      "MAE:  189.84093890110154\n",
      "MAPE : 0.3463\n",
      "=============================\n",
      "Model Accuracy(%) : 99.6537\n",
      "Tree Size: 140\n",
      "RMSE:  345.9808981525946\n",
      "R2:  0.9978622059386616\n",
      "MAE:  190.03385759183936\n",
      "MAPE : 0.3465\n",
      "=============================\n",
      "Model Accuracy(%) : 99.6535\n",
      "Tree Size: 150\n",
      "RMSE:  346.14880548848834\n",
      "R2:  0.9978601304575675\n",
      "MAE:  190.00637097143218\n",
      "MAPE : 0.3464\n",
      "=============================\n",
      "Model Accuracy(%) : 99.6536\n",
      "Tree Size: 160\n",
      "RMSE:  346.43030905635925\n",
      "R2:  0.9978566485686061\n",
      "MAE:  190.1196586428612\n",
      "MAPE : 0.3465\n",
      "=============================\n",
      "Model Accuracy(%) : 99.6535\n",
      "Tree Size: 170\n",
      "RMSE:  345.5578012358976\n",
      "R2:  0.9978674313197846\n",
      "MAE:  189.6025787226933\n",
      "MAPE : 0.3455\n",
      "=============================\n",
      "Model Accuracy(%) : 99.6545\n",
      "Tree Size: 180\n",
      "RMSE:  345.19006506514734\n",
      "R2:  0.9978719677843643\n",
      "MAE:  189.38008777778222\n",
      "MAPE : 0.3451\n",
      "=============================\n",
      "Model Accuracy(%) : 99.6549\n",
      "Tree Size: 190\n",
      "RMSE:  345.1228298076096\n",
      "R2:  0.9978727966892157\n",
      "MAE:  189.37200574436585\n",
      "MAPE : 0.345\n",
      "=============================\n",
      "Model Accuracy(%) : 99.655\n",
      "Tree Size: 200\n",
      "RMSE:  344.8844489745158\n",
      "R2:  0.9978757342484188\n",
      "MAE:  189.39026617143355\n",
      "MAPE : 0.3451\n",
      "=============================\n",
      "Model Accuracy(%) : 99.6549\n",
      "Tree Size: 210\n",
      "RMSE:  344.0684368675102\n",
      "R2:  0.9978857745729063\n",
      "MAE:  189.0617554285769\n",
      "MAPE : 0.3445\n",
      "=============================\n",
      "Model Accuracy(%) : 99.6555\n",
      "Tree Size: 220\n",
      "RMSE:  344.008674910053\n",
      "R2:  0.997886508957485\n",
      "MAE:  189.06788646753847\n",
      "MAPE : 0.3445\n",
      "=============================\n",
      "Model Accuracy(%) : 99.6555\n",
      "Tree Size: 230\n",
      "RMSE:  343.9785426568164\n",
      "R2:  0.9978868791891846\n",
      "MAE:  188.9611654409997\n",
      "MAPE : 0.3443\n",
      "=============================\n",
      "Model Accuracy(%) : 99.6557\n",
      "Tree Size: 240\n",
      "RMSE:  344.2767704994418\n",
      "R2:  0.9978832134683968\n",
      "MAE:  189.1654995714352\n",
      "MAPE : 0.3447\n",
      "=============================\n",
      "Model Accuracy(%) : 99.6553\n",
      "Tree Size: 250\n",
      "RMSE:  344.09186468308684\n",
      "R2:  0.9978854866454803\n",
      "MAE:  189.1524267657215\n",
      "MAPE : 0.3447\n",
      "=============================\n",
      "Model Accuracy(%) : 99.6553\n",
      "Tree Size: 260\n",
      "RMSE:  343.80269207227656\n",
      "R2:  0.9978890391991834\n",
      "MAE:  189.01552090110627\n",
      "MAPE : 0.3444\n",
      "=============================\n",
      "Model Accuracy(%) : 99.6556\n",
      "Tree Size: 270\n",
      "RMSE:  344.1628641223809\n",
      "R2:  0.9978846139439334\n",
      "MAE:  189.10812776720215\n",
      "MAPE : 0.3446\n",
      "=============================\n",
      "Model Accuracy(%) : 99.6554\n",
      "Tree Size: 280\n",
      "RMSE:  344.0852852047637\n",
      "R2:  0.9978855675091286\n",
      "MAE:  189.05252663265918\n",
      "MAPE : 0.3445\n",
      "=============================\n",
      "Model Accuracy(%) : 99.6555\n",
      "Tree Size: 290\n",
      "RMSE:  343.89634187310315\n",
      "R2:  0.9978878890163138\n",
      "MAE:  189.16395172414406\n",
      "MAPE : 0.3448\n",
      "=============================\n",
      "Model Accuracy(%) : 99.6552\n"
     ]
    }
   ],
   "source": [
    "# Lookinf for the best N estimators, parameters by default\n",
    "random_tree = [i*10 for i in range(1,30)]\n",
    "rmse, r_sq, mae, mape = [],[],[],[]\n",
    "for tree_size in random_tree:\n",
    "    print('Tree Size:', tree_size)\n",
    "    model = RandomForestRegressor(random_state=42, n_estimators=int(tree_size)).fit(X_train, y_train)\n",
    "    model.fit(X_train, y_train)\n",
    "    estimation = model.predict(X_test)\n",
    "    result = reg_acc(y_test, estimation)\n",
    "    rmse.append(result[0])\n",
    "    r_sq.append(result[1])\n",
    "    mae.append(result[2])\n",
    "    mape.append(result[3])"
   ]
  },
  {
   "cell_type": "code",
   "execution_count": 24,
   "id": "dcf6ee44",
   "metadata": {},
   "outputs": [
    {
     "data": {
      "text/plain": [
       "<AxesSubplot:title={'center':'RMSE'}, xlabel='Number of trees', ylabel='RMSE'>"
      ]
     },
     "execution_count": 24,
     "metadata": {},
     "output_type": "execute_result"
    },
    {
     "data": {
      "image/png": "[encoded data removed]",
      "text/plain": [
       "<Figure size 720x216 with 1 Axes>"
      ]
     },
     "metadata": {
      "needs_background": "light"
     },
     "output_type": "display_data"
    }
   ],
   "source": [
    "# The results can be seen graphically:\n",
    "plt.figure(figsize=(10,3))\n",
    "plt.title(\"RMSE\")\n",
    "plt.xlabel(\"Number of trees\")\n",
    "plt.ylabel(\"RMSE\")\n",
    "sns.lineplot(x=random_tree,y=rmse)"
   ]
  },
  {
   "cell_type": "code",
   "execution_count": 25,
   "id": "93bb1a37",
   "metadata": {},
   "outputs": [
    {
     "data": {
      "text/plain": [
       "<AxesSubplot:title={'center':'MAE'}, xlabel='Number of trees', ylabel='RMSE'>"
      ]
     },
     "execution_count": 25,
     "metadata": {},
     "output_type": "execute_result"
    },
    {
     "data": {
      "image/png": "[encoded data removed]",
      "text/plain": [
       "<Figure size 720x216 with 1 Axes>"
      ]
     },
     "metadata": {
      "needs_background": "light"
     },
     "output_type": "display_data"
    }
   ],
   "source": [
    "# The results can be seen graphically:\n",
    "plt.figure(figsize=(10,3))\n",
    "plt.title(\"MAE\")\n",
    "plt.xlabel(\"Number of trees\")\n",
    "plt.ylabel(\"RMSE\")\n",
    "sns.lineplot(x=random_tree,y=mae)"
   ]
  },
  {
   "cell_type": "code",
   "execution_count": 26,
   "id": "63000955",
   "metadata": {},
   "outputs": [
    {
     "data": {
      "text/plain": [
       "<AxesSubplot:title={'center':'MAPE'}, xlabel='Number of trees', ylabel='RMSE'>"
      ]
     },
     "execution_count": 26,
     "metadata": {},
     "output_type": "execute_result"
    },
    {
     "data": {
      "image/png": "[encoded data removed]",
      "text/plain": [
       "<Figure size 720x216 with 1 Axes>"
      ]
     },
     "metadata": {
      "needs_background": "light"
     },
     "output_type": "display_data"
    }
   ],
   "source": [
    "# The results can be seen graphically:\n",
    "plt.figure(figsize=(10,3))\n",
    "plt.title(\"MAPE\")\n",
    "plt.xlabel(\"Number of trees\")\n",
    "plt.ylabel(\"RMSE\")\n",
    "sns.lineplot(x=random_tree,y=mape)"
   ]
  },
  {
   "cell_type": "code",
   "execution_count": 27,
   "id": "68b3c5ed",
   "metadata": {},
   "outputs": [
    {
     "data": {
      "text/plain": [
       "<AxesSubplot:title={'center':'R2'}, xlabel='Number of trees', ylabel='RMSE'>"
      ]
     },
     "execution_count": 27,
     "metadata": {},
     "output_type": "execute_result"
    },
    {
     "data": {
      "image/png": "[encoded data removed]",
      "text/plain": [
       "<Figure size 720x216 with 1 Axes>"
      ]
     },
     "metadata": {
      "needs_background": "light"
     },
     "output_type": "display_data"
    }
   ],
   "source": [
    "# The results can be seen graphically:\n",
    "plt.figure(figsize=(10,3))\n",
    "plt.title(\"R2\")\n",
    "plt.xlabel(\"Number of trees\")\n",
    "plt.ylabel(\"RMSE\")\n",
    "sns.lineplot(x=random_tree,y=r_sq)"
   ]
  },
  {
   "cell_type": "code",
   "execution_count": null,
   "id": "93fd96fc",
   "metadata": {},
   "outputs": [
    {
     "name": "stdout",
     "output_type": "stream",
     "text": [
      "Depth Size: 1\n",
      "RMSE:  7251.087933038831\n",
      "R2:  0.06099486685749744\n",
      "MAE:  6619.79345986379\n",
      "MAPE : 12.5544\n",
      "=============================\n",
      "Model Accuracy(%) : 87.4456\n",
      "Depth Size: 2\n",
      "RMSE:  3582.24856883795\n",
      "R2:  0.7708219296133894\n",
      "MAE:  2968.7425864426796\n",
      "MAPE : 5.4996\n",
      "=============================\n",
      "Model Accuracy(%) : 94.5004\n",
      "Depth Size: 3\n",
      "RMSE:  2149.999227445787\n",
      "R2:  0.9174459791904069\n",
      "MAE:  1683.005737744454\n",
      "MAPE : 3.1054\n",
      "=============================\n",
      "Model Accuracy(%) : 96.8946\n",
      "Depth Size: 4\n",
      "RMSE:  992.3031485011011\n",
      "R2:  0.9824146765222205\n",
      "MAE:  698.8831319623542\n",
      "MAPE : 1.3012\n",
      "=============================\n",
      "Model Accuracy(%) : 98.6988\n",
      "Depth Size: 5\n",
      "RMSE:  621.4605191585824\n",
      "R2:  0.9931025476357562\n",
      "MAE:  348.5374089051703\n",
      "MAPE : 0.628\n",
      "=============================\n",
      "Model Accuracy(%) : 99.372\n",
      "Depth Size: 6\n"
     ]
    }
   ],
   "source": [
    "# Lookinf for the best N estimators, parameters by default\n",
    "depth_size = [i for i in range(1,30)]\n",
    "rmse, r_sq, mae, mape = [],[],[],[]\n",
    "for max_depth in depth_size:\n",
    "    print('Depth Size:', max_depth)\n",
    "    model = RandomForestRegressor(random_state=42, max_depth=int(max_depth)).fit(X_train, y_train)\n",
    "    model.fit(X_train, y_train)\n",
    "    estimation = model.predict(X_test)\n",
    "    result = reg_acc(y_test, estimation)\n",
    "    rmse.append(result[0])\n",
    "    r_sq.append(result[1])\n",
    "    mae.append(result[2])\n",
    "    mape.append(result[3])"
   ]
  },
  {
   "cell_type": "code",
   "execution_count": null,
   "id": "0a3fcefa",
   "metadata": {},
   "outputs": [],
   "source": [
    "# The results can be seen graphically:\n",
    "plt.figure(figsize=(10,3))\n",
    "plt.title(\"RMSE\")\n",
    "plt.xlabel(\"Number of trees\")\n",
    "plt.ylabel(\"RMSE\")\n",
    "sns.lineplot(x=depth_size,y=rmse)"
   ]
  },
  {
   "cell_type": "code",
   "execution_count": null,
   "id": "c07ffc2e",
   "metadata": {},
   "outputs": [],
   "source": [
    "plt.figure(figsize=(10,3))\n",
    "plt.title(\"MAPE\")\n",
    "plt.xlabel(\"Number of trees\")\n",
    "plt.ylabel(\"RMSE\")\n",
    "sns.lineplot(x=depth_size,y=mape)"
   ]
  },
  {
   "cell_type": "code",
   "execution_count": null,
   "id": "a2c64d6d",
   "metadata": {},
   "outputs": [],
   "source": [
    "plt.figure(figsize=(10,3))\n",
    "plt.title(\"R2\")\n",
    "plt.xlabel(\"Number of trees\")\n",
    "plt.ylabel(\"RMSE\")\n",
    "sns.lineplot(x=depth_size,y=r_sq)"
   ]
  },
  {
   "cell_type": "code",
   "execution_count": null,
   "id": "954e6344",
   "metadata": {},
   "outputs": [],
   "source": [
    "plt.figure(figsize=(10,3))\n",
    "plt.title(\"MAE\")\n",
    "plt.xlabel(\"Number of trees\")\n",
    "plt.ylabel(\"RMSE\")\n",
    "sns.lineplot(x=depth_size,y=mae)"
   ]
  },
  {
   "cell_type": "code",
   "execution_count": null,
   "id": "bd111f54",
   "metadata": {},
   "outputs": [],
   "source": [
    "# De todas las posibilidades la profundidad 22 y 10 árboles, ya que son los caos en los que se tiene menor RMSE y mayor R2,\n",
    "# con lo cual se obtiene un modelo en el que se busco minimizar los errores y maximizar el coeficiente de determinación."
   ]
  },
  {
   "cell_type": "code",
   "execution_count": null,
   "id": "8bd060d1",
   "metadata": {},
   "outputs": [],
   "source": [
    "# Definitive model\n",
    "definitive_btc_model = RandomForestRegressor(n_estimators=10, max_depth=6, random_state=78)"
   ]
  },
  {
   "cell_type": "code",
   "execution_count": null,
   "id": "bf3c3708",
   "metadata": {},
   "outputs": [],
   "source": [
    "definitive_btc_model.fit(X_train, y_train)"
   ]
  },
  {
   "cell_type": "code",
   "execution_count": null,
   "id": "fb5d5c81",
   "metadata": {},
   "outputs": [],
   "source": [
    "print_score(modified_btc_model)"
   ]
  },
  {
   "cell_type": "code",
   "execution_count": null,
   "id": "9683d906",
   "metadata": {},
   "outputs": [],
   "source": [
    "# Making predictions using the testing data.\n",
    "predictions = definitive_btc_model.predict(X_test)"
   ]
  },
  {
   "cell_type": "code",
   "execution_count": null,
   "id": "3a7c6260",
   "metadata": {},
   "outputs": [],
   "source": [
    "predictions"
   ]
  },
  {
   "cell_type": "code",
   "execution_count": null,
   "id": "0e180b33",
   "metadata": {},
   "outputs": [],
   "source": [
    "# Error de test del modelo definitivo inicial\n",
    "rmse = mean_squared_error(\n",
    "        y_true  = y_test,\n",
    "        y_pred  = predictions,\n",
    "        squared = False\n",
    "       )\n",
    "print(f\"El error (rmse) de test es: {rmse}\")"
   ]
  },
  {
   "cell_type": "code",
   "execution_count": null,
   "id": "da607daf",
   "metadata": {},
   "outputs": [],
   "source": [
    "ValueError: continuous is not supported"
   ]
  },
  {
   "cell_type": "code",
   "execution_count": null,
   "id": "9611ba18",
   "metadata": {},
   "outputs": [],
   "source": [
    "# Ajuste de hiperparámetros\n",
    "n_estimators = [int(x) for x in np.linspace(start = 10, stop = 500)]\n",
    "max_features = ['auto', 'sqrt', None]\n",
    "max_depth = [int(x) for x in np.linspace(5, 50, num = 45)]\n",
    "max_depth.append(None)\n",
    "min_samples_split = [2, 4, 6, 8, 10]\n",
    "min_samples_leaf = [1, 2, 4, 6, 8, 10, 12, 14, 16, 20, 25, 30]\n",
    "bootstrap = [True]\n",
    "random_grid = {'n_estimators': n_estimators,\n",
    "              'max_features': max_features,\n",
    "              'max_depht': max_depth,\n",
    "              'min_samples_split': min_samples_split,\n",
    "              'min_samples_leaf': min_samples_leaf,\n",
    "              'bootstrap': bootstrap}\n",
    "print(random_grid)"
   ]
  },
  {
   "cell_type": "code",
   "execution_count": null,
   "id": "fe1bd936",
   "metadata": {},
   "outputs": [],
   "source": [
    "from sklearn.model_selection import RandomizedSearchCV\n",
    "from sklearn.ensemble import RandomForestClassifier"
   ]
  },
  {
   "cell_type": "code",
   "execution_count": null,
   "id": "c8f0e35c",
   "metadata": {},
   "outputs": [],
   "source": [
    "# Use the random grid to search the best hyperparameters\n",
    "# rf_random = RandomizedSearchCV(RandomForestRegressor(random_state = 78), param_distributions = random_grid, n_iter = 100,\n",
    "                               # scoring='neg_mean_squared_error', n_jobs=-1, refit=True, cv=3, verbose=2, random_state=78, return_train_score=False)\n",
    "# rf_random.fit(X_train, y_train)"
   ]
  }
 ],
 "metadata": {
  "kernelspec": {
   "display_name": "Python 3",
   "language": "python",
   "name": "python3"
  },
  "language_info": {
   "codemirror_mode": {
    "name": "ipython",
    "version": 3
   },
   "file_extension": ".py",
   "mimetype": "text/x-python",
   "name": "python",
   "nbconvert_exporter": "python",
   "pygments_lexer": "ipython3",
   "version": "3.8.8"
  }
 },
 "nbformat": 4,
 "nbformat_minor": 5
}
