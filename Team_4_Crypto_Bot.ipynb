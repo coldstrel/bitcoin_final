{
 "cells": [
  {
   "cell_type": "markdown",
   "id": "316ee970",
   "metadata": {},
   "source": [
    "# Bot de inversion para cripto"
   ]
  },
  {
   "cell_type": "code",
   "execution_count": 1,
   "id": "d672e5c1",
   "metadata": {
    "ExecuteTime": {
     "end_time": "2021-11-03T23:39:38.097778Z",
     "start_time": "2021-11-03T23:39:38.093788Z"
    }
   },
   "outputs": [],
   "source": [
    "#!pip install yfinance\n",
    "#!pip install mpl_finance"
   ]
  },
  {
   "cell_type": "markdown",
   "id": "5722b21d",
   "metadata": {
    "heading_collapsed": true
   },
   "source": [
    "## import dependencies"
   ]
  },
  {
   "cell_type": "code",
   "execution_count": 47,
   "id": "6f0b9d69",
   "metadata": {
    "ExecuteTime": {
     "end_time": "2021-11-04T00:20:30.082035Z",
     "start_time": "2021-11-04T00:20:30.074057Z"
    },
    "hidden": true,
    "run_control": {
     "marked": true
    }
   },
   "outputs": [],
   "source": [
    "import os\n",
    "import pandas as pd\n",
    "import numpy as np\n",
    "from sklearn.linear_model import LinearRegression\n",
    "from sklearn.model_selection import train_test_split\n",
    "import matplotlib.pyplot as plt\n",
    "plt.style.use('fivethirtyeight')\n",
    "from datetime import datetime\n"
   ]
  },
  {
   "cell_type": "markdown",
   "id": "fb6dcca5",
   "metadata": {
    "heading_collapsed": true
   },
   "source": [
    "## Read File"
   ]
  },
  {
   "cell_type": "code",
   "execution_count": 3,
   "id": "f8345691",
   "metadata": {
    "ExecuteTime": {
     "end_time": "2021-11-03T23:39:41.207011Z",
     "start_time": "2021-11-03T23:39:41.161904Z"
    },
    "hidden": true
   },
   "outputs": [
    {
     "data": {
      "text/plain": [
       "(17439, 11)"
      ]
     },
     "execution_count": 3,
     "metadata": {},
     "output_type": "execute_result"
    }
   ],
   "source": [
    "file_to_open = os.path.join('Resources/BTCUSDT=BNNC.csv')\n",
    "BTC_data_complete_df = pd.read_csv(file_to_open)\n",
    "BTC_data_complete_df.shape"
   ]
  },
  {
   "cell_type": "code",
   "execution_count": 4,
   "id": "dc57ca13",
   "metadata": {
    "ExecuteTime": {
     "end_time": "2021-11-03T23:39:41.238170Z",
     "start_time": "2021-11-03T23:39:41.209059Z"
    },
    "hidden": true,
    "scrolled": false
   },
   "outputs": [
    {
     "data": {
      "text/html": [
       "<div>\n",
       "<style scoped>\n",
       "    .dataframe tbody tr th:only-of-type {\n",
       "        vertical-align: middle;\n",
       "    }\n",
       "\n",
       "    .dataframe tbody tr th {\n",
       "        vertical-align: top;\n",
       "    }\n",
       "\n",
       "    .dataframe thead th {\n",
       "        text-align: right;\n",
       "    }\n",
       "</style>\n",
       "<table border=\"1\" class=\"dataframe\">\n",
       "  <thead>\n",
       "    <tr style=\"text-align: right;\">\n",
       "      <th></th>\n",
       "      <th>Date (GMT)</th>\n",
       "      <th>Open</th>\n",
       "      <th>High</th>\n",
       "      <th>Low</th>\n",
       "      <th>Last</th>\n",
       "      <th>Volume</th>\n",
       "      <th>MACD</th>\n",
       "      <th>MACD Signal Line</th>\n",
       "      <th>BBandUp</th>\n",
       "      <th>BBandMid</th>\n",
       "      <th>BBandLow</th>\n",
       "    </tr>\n",
       "  </thead>\n",
       "  <tbody>\n",
       "    <tr>\n",
       "      <th>8112</th>\n",
       "      <td>4/18/2021 8:30</td>\n",
       "      <td>56132.38</td>\n",
       "      <td>56498.00</td>\n",
       "      <td>55659.47</td>\n",
       "      <td>56198.30</td>\n",
       "      <td>2559.2360</td>\n",
       "      <td>-1180.629118</td>\n",
       "      <td>-1191.550460</td>\n",
       "      <td>61214.00803</td>\n",
       "      <td>57228.48017</td>\n",
       "      <td>53242.95231</td>\n",
       "    </tr>\n",
       "    <tr>\n",
       "      <th>12293</th>\n",
       "      <td>7/15/2021 9:30</td>\n",
       "      <td>32376.50</td>\n",
       "      <td>32620.31</td>\n",
       "      <td>32332.54</td>\n",
       "      <td>32501.09</td>\n",
       "      <td>1060.3261</td>\n",
       "      <td>-76.524554</td>\n",
       "      <td>-45.235929</td>\n",
       "      <td>32939.55216</td>\n",
       "      <td>32592.89156</td>\n",
       "      <td>32246.23096</td>\n",
       "    </tr>\n",
       "    <tr>\n",
       "      <th>14315</th>\n",
       "      <td>8/26/2021 18:00</td>\n",
       "      <td>46969.69</td>\n",
       "      <td>47032.64</td>\n",
       "      <td>46891.25</td>\n",
       "      <td>46952.77</td>\n",
       "      <td>482.9296</td>\n",
       "      <td>-211.474248</td>\n",
       "      <td>-258.705573</td>\n",
       "      <td>47442.19323</td>\n",
       "      <td>47067.32856</td>\n",
       "      <td>46692.46389</td>\n",
       "    </tr>\n",
       "    <tr>\n",
       "      <th>7859</th>\n",
       "      <td>4/13/2021 2:00</td>\n",
       "      <td>60270.62</td>\n",
       "      <td>60780.26</td>\n",
       "      <td>60270.61</td>\n",
       "      <td>60637.69</td>\n",
       "      <td>2117.6550</td>\n",
       "      <td>68.081301</td>\n",
       "      <td>-2.353381</td>\n",
       "      <td>60614.63774</td>\n",
       "      <td>60135.76755</td>\n",
       "      <td>59656.89737</td>\n",
       "    </tr>\n",
       "    <tr>\n",
       "      <th>3578</th>\n",
       "      <td>1/13/2021 17:00</td>\n",
       "      <td>34459.10</td>\n",
       "      <td>34785.00</td>\n",
       "      <td>34388.53</td>\n",
       "      <td>34785.00</td>\n",
       "      <td>993.0511</td>\n",
       "      <td>148.627850</td>\n",
       "      <td>148.592827</td>\n",
       "      <td>34996.70309</td>\n",
       "      <td>34455.03566</td>\n",
       "      <td>33913.36823</td>\n",
       "    </tr>\n",
       "    <tr>\n",
       "      <th>9087</th>\n",
       "      <td>5/8/2021 22:00</td>\n",
       "      <td>58830.51</td>\n",
       "      <td>59098.99</td>\n",
       "      <td>58735.00</td>\n",
       "      <td>58794.29</td>\n",
       "      <td>945.4420</td>\n",
       "      <td>176.129039</td>\n",
       "      <td>194.699777</td>\n",
       "      <td>59575.79329</td>\n",
       "      <td>58791.65158</td>\n",
       "      <td>58007.50988</td>\n",
       "    </tr>\n",
       "    <tr>\n",
       "      <th>9970</th>\n",
       "      <td>5/28/2021 0:00</td>\n",
       "      <td>38418.00</td>\n",
       "      <td>38643.84</td>\n",
       "      <td>38279.10</td>\n",
       "      <td>38508.59</td>\n",
       "      <td>1001.9555</td>\n",
       "      <td>-131.003646</td>\n",
       "      <td>-59.699319</td>\n",
       "      <td>39907.77907</td>\n",
       "      <td>38856.51706</td>\n",
       "      <td>37805.25505</td>\n",
       "    </tr>\n",
       "    <tr>\n",
       "      <th>15195</th>\n",
       "      <td>9/14/2021 2:00</td>\n",
       "      <td>45240.69</td>\n",
       "      <td>45290.00</td>\n",
       "      <td>45101.68</td>\n",
       "      <td>45128.87</td>\n",
       "      <td>446.9970</td>\n",
       "      <td>106.455312</td>\n",
       "      <td>65.878087</td>\n",
       "      <td>45509.82100</td>\n",
       "      <td>44915.73191</td>\n",
       "      <td>44321.64282</td>\n",
       "    </tr>\n",
       "    <tr>\n",
       "      <th>5636</th>\n",
       "      <td>2/25/2021 16:30</td>\n",
       "      <td>50828.18</td>\n",
       "      <td>51370.18</td>\n",
       "      <td>50563.82</td>\n",
       "      <td>51081.80</td>\n",
       "      <td>1763.4895</td>\n",
       "      <td>315.479135</td>\n",
       "      <td>241.791031</td>\n",
       "      <td>52132.72722</td>\n",
       "      <td>50517.78137</td>\n",
       "      <td>48902.83552</td>\n",
       "    </tr>\n",
       "    <tr>\n",
       "      <th>6723</th>\n",
       "      <td>3/20/2021 10:00</td>\n",
       "      <td>58712.10</td>\n",
       "      <td>58899.00</td>\n",
       "      <td>58577.55</td>\n",
       "      <td>58780.03</td>\n",
       "      <td>966.8295</td>\n",
       "      <td>43.274206</td>\n",
       "      <td>-8.531813</td>\n",
       "      <td>58914.74646</td>\n",
       "      <td>58508.16654</td>\n",
       "      <td>58101.58661</td>\n",
       "    </tr>\n",
       "  </tbody>\n",
       "</table>\n",
       "</div>"
      ],
      "text/plain": [
       "            Date (GMT)      Open      High       Low      Last     Volume  \\\n",
       "8112    4/18/2021 8:30  56132.38  56498.00  55659.47  56198.30  2559.2360   \n",
       "12293   7/15/2021 9:30  32376.50  32620.31  32332.54  32501.09  1060.3261   \n",
       "14315  8/26/2021 18:00  46969.69  47032.64  46891.25  46952.77   482.9296   \n",
       "7859    4/13/2021 2:00  60270.62  60780.26  60270.61  60637.69  2117.6550   \n",
       "3578   1/13/2021 17:00  34459.10  34785.00  34388.53  34785.00   993.0511   \n",
       "9087    5/8/2021 22:00  58830.51  59098.99  58735.00  58794.29   945.4420   \n",
       "9970    5/28/2021 0:00  38418.00  38643.84  38279.10  38508.59  1001.9555   \n",
       "15195   9/14/2021 2:00  45240.69  45290.00  45101.68  45128.87   446.9970   \n",
       "5636   2/25/2021 16:30  50828.18  51370.18  50563.82  51081.80  1763.4895   \n",
       "6723   3/20/2021 10:00  58712.10  58899.00  58577.55  58780.03   966.8295   \n",
       "\n",
       "              MACD  MACD Signal Line      BBandUp     BBandMid     BBandLow  \n",
       "8112  -1180.629118      -1191.550460  61214.00803  57228.48017  53242.95231  \n",
       "12293   -76.524554        -45.235929  32939.55216  32592.89156  32246.23096  \n",
       "14315  -211.474248       -258.705573  47442.19323  47067.32856  46692.46389  \n",
       "7859     68.081301         -2.353381  60614.63774  60135.76755  59656.89737  \n",
       "3578    148.627850        148.592827  34996.70309  34455.03566  33913.36823  \n",
       "9087    176.129039        194.699777  59575.79329  58791.65158  58007.50988  \n",
       "9970   -131.003646        -59.699319  39907.77907  38856.51706  37805.25505  \n",
       "15195   106.455312         65.878087  45509.82100  44915.73191  44321.64282  \n",
       "5636    315.479135        241.791031  52132.72722  50517.78137  48902.83552  \n",
       "6723     43.274206         -8.531813  58914.74646  58508.16654  58101.58661  "
      ]
     },
     "execution_count": 4,
     "metadata": {},
     "output_type": "execute_result"
    }
   ],
   "source": [
    "# 10 sample rows\n",
    "BTC_data_complete_df.sample(10)"
   ]
  },
  {
   "cell_type": "markdown",
   "id": "2f0ac393",
   "metadata": {
    "heading_collapsed": true
   },
   "source": [
    "## code machine larning: Linear regresion"
   ]
  },
  {
   "cell_type": "code",
   "execution_count": 5,
   "id": "69d61bca",
   "metadata": {
    "ExecuteTime": {
     "end_time": "2021-11-03T23:39:41.254136Z",
     "start_time": "2021-11-03T23:39:41.240194Z"
    },
    "hidden": true
   },
   "outputs": [
    {
     "data": {
      "text/html": [
       "<div>\n",
       "<style scoped>\n",
       "    .dataframe tbody tr th:only-of-type {\n",
       "        vertical-align: middle;\n",
       "    }\n",
       "\n",
       "    .dataframe tbody tr th {\n",
       "        vertical-align: top;\n",
       "    }\n",
       "\n",
       "    .dataframe thead th {\n",
       "        text-align: right;\n",
       "    }\n",
       "</style>\n",
       "<table border=\"1\" class=\"dataframe\">\n",
       "  <thead>\n",
       "    <tr style=\"text-align: right;\">\n",
       "      <th></th>\n",
       "      <th>Last</th>\n",
       "    </tr>\n",
       "  </thead>\n",
       "  <tbody>\n",
       "    <tr>\n",
       "      <th>0</th>\n",
       "      <td>13553.09</td>\n",
       "    </tr>\n",
       "    <tr>\n",
       "      <th>1</th>\n",
       "      <td>13615.57</td>\n",
       "    </tr>\n",
       "    <tr>\n",
       "      <th>2</th>\n",
       "      <td>13560.10</td>\n",
       "    </tr>\n",
       "    <tr>\n",
       "      <th>3</th>\n",
       "      <td>13557.98</td>\n",
       "    </tr>\n",
       "    <tr>\n",
       "      <th>4</th>\n",
       "      <td>13615.06</td>\n",
       "    </tr>\n",
       "    <tr>\n",
       "      <th>5</th>\n",
       "      <td>13591.36</td>\n",
       "    </tr>\n",
       "    <tr>\n",
       "      <th>6</th>\n",
       "      <td>13636.14</td>\n",
       "    </tr>\n",
       "    <tr>\n",
       "      <th>7</th>\n",
       "      <td>13687.31</td>\n",
       "    </tr>\n",
       "    <tr>\n",
       "      <th>8</th>\n",
       "      <td>13611.71</td>\n",
       "    </tr>\n",
       "    <tr>\n",
       "      <th>9</th>\n",
       "      <td>13481.87</td>\n",
       "    </tr>\n",
       "    <tr>\n",
       "      <th>10</th>\n",
       "      <td>13491.55</td>\n",
       "    </tr>\n",
       "    <tr>\n",
       "      <th>11</th>\n",
       "      <td>13511.31</td>\n",
       "    </tr>\n",
       "    <tr>\n",
       "      <th>12</th>\n",
       "      <td>13515.37</td>\n",
       "    </tr>\n",
       "    <tr>\n",
       "      <th>13</th>\n",
       "      <td>13516.98</td>\n",
       "    </tr>\n",
       "  </tbody>\n",
       "</table>\n",
       "</div>"
      ],
      "text/plain": [
       "        Last\n",
       "0   13553.09\n",
       "1   13615.57\n",
       "2   13560.10\n",
       "3   13557.98\n",
       "4   13615.06\n",
       "5   13591.36\n",
       "6   13636.14\n",
       "7   13687.31\n",
       "8   13611.71\n",
       "9   13481.87\n",
       "10  13491.55\n",
       "11  13511.31\n",
       "12  13515.37\n",
       "13  13516.98"
      ]
     },
     "execution_count": 5,
     "metadata": {},
     "output_type": "execute_result"
    }
   ],
   "source": [
    "# showing only BTC price\n",
    "BTC_data_price_df = BTC_data_complete_df[['Last']]\n",
    "BTC_data_price_df.head(14)\n",
    "\n",
    "#consider changing last to price, i,e, last=price"
   ]
  },
  {
   "cell_type": "code",
   "execution_count": 6,
   "id": "bd325f90",
   "metadata": {
    "ExecuteTime": {
     "end_time": "2021-11-03T23:39:41.270092Z",
     "start_time": "2021-11-03T23:39:41.256142Z"
    },
    "hidden": true
   },
   "outputs": [
    {
     "data": {
      "text/html": [
       "<div>\n",
       "<style scoped>\n",
       "    .dataframe tbody tr th:only-of-type {\n",
       "        vertical-align: middle;\n",
       "    }\n",
       "\n",
       "    .dataframe tbody tr th {\n",
       "        vertical-align: top;\n",
       "    }\n",
       "\n",
       "    .dataframe thead th {\n",
       "        text-align: right;\n",
       "    }\n",
       "</style>\n",
       "<table border=\"1\" class=\"dataframe\">\n",
       "  <thead>\n",
       "    <tr style=\"text-align: right;\">\n",
       "      <th></th>\n",
       "      <th>Last</th>\n",
       "    </tr>\n",
       "  </thead>\n",
       "  <tbody>\n",
       "    <tr>\n",
       "      <th>17425</th>\n",
       "      <td>61277.78</td>\n",
       "    </tr>\n",
       "    <tr>\n",
       "      <th>17426</th>\n",
       "      <td>61256.42</td>\n",
       "    </tr>\n",
       "    <tr>\n",
       "      <th>17427</th>\n",
       "      <td>61359.91</td>\n",
       "    </tr>\n",
       "    <tr>\n",
       "      <th>17428</th>\n",
       "      <td>61410.63</td>\n",
       "    </tr>\n",
       "    <tr>\n",
       "      <th>17429</th>\n",
       "      <td>61454.42</td>\n",
       "    </tr>\n",
       "    <tr>\n",
       "      <th>17430</th>\n",
       "      <td>61560.92</td>\n",
       "    </tr>\n",
       "    <tr>\n",
       "      <th>17431</th>\n",
       "      <td>61499.99</td>\n",
       "    </tr>\n",
       "    <tr>\n",
       "      <th>17432</th>\n",
       "      <td>61725.56</td>\n",
       "    </tr>\n",
       "    <tr>\n",
       "      <th>17433</th>\n",
       "      <td>61943.96</td>\n",
       "    </tr>\n",
       "    <tr>\n",
       "      <th>17434</th>\n",
       "      <td>61642.12</td>\n",
       "    </tr>\n",
       "    <tr>\n",
       "      <th>17435</th>\n",
       "      <td>61525.43</td>\n",
       "    </tr>\n",
       "    <tr>\n",
       "      <th>17436</th>\n",
       "      <td>61440.00</td>\n",
       "    </tr>\n",
       "    <tr>\n",
       "      <th>17437</th>\n",
       "      <td>61386.59</td>\n",
       "    </tr>\n",
       "    <tr>\n",
       "      <th>17438</th>\n",
       "      <td>61584.51</td>\n",
       "    </tr>\n",
       "  </tbody>\n",
       "</table>\n",
       "</div>"
      ],
      "text/plain": [
       "           Last\n",
       "17425  61277.78\n",
       "17426  61256.42\n",
       "17427  61359.91\n",
       "17428  61410.63\n",
       "17429  61454.42\n",
       "17430  61560.92\n",
       "17431  61499.99\n",
       "17432  61725.56\n",
       "17433  61943.96\n",
       "17434  61642.12\n",
       "17435  61525.43\n",
       "17436  61440.00\n",
       "17437  61386.59\n",
       "17438  61584.51"
      ]
     },
     "execution_count": 6,
     "metadata": {},
     "output_type": "execute_result"
    }
   ],
   "source": [
    "BTC_data_price_df.tail(14)"
   ]
  },
  {
   "cell_type": "code",
   "execution_count": 7,
   "id": "77881f42",
   "metadata": {
    "ExecuteTime": {
     "end_time": "2021-11-03T23:39:41.286050Z",
     "start_time": "2021-11-03T23:39:41.273085Z"
    },
    "hidden": true
   },
   "outputs": [
    {
     "name": "stderr",
     "output_type": "stream",
     "text": [
      "<ipython-input-7-38f198fed041>:5: SettingWithCopyWarning: \n",
      "A value is trying to be set on a copy of a slice from a DataFrame.\n",
      "Try using .loc[row_indexer,col_indexer] = value instead\n",
      "\n",
      "See the caveats in the documentation: https://pandas.pydata.org/pandas-docs/stable/user_guide/indexing.html#returning-a-view-versus-a-copy\n",
      "  BTC_data_price_df['Prediction'] = BTC_data_price_df[['Last']].shift(-predict_days)\n"
     ]
    }
   ],
   "source": [
    "#  variable for predicting x number of days into the future\n",
    "predict_days = 14 #numer of days, then change this info to function\n",
    "\n",
    "# create another column shifted n units up\n",
    "BTC_data_price_df['Prediction'] = BTC_data_price_df[['Last']].shift(-predict_days)"
   ]
  },
  {
   "cell_type": "code",
   "execution_count": 8,
   "id": "fb071096",
   "metadata": {
    "ExecuteTime": {
     "end_time": "2021-11-03T23:39:41.302008Z",
     "start_time": "2021-11-03T23:39:41.288046Z"
    },
    "hidden": true
   },
   "outputs": [
    {
     "data": {
      "text/html": [
       "<div>\n",
       "<style scoped>\n",
       "    .dataframe tbody tr th:only-of-type {\n",
       "        vertical-align: middle;\n",
       "    }\n",
       "\n",
       "    .dataframe tbody tr th {\n",
       "        vertical-align: top;\n",
       "    }\n",
       "\n",
       "    .dataframe thead th {\n",
       "        text-align: right;\n",
       "    }\n",
       "</style>\n",
       "<table border=\"1\" class=\"dataframe\">\n",
       "  <thead>\n",
       "    <tr style=\"text-align: right;\">\n",
       "      <th></th>\n",
       "      <th>Last</th>\n",
       "      <th>Prediction</th>\n",
       "    </tr>\n",
       "  </thead>\n",
       "  <tbody>\n",
       "    <tr>\n",
       "      <th>0</th>\n",
       "      <td>13553.09</td>\n",
       "      <td>13473.27</td>\n",
       "    </tr>\n",
       "    <tr>\n",
       "      <th>1</th>\n",
       "      <td>13615.57</td>\n",
       "      <td>13528.49</td>\n",
       "    </tr>\n",
       "    <tr>\n",
       "      <th>2</th>\n",
       "      <td>13560.10</td>\n",
       "      <td>13612.04</td>\n",
       "    </tr>\n",
       "    <tr>\n",
       "      <th>3</th>\n",
       "      <td>13557.98</td>\n",
       "      <td>13562.91</td>\n",
       "    </tr>\n",
       "    <tr>\n",
       "      <th>4</th>\n",
       "      <td>13615.06</td>\n",
       "      <td>13576.14</td>\n",
       "    </tr>\n",
       "    <tr>\n",
       "      <th>5</th>\n",
       "      <td>13591.36</td>\n",
       "      <td>13818.01</td>\n",
       "    </tr>\n",
       "    <tr>\n",
       "      <th>6</th>\n",
       "      <td>13636.14</td>\n",
       "      <td>13739.95</td>\n",
       "    </tr>\n",
       "    <tr>\n",
       "      <th>7</th>\n",
       "      <td>13687.31</td>\n",
       "      <td>13740.65</td>\n",
       "    </tr>\n",
       "    <tr>\n",
       "      <th>8</th>\n",
       "      <td>13611.71</td>\n",
       "      <td>13893.22</td>\n",
       "    </tr>\n",
       "    <tr>\n",
       "      <th>9</th>\n",
       "      <td>13481.87</td>\n",
       "      <td>13754.99</td>\n",
       "    </tr>\n",
       "    <tr>\n",
       "      <th>10</th>\n",
       "      <td>13491.55</td>\n",
       "      <td>13821.00</td>\n",
       "    </tr>\n",
       "    <tr>\n",
       "      <th>11</th>\n",
       "      <td>13511.31</td>\n",
       "      <td>13852.74</td>\n",
       "    </tr>\n",
       "    <tr>\n",
       "      <th>12</th>\n",
       "      <td>13515.37</td>\n",
       "      <td>13940.12</td>\n",
       "    </tr>\n",
       "    <tr>\n",
       "      <th>13</th>\n",
       "      <td>13516.98</td>\n",
       "      <td>13894.18</td>\n",
       "    </tr>\n",
       "  </tbody>\n",
       "</table>\n",
       "</div>"
      ],
      "text/plain": [
       "        Last  Prediction\n",
       "0   13553.09    13473.27\n",
       "1   13615.57    13528.49\n",
       "2   13560.10    13612.04\n",
       "3   13557.98    13562.91\n",
       "4   13615.06    13576.14\n",
       "5   13591.36    13818.01\n",
       "6   13636.14    13739.95\n",
       "7   13687.31    13740.65\n",
       "8   13611.71    13893.22\n",
       "9   13481.87    13754.99\n",
       "10  13491.55    13821.00\n",
       "11  13511.31    13852.74\n",
       "12  13515.37    13940.12\n",
       "13  13516.98    13894.18"
      ]
     },
     "execution_count": 8,
     "metadata": {},
     "output_type": "execute_result"
    }
   ],
   "source": [
    "# show df with new column\n",
    "BTC_data_price_df.head(14)"
   ]
  },
  {
   "cell_type": "code",
   "execution_count": 9,
   "id": "ca050d05",
   "metadata": {
    "ExecuteTime": {
     "end_time": "2021-11-03T23:39:41.317965Z",
     "start_time": "2021-11-03T23:39:41.304003Z"
    },
    "hidden": true
   },
   "outputs": [
    {
     "data": {
      "text/html": [
       "<div>\n",
       "<style scoped>\n",
       "    .dataframe tbody tr th:only-of-type {\n",
       "        vertical-align: middle;\n",
       "    }\n",
       "\n",
       "    .dataframe tbody tr th {\n",
       "        vertical-align: top;\n",
       "    }\n",
       "\n",
       "    .dataframe thead th {\n",
       "        text-align: right;\n",
       "    }\n",
       "</style>\n",
       "<table border=\"1\" class=\"dataframe\">\n",
       "  <thead>\n",
       "    <tr style=\"text-align: right;\">\n",
       "      <th></th>\n",
       "      <th>Last</th>\n",
       "      <th>Prediction</th>\n",
       "    </tr>\n",
       "  </thead>\n",
       "  <tbody>\n",
       "    <tr>\n",
       "      <th>17424</th>\n",
       "      <td>61384.08</td>\n",
       "      <td>61584.51</td>\n",
       "    </tr>\n",
       "    <tr>\n",
       "      <th>17425</th>\n",
       "      <td>61277.78</td>\n",
       "      <td>NaN</td>\n",
       "    </tr>\n",
       "    <tr>\n",
       "      <th>17426</th>\n",
       "      <td>61256.42</td>\n",
       "      <td>NaN</td>\n",
       "    </tr>\n",
       "    <tr>\n",
       "      <th>17427</th>\n",
       "      <td>61359.91</td>\n",
       "      <td>NaN</td>\n",
       "    </tr>\n",
       "    <tr>\n",
       "      <th>17428</th>\n",
       "      <td>61410.63</td>\n",
       "      <td>NaN</td>\n",
       "    </tr>\n",
       "    <tr>\n",
       "      <th>17429</th>\n",
       "      <td>61454.42</td>\n",
       "      <td>NaN</td>\n",
       "    </tr>\n",
       "    <tr>\n",
       "      <th>17430</th>\n",
       "      <td>61560.92</td>\n",
       "      <td>NaN</td>\n",
       "    </tr>\n",
       "    <tr>\n",
       "      <th>17431</th>\n",
       "      <td>61499.99</td>\n",
       "      <td>NaN</td>\n",
       "    </tr>\n",
       "    <tr>\n",
       "      <th>17432</th>\n",
       "      <td>61725.56</td>\n",
       "      <td>NaN</td>\n",
       "    </tr>\n",
       "    <tr>\n",
       "      <th>17433</th>\n",
       "      <td>61943.96</td>\n",
       "      <td>NaN</td>\n",
       "    </tr>\n",
       "    <tr>\n",
       "      <th>17434</th>\n",
       "      <td>61642.12</td>\n",
       "      <td>NaN</td>\n",
       "    </tr>\n",
       "    <tr>\n",
       "      <th>17435</th>\n",
       "      <td>61525.43</td>\n",
       "      <td>NaN</td>\n",
       "    </tr>\n",
       "    <tr>\n",
       "      <th>17436</th>\n",
       "      <td>61440.00</td>\n",
       "      <td>NaN</td>\n",
       "    </tr>\n",
       "    <tr>\n",
       "      <th>17437</th>\n",
       "      <td>61386.59</td>\n",
       "      <td>NaN</td>\n",
       "    </tr>\n",
       "    <tr>\n",
       "      <th>17438</th>\n",
       "      <td>61584.51</td>\n",
       "      <td>NaN</td>\n",
       "    </tr>\n",
       "  </tbody>\n",
       "</table>\n",
       "</div>"
      ],
      "text/plain": [
       "           Last  Prediction\n",
       "17424  61384.08    61584.51\n",
       "17425  61277.78         NaN\n",
       "17426  61256.42         NaN\n",
       "17427  61359.91         NaN\n",
       "17428  61410.63         NaN\n",
       "17429  61454.42         NaN\n",
       "17430  61560.92         NaN\n",
       "17431  61499.99         NaN\n",
       "17432  61725.56         NaN\n",
       "17433  61943.96         NaN\n",
       "17434  61642.12         NaN\n",
       "17435  61525.43         NaN\n",
       "17436  61440.00         NaN\n",
       "17437  61386.59         NaN\n",
       "17438  61584.51         NaN"
      ]
     },
     "execution_count": 9,
     "metadata": {},
     "output_type": "execute_result"
    }
   ],
   "source": [
    "# show last 5 rows of new dataset\n",
    "BTC_data_price_df.tail(15)"
   ]
  },
  {
   "cell_type": "code",
   "execution_count": 10,
   "id": "9c3a1a9d",
   "metadata": {
    "ExecuteTime": {
     "end_time": "2021-11-03T23:39:41.333921Z",
     "start_time": "2021-11-03T23:39:41.318964Z"
    },
    "hidden": true
   },
   "outputs": [
    {
     "name": "stdout",
     "output_type": "stream",
     "text": [
      "[[13553.09]\n",
      " [13615.57]\n",
      " [13560.1 ]\n",
      " ...\n",
      " [61180.87]\n",
      " [61302.12]\n",
      " [61384.08]]\n"
     ]
    }
   ],
   "source": [
    "# create independent dataset, convert the dataframe to a np array and drop prediction column\n",
    "a=np.array(BTC_data_price_df[['Last']])\n",
    "#remove the last n rows where n is the prediction days\n",
    "a=a[:-predict_days]\n",
    "print(a)"
   ]
  },
  {
   "cell_type": "code",
   "execution_count": 11,
   "id": "d8d25173",
   "metadata": {
    "ExecuteTime": {
     "end_time": "2021-11-03T23:39:41.349886Z",
     "start_time": "2021-11-03T23:39:41.334920Z"
    },
    "hidden": true
   },
   "outputs": [
    {
     "name": "stdout",
     "output_type": "stream",
     "text": [
      "[13473.27 13528.49 13612.04 ... 61440.   61386.59 61584.51]\n"
     ]
    }
   ],
   "source": [
    "# CREATE THE DEPENDENT DATA SET\n",
    "#CONVERT THE DF TO A NP ARRAY\n",
    "b = BTC_data_price_df['Prediction'].values\n",
    "\n",
    "#get all values except las n rows\n",
    "b = b[:-predict_days]\n",
    "print(b)"
   ]
  },
  {
   "cell_type": "code",
   "execution_count": 12,
   "id": "79129978",
   "metadata": {
    "ExecuteTime": {
     "end_time": "2021-11-03T23:39:41.364839Z",
     "start_time": "2021-11-03T23:39:41.350876Z"
    },
    "hidden": true
   },
   "outputs": [],
   "source": [
    "# split the data into 85% traning and 15% testing\n",
    "a_train, a_test, b_train, b_test = train_test_split(a,b, test_size = 0.15, shuffle = False)"
   ]
  },
  {
   "cell_type": "code",
   "execution_count": 13,
   "id": "76b74f96",
   "metadata": {
    "ExecuteTime": {
     "end_time": "2021-11-03T23:39:41.482143Z",
     "start_time": "2021-11-03T23:39:41.366835Z"
    },
    "hidden": true
   },
   "outputs": [
    {
     "data": {
      "text/plain": [
       "LinearRegression()"
      ]
     },
     "execution_count": 13,
     "metadata": {},
     "output_type": "execute_result"
    }
   ],
   "source": [
    "# create and train the model\n",
    "Lreg = LinearRegression()\n",
    "# train\n",
    "Lreg.fit(a_train,b_train)\n"
   ]
  },
  {
   "cell_type": "code",
   "execution_count": 14,
   "id": "675120b8",
   "metadata": {
    "ExecuteTime": {
     "end_time": "2021-11-03T23:39:41.497102Z",
     "start_time": "2021-11-03T23:39:41.483140Z"
    },
    "hidden": true
   },
   "outputs": [
    {
     "name": "stdout",
     "output_type": "stream",
     "text": [
      "LIN REG SIMILARITY: 0.9833544615908769\n"
     ]
    }
   ],
   "source": [
    "# test shows R^2 \n",
    "Lreg_similarity = Lreg.score(a_test,b_test)\n",
    "print('LIN REG SIMILARITY:', Lreg_similarity)"
   ]
  },
  {
   "cell_type": "code",
   "execution_count": 15,
   "id": "9deed59d",
   "metadata": {
    "ExecuteTime": {
     "end_time": "2021-11-03T23:39:41.513059Z",
     "start_time": "2021-11-03T23:39:41.499099Z"
    },
    "hidden": true
   },
   "outputs": [
    {
     "name": "stdout",
     "output_type": "stream",
     "text": [
      "[[61277.78]\n",
      " [61256.42]\n",
      " [61359.91]\n",
      " [61410.63]\n",
      " [61454.42]\n",
      " [61560.92]\n",
      " [61499.99]\n",
      " [61725.56]\n",
      " [61943.96]\n",
      " [61642.12]\n",
      " [61525.43]\n",
      " [61440.  ]\n",
      " [61386.59]\n",
      " [61584.51]]\n"
     ]
    }
   ],
   "source": [
    "# create variable a_projection and set equal to last 14 rows of original dataset\n",
    "a_projection = np.array(BTC_data_price_df[['Last']])[-predict_days:]\n",
    "print(a_projection)"
   ]
  },
  {
   "cell_type": "code",
   "execution_count": 16,
   "id": "5c8192a3",
   "metadata": {
    "ExecuteTime": {
     "end_time": "2021-11-03T23:39:41.528022Z",
     "start_time": "2021-11-03T23:39:41.514057Z"
    },
    "hidden": true
   },
   "outputs": [
    {
     "name": "stdout",
     "output_type": "stream",
     "text": [
      "[61224.03491417 61202.76232161 61305.82882928 61356.34127753\n",
      " 61399.95208409 61506.01627452 61445.3356067  61669.98254975\n",
      " 61887.48883322 61586.8839953  61470.67150346 61385.5910923\n",
      " 61332.39965182 61529.50974168]\n"
     ]
    }
   ],
   "source": [
    "# print lreg models predictions for next 14 days\n",
    "Lreg_predict = Lreg.predict(a_projection)\n",
    "print(Lreg_predict)"
   ]
  },
  {
   "cell_type": "code",
   "execution_count": 17,
   "id": "9ceea5a2",
   "metadata": {
    "ExecuteTime": {
     "end_time": "2021-11-03T23:39:41.558937Z",
     "start_time": "2021-11-03T23:39:41.530020Z"
    },
    "hidden": true
   },
   "outputs": [
    {
     "data": {
      "text/html": [
       "<div>\n",
       "<style scoped>\n",
       "    .dataframe tbody tr th:only-of-type {\n",
       "        vertical-align: middle;\n",
       "    }\n",
       "\n",
       "    .dataframe tbody tr th {\n",
       "        vertical-align: top;\n",
       "    }\n",
       "\n",
       "    .dataframe thead th {\n",
       "        text-align: right;\n",
       "    }\n",
       "</style>\n",
       "<table border=\"1\" class=\"dataframe\">\n",
       "  <thead>\n",
       "    <tr style=\"text-align: right;\">\n",
       "      <th></th>\n",
       "      <th>actual price</th>\n",
       "      <th>predicted price</th>\n",
       "    </tr>\n",
       "  </thead>\n",
       "  <tbody>\n",
       "    <tr>\n",
       "      <th>0</th>\n",
       "      <td>[61277.78]</td>\n",
       "      <td>61224.034914</td>\n",
       "    </tr>\n",
       "    <tr>\n",
       "      <th>1</th>\n",
       "      <td>[61256.42]</td>\n",
       "      <td>61202.762322</td>\n",
       "    </tr>\n",
       "    <tr>\n",
       "      <th>2</th>\n",
       "      <td>[61359.91]</td>\n",
       "      <td>61305.828829</td>\n",
       "    </tr>\n",
       "    <tr>\n",
       "      <th>3</th>\n",
       "      <td>[61410.63]</td>\n",
       "      <td>61356.341278</td>\n",
       "    </tr>\n",
       "    <tr>\n",
       "      <th>4</th>\n",
       "      <td>[61454.42]</td>\n",
       "      <td>61399.952084</td>\n",
       "    </tr>\n",
       "    <tr>\n",
       "      <th>5</th>\n",
       "      <td>[61560.92]</td>\n",
       "      <td>61506.016275</td>\n",
       "    </tr>\n",
       "    <tr>\n",
       "      <th>6</th>\n",
       "      <td>[61499.99]</td>\n",
       "      <td>61445.335607</td>\n",
       "    </tr>\n",
       "    <tr>\n",
       "      <th>7</th>\n",
       "      <td>[61725.56]</td>\n",
       "      <td>61669.982550</td>\n",
       "    </tr>\n",
       "    <tr>\n",
       "      <th>8</th>\n",
       "      <td>[61943.96]</td>\n",
       "      <td>61887.488833</td>\n",
       "    </tr>\n",
       "    <tr>\n",
       "      <th>9</th>\n",
       "      <td>[61642.12]</td>\n",
       "      <td>61586.883995</td>\n",
       "    </tr>\n",
       "    <tr>\n",
       "      <th>10</th>\n",
       "      <td>[61525.43]</td>\n",
       "      <td>61470.671503</td>\n",
       "    </tr>\n",
       "    <tr>\n",
       "      <th>11</th>\n",
       "      <td>[61440.0]</td>\n",
       "      <td>61385.591092</td>\n",
       "    </tr>\n",
       "    <tr>\n",
       "      <th>12</th>\n",
       "      <td>[61386.59]</td>\n",
       "      <td>61332.399652</td>\n",
       "    </tr>\n",
       "    <tr>\n",
       "      <th>13</th>\n",
       "      <td>[61584.51]</td>\n",
       "      <td>61529.509742</td>\n",
       "    </tr>\n",
       "  </tbody>\n",
       "</table>\n",
       "</div>"
      ],
      "text/plain": [
       "   actual price  predicted price\n",
       "0    [61277.78]     61224.034914\n",
       "1    [61256.42]     61202.762322\n",
       "2    [61359.91]     61305.828829\n",
       "3    [61410.63]     61356.341278\n",
       "4    [61454.42]     61399.952084\n",
       "5    [61560.92]     61506.016275\n",
       "6    [61499.99]     61445.335607\n",
       "7    [61725.56]     61669.982550\n",
       "8    [61943.96]     61887.488833\n",
       "9    [61642.12]     61586.883995\n",
       "10   [61525.43]     61470.671503\n",
       "11    [61440.0]     61385.591092\n",
       "12   [61386.59]     61332.399652\n",
       "13   [61584.51]     61529.509742"
      ]
     },
     "execution_count": 17,
     "metadata": {},
     "output_type": "execute_result"
    }
   ],
   "source": [
    "results_compare=zip(a_projection,Lreg_predict)\n",
    "results_df= pd.DataFrame(results_compare, columns = ['actual price', 'predicted price'])\n",
    "results_df"
   ]
  },
  {
   "cell_type": "code",
   "execution_count": 18,
   "id": "698e7f1b",
   "metadata": {
    "ExecuteTime": {
     "end_time": "2021-11-03T23:39:41.730959Z",
     "start_time": "2021-11-03T23:39:41.559937Z"
    },
    "hidden": true
   },
   "outputs": [
    {
     "data": {
      "text/plain": [
       "<matplotlib.collections.PathCollection at 0x275c4c64430>"
      ]
     },
     "execution_count": 18,
     "metadata": {},
     "output_type": "execute_result"
    },
    {
     "data": {
      "image/png": "[encoded data removed]",
      "text/plain": [
       "<Figure size 432x288 with 1 Axes>"
      ]
     },
     "metadata": {},
     "output_type": "display_data"
    }
   ],
   "source": [
    "plt.scatter(a, b, color=\"DarkGreen\" )"
   ]
  },
  {
   "cell_type": "code",
   "execution_count": 19,
   "id": "090ba9a9",
   "metadata": {
    "ExecuteTime": {
     "end_time": "2021-11-03T23:39:41.856809Z",
     "start_time": "2021-11-03T23:39:41.735462Z"
    },
    "hidden": true
   },
   "outputs": [
    {
     "data": {
      "text/plain": [
       "[<matplotlib.lines.Line2D at 0x275c571d130>]"
      ]
     },
     "execution_count": 19,
     "metadata": {},
     "output_type": "execute_result"
    },
    {
     "data": {
      "image/png": "[encoded data removed]",
      "text/plain": [
       "<Figure size 432x288 with 1 Axes>"
      ]
     },
     "metadata": {},
     "output_type": "display_data"
    }
   ],
   "source": [
    "plt.plot(a_projection,Lreg_predict, color='r')"
   ]
  },
  {
   "cell_type": "code",
   "execution_count": 20,
   "id": "c4dbc953",
   "metadata": {
    "ExecuteTime": {
     "end_time": "2021-11-03T23:39:41.981560Z",
     "start_time": "2021-11-03T23:39:41.860644Z"
    },
    "hidden": true
   },
   "outputs": [
    {
     "data": {
      "image/png": "[encoded data removed]",
      "text/plain": [
       "<Figure size 432x288 with 1 Axes>"
      ]
     },
     "metadata": {},
     "output_type": "display_data"
    }
   ],
   "source": [
    "plt.scatter(a, b, color=\"DarkGreen\" )\n",
    "plt.plot(a_projection,Lreg_predict, color='r')\n",
    "plt.show()"
   ]
  },
  {
   "cell_type": "code",
   "execution_count": null,
   "id": "c0724a4b",
   "metadata": {
    "ExecuteTime": {
     "end_time": "2021-11-03T20:53:55.969316Z",
     "start_time": "2021-11-03T20:53:55.966144Z"
    },
    "hidden": true
   },
   "outputs": [],
   "source": []
  },
  {
   "cell_type": "markdown",
   "id": "dbf34797",
   "metadata": {
    "heading_collapsed": true
   },
   "source": [
    "## MACD"
   ]
  },
  {
   "cell_type": "code",
   "execution_count": null,
   "id": "509f1159",
   "metadata": {
    "hidden": true
   },
   "outputs": [],
   "source": []
  },
  {
   "cell_type": "markdown",
   "id": "28d90b5c",
   "metadata": {
    "ExecuteTime": {
     "end_time": "2021-11-01T23:11:20.664523Z",
     "start_time": "2021-11-01T23:11:20.657117Z"
    },
    "heading_collapsed": true
   },
   "source": [
    "## BOLLINGER BANDS"
   ]
  },
  {
   "cell_type": "code",
   "execution_count": 99,
   "id": "7bf4e690",
   "metadata": {
    "ExecuteTime": {
     "end_time": "2021-11-04T01:59:25.947341Z",
     "start_time": "2021-11-04T01:59:24.668775Z"
    },
    "hidden": true
   },
   "outputs": [
    {
     "data": {
      "text/html": [
       "<div>\n",
       "<style scoped>\n",
       "    .dataframe tbody tr th:only-of-type {\n",
       "        vertical-align: middle;\n",
       "    }\n",
       "\n",
       "    .dataframe tbody tr th {\n",
       "        vertical-align: top;\n",
       "    }\n",
       "\n",
       "    .dataframe thead th {\n",
       "        text-align: right;\n",
       "    }\n",
       "</style>\n",
       "<table border=\"1\" class=\"dataframe\">\n",
       "  <thead>\n",
       "    <tr style=\"text-align: right;\">\n",
       "      <th></th>\n",
       "      <th>Date (GMT)</th>\n",
       "      <th>Open</th>\n",
       "      <th>High</th>\n",
       "      <th>Low</th>\n",
       "      <th>Last</th>\n",
       "      <th>Volume</th>\n",
       "      <th>MACD</th>\n",
       "      <th>MACD Signal Line</th>\n",
       "      <th>BBandUp</th>\n",
       "      <th>BBandMid</th>\n",
       "      <th>BBandLow</th>\n",
       "    </tr>\n",
       "  </thead>\n",
       "  <tbody>\n",
       "    <tr>\n",
       "      <th>2020-10-30 23:00:00</th>\n",
       "      <td>10/30/2020 23:00</td>\n",
       "      <td>13597.00</td>\n",
       "      <td>13600.00</td>\n",
       "      <td>13544.86</td>\n",
       "      <td>13553.09</td>\n",
       "      <td>480.6531</td>\n",
       "      <td>NaN</td>\n",
       "      <td>NaN</td>\n",
       "      <td>NaN</td>\n",
       "      <td>NaN</td>\n",
       "      <td>NaN</td>\n",
       "    </tr>\n",
       "    <tr>\n",
       "      <th>2020-10-30 23:30:00</th>\n",
       "      <td>10/30/2020 23:30</td>\n",
       "      <td>13553.09</td>\n",
       "      <td>13622.52</td>\n",
       "      <td>13553.09</td>\n",
       "      <td>13615.57</td>\n",
       "      <td>655.3268</td>\n",
       "      <td>NaN</td>\n",
       "      <td>NaN</td>\n",
       "      <td>NaN</td>\n",
       "      <td>NaN</td>\n",
       "      <td>NaN</td>\n",
       "    </tr>\n",
       "    <tr>\n",
       "      <th>2020-10-31 00:00:00</th>\n",
       "      <td>10/31/2020 0:00</td>\n",
       "      <td>13615.56</td>\n",
       "      <td>13637.00</td>\n",
       "      <td>13535.05</td>\n",
       "      <td>13560.10</td>\n",
       "      <td>778.9061</td>\n",
       "      <td>NaN</td>\n",
       "      <td>NaN</td>\n",
       "      <td>NaN</td>\n",
       "      <td>NaN</td>\n",
       "      <td>NaN</td>\n",
       "    </tr>\n",
       "    <tr>\n",
       "      <th>2020-10-31 00:30:00</th>\n",
       "      <td>10/31/2020 0:30</td>\n",
       "      <td>13560.10</td>\n",
       "      <td>13577.15</td>\n",
       "      <td>13511.45</td>\n",
       "      <td>13557.98</td>\n",
       "      <td>645.0756</td>\n",
       "      <td>NaN</td>\n",
       "      <td>NaN</td>\n",
       "      <td>NaN</td>\n",
       "      <td>NaN</td>\n",
       "      <td>NaN</td>\n",
       "    </tr>\n",
       "    <tr>\n",
       "      <th>2020-10-31 01:00:00</th>\n",
       "      <td>10/31/2020 1:00</td>\n",
       "      <td>13557.99</td>\n",
       "      <td>13648.00</td>\n",
       "      <td>13546.53</td>\n",
       "      <td>13615.06</td>\n",
       "      <td>1148.3320</td>\n",
       "      <td>NaN</td>\n",
       "      <td>NaN</td>\n",
       "      <td>NaN</td>\n",
       "      <td>NaN</td>\n",
       "      <td>NaN</td>\n",
       "    </tr>\n",
       "    <tr>\n",
       "      <th>2020-10-31 01:30:00</th>\n",
       "      <td>10/31/2020 1:30</td>\n",
       "      <td>13615.05</td>\n",
       "      <td>13657.16</td>\n",
       "      <td>13588.78</td>\n",
       "      <td>13591.36</td>\n",
       "      <td>861.6386</td>\n",
       "      <td>NaN</td>\n",
       "      <td>NaN</td>\n",
       "      <td>NaN</td>\n",
       "      <td>NaN</td>\n",
       "      <td>NaN</td>\n",
       "    </tr>\n",
       "    <tr>\n",
       "      <th>2020-10-31 02:00:00</th>\n",
       "      <td>10/31/2020 2:00</td>\n",
       "      <td>13591.35</td>\n",
       "      <td>13643.62</td>\n",
       "      <td>13571.30</td>\n",
       "      <td>13636.14</td>\n",
       "      <td>568.5373</td>\n",
       "      <td>NaN</td>\n",
       "      <td>NaN</td>\n",
       "      <td>NaN</td>\n",
       "      <td>NaN</td>\n",
       "      <td>NaN</td>\n",
       "    </tr>\n",
       "    <tr>\n",
       "      <th>2020-10-31 02:30:00</th>\n",
       "      <td>10/31/2020 2:30</td>\n",
       "      <td>13636.15</td>\n",
       "      <td>13740.00</td>\n",
       "      <td>13635.27</td>\n",
       "      <td>13687.31</td>\n",
       "      <td>1791.1294</td>\n",
       "      <td>NaN</td>\n",
       "      <td>NaN</td>\n",
       "      <td>NaN</td>\n",
       "      <td>NaN</td>\n",
       "      <td>NaN</td>\n",
       "    </tr>\n",
       "    <tr>\n",
       "      <th>2020-10-31 03:00:00</th>\n",
       "      <td>10/31/2020 3:00</td>\n",
       "      <td>13685.78</td>\n",
       "      <td>13717.05</td>\n",
       "      <td>13559.74</td>\n",
       "      <td>13611.71</td>\n",
       "      <td>1222.3967</td>\n",
       "      <td>NaN</td>\n",
       "      <td>NaN</td>\n",
       "      <td>NaN</td>\n",
       "      <td>NaN</td>\n",
       "      <td>NaN</td>\n",
       "    </tr>\n",
       "    <tr>\n",
       "      <th>2020-10-31 03:30:00</th>\n",
       "      <td>10/31/2020 3:30</td>\n",
       "      <td>13611.72</td>\n",
       "      <td>13621.95</td>\n",
       "      <td>13411.50</td>\n",
       "      <td>13481.87</td>\n",
       "      <td>2179.7335</td>\n",
       "      <td>NaN</td>\n",
       "      <td>NaN</td>\n",
       "      <td>NaN</td>\n",
       "      <td>NaN</td>\n",
       "      <td>NaN</td>\n",
       "    </tr>\n",
       "  </tbody>\n",
       "</table>\n",
       "</div>"
      ],
      "text/plain": [
       "                           Date (GMT)      Open      High       Low      Last  \\\n",
       "2020-10-30 23:00:00  10/30/2020 23:00  13597.00  13600.00  13544.86  13553.09   \n",
       "2020-10-30 23:30:00  10/30/2020 23:30  13553.09  13622.52  13553.09  13615.57   \n",
       "2020-10-31 00:00:00   10/31/2020 0:00  13615.56  13637.00  13535.05  13560.10   \n",
       "2020-10-31 00:30:00   10/31/2020 0:30  13560.10  13577.15  13511.45  13557.98   \n",
       "2020-10-31 01:00:00   10/31/2020 1:00  13557.99  13648.00  13546.53  13615.06   \n",
       "2020-10-31 01:30:00   10/31/2020 1:30  13615.05  13657.16  13588.78  13591.36   \n",
       "2020-10-31 02:00:00   10/31/2020 2:00  13591.35  13643.62  13571.30  13636.14   \n",
       "2020-10-31 02:30:00   10/31/2020 2:30  13636.15  13740.00  13635.27  13687.31   \n",
       "2020-10-31 03:00:00   10/31/2020 3:00  13685.78  13717.05  13559.74  13611.71   \n",
       "2020-10-31 03:30:00   10/31/2020 3:30  13611.72  13621.95  13411.50  13481.87   \n",
       "\n",
       "                        Volume  MACD  MACD Signal Line  BBandUp  BBandMid  \\\n",
       "2020-10-30 23:00:00   480.6531   NaN               NaN      NaN       NaN   \n",
       "2020-10-30 23:30:00   655.3268   NaN               NaN      NaN       NaN   \n",
       "2020-10-31 00:00:00   778.9061   NaN               NaN      NaN       NaN   \n",
       "2020-10-31 00:30:00   645.0756   NaN               NaN      NaN       NaN   \n",
       "2020-10-31 01:00:00  1148.3320   NaN               NaN      NaN       NaN   \n",
       "2020-10-31 01:30:00   861.6386   NaN               NaN      NaN       NaN   \n",
       "2020-10-31 02:00:00   568.5373   NaN               NaN      NaN       NaN   \n",
       "2020-10-31 02:30:00  1791.1294   NaN               NaN      NaN       NaN   \n",
       "2020-10-31 03:00:00  1222.3967   NaN               NaN      NaN       NaN   \n",
       "2020-10-31 03:30:00  2179.7335   NaN               NaN      NaN       NaN   \n",
       "\n",
       "                     BBandLow  \n",
       "2020-10-30 23:00:00       NaN  \n",
       "2020-10-30 23:30:00       NaN  \n",
       "2020-10-31 00:00:00       NaN  \n",
       "2020-10-31 00:30:00       NaN  \n",
       "2020-10-31 01:00:00       NaN  \n",
       "2020-10-31 01:30:00       NaN  \n",
       "2020-10-31 02:00:00       NaN  \n",
       "2020-10-31 02:30:00       NaN  \n",
       "2020-10-31 03:00:00       NaN  \n",
       "2020-10-31 03:30:00       NaN  "
      ]
     },
     "execution_count": 99,
     "metadata": {},
     "output_type": "execute_result"
    }
   ],
   "source": [
    "# from the complete data, set index to date\n",
    "BTC_data_complete_df = BTC_data_complete_df.\\\n",
    "set_index(pd.DatetimeIndex(BTC_data_complete_df['Date (GMT)'].values))\n",
    "BTC_data_complete_df.head(10)"
   ]
  },
  {
   "cell_type": "code",
   "execution_count": 22,
   "id": "8aef0ec5",
   "metadata": {
    "ExecuteTime": {
     "end_time": "2021-11-03T23:39:43.337666Z",
     "start_time": "2021-11-03T23:39:43.324682Z"
    },
    "code_folding": [],
    "hidden": true
   },
   "outputs": [
    {
     "data": {
      "text/html": [
       "<div>\n",
       "<style scoped>\n",
       "    .dataframe tbody tr th:only-of-type {\n",
       "        vertical-align: middle;\n",
       "    }\n",
       "\n",
       "    .dataframe tbody tr th {\n",
       "        vertical-align: top;\n",
       "    }\n",
       "\n",
       "    .dataframe thead th {\n",
       "        text-align: right;\n",
       "    }\n",
       "</style>\n",
       "<table border=\"1\" class=\"dataframe\">\n",
       "  <thead>\n",
       "    <tr style=\"text-align: right;\">\n",
       "      <th></th>\n",
       "      <th>Date (GMT)</th>\n",
       "      <th>Open</th>\n",
       "      <th>High</th>\n",
       "      <th>Low</th>\n",
       "      <th>Last</th>\n",
       "      <th>Volume</th>\n",
       "    </tr>\n",
       "  </thead>\n",
       "  <tbody>\n",
       "    <tr>\n",
       "      <th>2020-10-30 23:00:00</th>\n",
       "      <td>10/30/2020 23:00</td>\n",
       "      <td>13597.00</td>\n",
       "      <td>13600.00</td>\n",
       "      <td>13544.86</td>\n",
       "      <td>13553.09</td>\n",
       "      <td>480.6531</td>\n",
       "    </tr>\n",
       "    <tr>\n",
       "      <th>2020-10-30 23:30:00</th>\n",
       "      <td>10/30/2020 23:30</td>\n",
       "      <td>13553.09</td>\n",
       "      <td>13622.52</td>\n",
       "      <td>13553.09</td>\n",
       "      <td>13615.57</td>\n",
       "      <td>655.3268</td>\n",
       "    </tr>\n",
       "    <tr>\n",
       "      <th>2020-10-31 00:00:00</th>\n",
       "      <td>10/31/2020 0:00</td>\n",
       "      <td>13615.56</td>\n",
       "      <td>13637.00</td>\n",
       "      <td>13535.05</td>\n",
       "      <td>13560.10</td>\n",
       "      <td>778.9061</td>\n",
       "    </tr>\n",
       "    <tr>\n",
       "      <th>2020-10-31 00:30:00</th>\n",
       "      <td>10/31/2020 0:30</td>\n",
       "      <td>13560.10</td>\n",
       "      <td>13577.15</td>\n",
       "      <td>13511.45</td>\n",
       "      <td>13557.98</td>\n",
       "      <td>645.0756</td>\n",
       "    </tr>\n",
       "    <tr>\n",
       "      <th>2020-10-31 01:00:00</th>\n",
       "      <td>10/31/2020 1:00</td>\n",
       "      <td>13557.99</td>\n",
       "      <td>13648.00</td>\n",
       "      <td>13546.53</td>\n",
       "      <td>13615.06</td>\n",
       "      <td>1148.3320</td>\n",
       "    </tr>\n",
       "  </tbody>\n",
       "</table>\n",
       "</div>"
      ],
      "text/plain": [
       "                           Date (GMT)      Open      High       Low      Last  \\\n",
       "2020-10-30 23:00:00  10/30/2020 23:00  13597.00  13600.00  13544.86  13553.09   \n",
       "2020-10-30 23:30:00  10/30/2020 23:30  13553.09  13622.52  13553.09  13615.57   \n",
       "2020-10-31 00:00:00   10/31/2020 0:00  13615.56  13637.00  13535.05  13560.10   \n",
       "2020-10-31 00:30:00   10/31/2020 0:30  13560.10  13577.15  13511.45  13557.98   \n",
       "2020-10-31 01:00:00   10/31/2020 1:00  13557.99  13648.00  13546.53  13615.06   \n",
       "\n",
       "                        Volume  \n",
       "2020-10-30 23:00:00   480.6531  \n",
       "2020-10-30 23:30:00   655.3268  \n",
       "2020-10-31 00:00:00   778.9061  \n",
       "2020-10-31 00:30:00   645.0756  \n",
       "2020-10-31 01:00:00  1148.3320  "
      ]
     },
     "execution_count": 22,
     "metadata": {},
     "output_type": "execute_result"
    }
   ],
   "source": [
    "#creating bollinger band dataframe\n",
    "BTC_BB_df1= BTC_data_complete_df.loc[:,:'Volume']\n",
    "BTC_BB_df1.head()"
   ]
  },
  {
   "cell_type": "code",
   "execution_count": 23,
   "id": "f4c8041d",
   "metadata": {
    "ExecuteTime": {
     "end_time": "2021-11-03T23:39:43.383814Z",
     "start_time": "2021-11-03T23:39:43.340659Z"
    },
    "hidden": true
   },
   "outputs": [
    {
     "data": {
      "text/html": [
       "<div>\n",
       "<style scoped>\n",
       "    .dataframe tbody tr th:only-of-type {\n",
       "        vertical-align: middle;\n",
       "    }\n",
       "\n",
       "    .dataframe tbody tr th {\n",
       "        vertical-align: top;\n",
       "    }\n",
       "\n",
       "    .dataframe thead th {\n",
       "        text-align: right;\n",
       "    }\n",
       "</style>\n",
       "<table border=\"1\" class=\"dataframe\">\n",
       "  <thead>\n",
       "    <tr style=\"text-align: right;\">\n",
       "      <th></th>\n",
       "      <th>Date (GMT)</th>\n",
       "      <th>Open</th>\n",
       "      <th>High</th>\n",
       "      <th>Low</th>\n",
       "      <th>Last</th>\n",
       "      <th>Volume</th>\n",
       "      <th>SMA</th>\n",
       "      <th>STD</th>\n",
       "      <th>BBand Upper</th>\n",
       "      <th>BBand Lower</th>\n",
       "    </tr>\n",
       "  </thead>\n",
       "  <tbody>\n",
       "    <tr>\n",
       "      <th>2020-10-30 23:00:00</th>\n",
       "      <td>10/30/2020 23:00</td>\n",
       "      <td>13597.00</td>\n",
       "      <td>13600.00</td>\n",
       "      <td>13544.86</td>\n",
       "      <td>13553.09</td>\n",
       "      <td>480.6531</td>\n",
       "      <td>NaN</td>\n",
       "      <td>NaN</td>\n",
       "      <td>NaN</td>\n",
       "      <td>NaN</td>\n",
       "    </tr>\n",
       "    <tr>\n",
       "      <th>2020-10-30 23:30:00</th>\n",
       "      <td>10/30/2020 23:30</td>\n",
       "      <td>13553.09</td>\n",
       "      <td>13622.52</td>\n",
       "      <td>13553.09</td>\n",
       "      <td>13615.57</td>\n",
       "      <td>655.3268</td>\n",
       "      <td>NaN</td>\n",
       "      <td>NaN</td>\n",
       "      <td>NaN</td>\n",
       "      <td>NaN</td>\n",
       "    </tr>\n",
       "    <tr>\n",
       "      <th>2020-10-31 00:00:00</th>\n",
       "      <td>10/31/2020 0:00</td>\n",
       "      <td>13615.56</td>\n",
       "      <td>13637.00</td>\n",
       "      <td>13535.05</td>\n",
       "      <td>13560.10</td>\n",
       "      <td>778.9061</td>\n",
       "      <td>NaN</td>\n",
       "      <td>NaN</td>\n",
       "      <td>NaN</td>\n",
       "      <td>NaN</td>\n",
       "    </tr>\n",
       "    <tr>\n",
       "      <th>2020-10-31 00:30:00</th>\n",
       "      <td>10/31/2020 0:30</td>\n",
       "      <td>13560.10</td>\n",
       "      <td>13577.15</td>\n",
       "      <td>13511.45</td>\n",
       "      <td>13557.98</td>\n",
       "      <td>645.0756</td>\n",
       "      <td>NaN</td>\n",
       "      <td>NaN</td>\n",
       "      <td>NaN</td>\n",
       "      <td>NaN</td>\n",
       "    </tr>\n",
       "    <tr>\n",
       "      <th>2020-10-31 01:00:00</th>\n",
       "      <td>10/31/2020 1:00</td>\n",
       "      <td>13557.99</td>\n",
       "      <td>13648.00</td>\n",
       "      <td>13546.53</td>\n",
       "      <td>13615.06</td>\n",
       "      <td>1148.3320</td>\n",
       "      <td>NaN</td>\n",
       "      <td>NaN</td>\n",
       "      <td>NaN</td>\n",
       "      <td>NaN</td>\n",
       "    </tr>\n",
       "  </tbody>\n",
       "</table>\n",
       "</div>"
      ],
      "text/plain": [
       "                           Date (GMT)      Open      High       Low      Last  \\\n",
       "2020-10-30 23:00:00  10/30/2020 23:00  13597.00  13600.00  13544.86  13553.09   \n",
       "2020-10-30 23:30:00  10/30/2020 23:30  13553.09  13622.52  13553.09  13615.57   \n",
       "2020-10-31 00:00:00   10/31/2020 0:00  13615.56  13637.00  13535.05  13560.10   \n",
       "2020-10-31 00:30:00   10/31/2020 0:30  13560.10  13577.15  13511.45  13557.98   \n",
       "2020-10-31 01:00:00   10/31/2020 1:00  13557.99  13648.00  13546.53  13615.06   \n",
       "\n",
       "                        Volume  SMA  STD  BBand Upper  BBand Lower  \n",
       "2020-10-30 23:00:00   480.6531  NaN  NaN          NaN          NaN  \n",
       "2020-10-30 23:30:00   655.3268  NaN  NaN          NaN          NaN  \n",
       "2020-10-31 00:00:00   778.9061  NaN  NaN          NaN          NaN  \n",
       "2020-10-31 00:30:00   645.0756  NaN  NaN          NaN          NaN  \n",
       "2020-10-31 01:00:00  1148.3320  NaN  NaN          NaN          NaN  "
      ]
     },
     "execution_count": 23,
     "metadata": {},
     "output_type": "execute_result"
    }
   ],
   "source": [
    "# calculate SMA, SD, UPPER BAN, LOWER BAND\n",
    "#GET TIME PERIOD\n",
    "period = 20\n",
    "\n",
    "# calculate SMA\n",
    "BTC_BB_df1['SMA']=BTC_BB_df1['Last'].rolling(window = period).mean()\n",
    "#calculate std\n",
    "BTC_BB_df1['STD']=BTC_BB_df1['Last'].rolling(window = period).std()\n",
    "#calculate BB UP\n",
    "BTC_BB_df1['BBand Upper']=BTC_BB_df1['SMA']+(BTC_BB_df1['STD']*2)\n",
    "#calculate BB LOW\n",
    "BTC_BB_df1['BBand Lower']=BTC_BB_df1['SMA']-(BTC_BB_df1['STD']*2)\n",
    "\n",
    "BTC_BB_df1.head()"
   ]
  },
  {
   "cell_type": "code",
   "execution_count": 66,
   "id": "21fcd9f7",
   "metadata": {
    "ExecuteTime": {
     "end_time": "2021-11-04T01:09:47.691757Z",
     "start_time": "2021-11-04T01:09:47.419991Z"
    },
    "hidden": true,
    "scrolled": true
   },
   "outputs": [
    {
     "data": {
      "image/png": "[encoded data removed]",
      "text/plain": [
       "<Figure size 936x360 with 1 Axes>"
      ]
     },
     "metadata": {},
     "output_type": "display_data"
    }
   ],
   "source": [
    "#list of colmns to keep\n",
    "column_ls = ['Last','SMA', 'BBand Upper','BBand Lower']\n",
    "#plot data\n",
    "BTC_BB_df1[column_ls].plot(figsize=(13,5))\n",
    "\n",
    "plt.ylabel('Price')\n",
    "plt.show()"
   ]
  },
  {
   "cell_type": "code",
   "execution_count": 67,
   "id": "6cedcc5d",
   "metadata": {
    "ExecuteTime": {
     "end_time": "2021-11-04T01:10:07.007269Z",
     "start_time": "2021-11-04T01:10:06.768724Z"
    },
    "hidden": true
   },
   "outputs": [
    {
     "data": {
      "image/png": "[encoded data removed]",
      "text/plain": [
       "<Figure size 936x432 with 1 Axes>"
      ]
     },
     "metadata": {},
     "output_type": "display_data"
    }
   ],
   "source": [
    "#list of colmns to keep\n",
    "column_ls = ['Last','SMA', 'BBand Upper','BBand Lower']\n",
    "#plot data\n",
    "fig = plt.figure(figsize = (13,6))\n",
    "ax=fig.add_subplot(1,1,1)\n",
    "x_axis=BTC_BB_df1.index\n",
    "ax.fill_between(x_axis,BTC_BB_df1['BBand Upper'], BTC_BB_df1['BBand Lower'], color='grey')\n",
    "ax.plot(x_axis,BTC_BB_df1['Last'], color = 'gold', label='closing price', linewidth=0.1)\n",
    "ax.plot(x_axis,BTC_BB_df1['SMA'], color = 'red', label='SMA', linewidth=0.1)\n",
    "ax.set_title('BBands ')\n",
    "ax.set_xlabel('Date')\n",
    "ax.set_ylabel('price')\n",
    "plt.xticks(rotation = 90)\n",
    "ax.legend()\n",
    "plt.show()\n"
   ]
  },
  {
   "cell_type": "code",
   "execution_count": 26,
   "id": "4a2db11f",
   "metadata": {
    "ExecuteTime": {
     "end_time": "2021-11-03T23:39:44.061784Z",
     "start_time": "2021-11-03T23:39:44.032616Z"
    },
    "hidden": true
   },
   "outputs": [
    {
     "data": {
      "text/html": [
       "<div>\n",
       "<style scoped>\n",
       "    .dataframe tbody tr th:only-of-type {\n",
       "        vertical-align: middle;\n",
       "    }\n",
       "\n",
       "    .dataframe tbody tr th {\n",
       "        vertical-align: top;\n",
       "    }\n",
       "\n",
       "    .dataframe thead th {\n",
       "        text-align: right;\n",
       "    }\n",
       "</style>\n",
       "<table border=\"1\" class=\"dataframe\">\n",
       "  <thead>\n",
       "    <tr style=\"text-align: right;\">\n",
       "      <th></th>\n",
       "      <th>Date (GMT)</th>\n",
       "      <th>Open</th>\n",
       "      <th>High</th>\n",
       "      <th>Low</th>\n",
       "      <th>Last</th>\n",
       "      <th>Volume</th>\n",
       "      <th>SMA</th>\n",
       "      <th>STD</th>\n",
       "      <th>BBand Upper</th>\n",
       "      <th>BBand Lower</th>\n",
       "    </tr>\n",
       "  </thead>\n",
       "  <tbody>\n",
       "    <tr>\n",
       "      <th>2021-10-18 00:30:00</th>\n",
       "      <td>10/18/2021 0:30</td>\n",
       "      <td>61528.32</td>\n",
       "      <td>62000.00</td>\n",
       "      <td>61406.27</td>\n",
       "      <td>61942.96</td>\n",
       "      <td>1213.6225</td>\n",
       "      <td>60799.3375</td>\n",
       "      <td>614.915055</td>\n",
       "      <td>62029.167611</td>\n",
       "      <td>59569.507389</td>\n",
       "    </tr>\n",
       "    <tr>\n",
       "      <th>2021-10-18 01:00:00</th>\n",
       "      <td>10/18/2021 1:00</td>\n",
       "      <td>61942.39</td>\n",
       "      <td>62471.53</td>\n",
       "      <td>61942.39</td>\n",
       "      <td>62466.92</td>\n",
       "      <td>2318.0146</td>\n",
       "      <td>60871.6335</td>\n",
       "      <td>718.604381</td>\n",
       "      <td>62308.842262</td>\n",
       "      <td>59434.424738</td>\n",
       "    </tr>\n",
       "    <tr>\n",
       "      <th>2021-10-18 01:30:00</th>\n",
       "      <td>10/18/2021 1:30</td>\n",
       "      <td>62466.92</td>\n",
       "      <td>62578.91</td>\n",
       "      <td>62228.02</td>\n",
       "      <td>62351.99</td>\n",
       "      <td>1445.6212</td>\n",
       "      <td>60948.1280</td>\n",
       "      <td>790.849860</td>\n",
       "      <td>62529.827719</td>\n",
       "      <td>59366.428281</td>\n",
       "    </tr>\n",
       "    <tr>\n",
       "      <th>2021-10-18 02:00:00</th>\n",
       "      <td>10/18/2021 2:00</td>\n",
       "      <td>62352.00</td>\n",
       "      <td>62426.54</td>\n",
       "      <td>62000.00</td>\n",
       "      <td>62096.65</td>\n",
       "      <td>857.8021</td>\n",
       "      <td>61015.0195</td>\n",
       "      <td>829.622689</td>\n",
       "      <td>62674.264878</td>\n",
       "      <td>59355.774122</td>\n",
       "    </tr>\n",
       "    <tr>\n",
       "      <th>2021-10-18 02:30:00</th>\n",
       "      <td>10/18/2021 2:30</td>\n",
       "      <td>62097.66</td>\n",
       "      <td>62329.34</td>\n",
       "      <td>61942.40</td>\n",
       "      <td>62083.94</td>\n",
       "      <td>716.1911</td>\n",
       "      <td>61073.4195</td>\n",
       "      <td>862.730226</td>\n",
       "      <td>62798.879951</td>\n",
       "      <td>59347.959049</td>\n",
       "    </tr>\n",
       "    <tr>\n",
       "      <th>2021-10-18 03:00:00</th>\n",
       "      <td>10/18/2021 3:00</td>\n",
       "      <td>62083.94</td>\n",
       "      <td>62252.95</td>\n",
       "      <td>62007.17</td>\n",
       "      <td>62106.22</td>\n",
       "      <td>638.9362</td>\n",
       "      <td>61130.2445</td>\n",
       "      <td>892.456901</td>\n",
       "      <td>62915.158302</td>\n",
       "      <td>59345.330698</td>\n",
       "    </tr>\n",
       "    <tr>\n",
       "      <th>2021-10-18 03:30:00</th>\n",
       "      <td>10/18/2021 3:30</td>\n",
       "      <td>62106.22</td>\n",
       "      <td>62271.34</td>\n",
       "      <td>62085.00</td>\n",
       "      <td>62137.69</td>\n",
       "      <td>499.1663</td>\n",
       "      <td>61188.2780</td>\n",
       "      <td>919.302311</td>\n",
       "      <td>63026.882621</td>\n",
       "      <td>59349.673379</td>\n",
       "    </tr>\n",
       "    <tr>\n",
       "      <th>2021-10-18 04:00:00</th>\n",
       "      <td>10/18/2021 4:00</td>\n",
       "      <td>62137.70</td>\n",
       "      <td>62187.90</td>\n",
       "      <td>61881.00</td>\n",
       "      <td>62123.88</td>\n",
       "      <td>532.3081</td>\n",
       "      <td>61242.9890</td>\n",
       "      <td>941.654300</td>\n",
       "      <td>63126.297600</td>\n",
       "      <td>59359.680400</td>\n",
       "    </tr>\n",
       "    <tr>\n",
       "      <th>2021-10-18 04:30:00</th>\n",
       "      <td>10/18/2021 4:30</td>\n",
       "      <td>62123.88</td>\n",
       "      <td>62180.00</td>\n",
       "      <td>62000.01</td>\n",
       "      <td>62085.47</td>\n",
       "      <td>482.5262</td>\n",
       "      <td>61298.2255</td>\n",
       "      <td>957.725427</td>\n",
       "      <td>63213.676353</td>\n",
       "      <td>59382.774647</td>\n",
       "    </tr>\n",
       "    <tr>\n",
       "      <th>2021-10-18 05:00:00</th>\n",
       "      <td>10/18/2021 5:00</td>\n",
       "      <td>62085.46</td>\n",
       "      <td>62419.99</td>\n",
       "      <td>62015.00</td>\n",
       "      <td>62381.80</td>\n",
       "      <td>814.5705</td>\n",
       "      <td>61368.6650</td>\n",
       "      <td>983.994437</td>\n",
       "      <td>63336.653873</td>\n",
       "      <td>59400.676127</td>\n",
       "    </tr>\n",
       "  </tbody>\n",
       "</table>\n",
       "</div>"
      ],
      "text/plain": [
       "                          Date (GMT)      Open      High       Low      Last  \\\n",
       "2021-10-18 00:30:00  10/18/2021 0:30  61528.32  62000.00  61406.27  61942.96   \n",
       "2021-10-18 01:00:00  10/18/2021 1:00  61942.39  62471.53  61942.39  62466.92   \n",
       "2021-10-18 01:30:00  10/18/2021 1:30  62466.92  62578.91  62228.02  62351.99   \n",
       "2021-10-18 02:00:00  10/18/2021 2:00  62352.00  62426.54  62000.00  62096.65   \n",
       "2021-10-18 02:30:00  10/18/2021 2:30  62097.66  62329.34  61942.40  62083.94   \n",
       "2021-10-18 03:00:00  10/18/2021 3:00  62083.94  62252.95  62007.17  62106.22   \n",
       "2021-10-18 03:30:00  10/18/2021 3:30  62106.22  62271.34  62085.00  62137.69   \n",
       "2021-10-18 04:00:00  10/18/2021 4:00  62137.70  62187.90  61881.00  62123.88   \n",
       "2021-10-18 04:30:00  10/18/2021 4:30  62123.88  62180.00  62000.01  62085.47   \n",
       "2021-10-18 05:00:00  10/18/2021 5:00  62085.46  62419.99  62015.00  62381.80   \n",
       "\n",
       "                        Volume         SMA         STD   BBand Upper  \\\n",
       "2021-10-18 00:30:00  1213.6225  60799.3375  614.915055  62029.167611   \n",
       "2021-10-18 01:00:00  2318.0146  60871.6335  718.604381  62308.842262   \n",
       "2021-10-18 01:30:00  1445.6212  60948.1280  790.849860  62529.827719   \n",
       "2021-10-18 02:00:00   857.8021  61015.0195  829.622689  62674.264878   \n",
       "2021-10-18 02:30:00   716.1911  61073.4195  862.730226  62798.879951   \n",
       "2021-10-18 03:00:00   638.9362  61130.2445  892.456901  62915.158302   \n",
       "2021-10-18 03:30:00   499.1663  61188.2780  919.302311  63026.882621   \n",
       "2021-10-18 04:00:00   532.3081  61242.9890  941.654300  63126.297600   \n",
       "2021-10-18 04:30:00   482.5262  61298.2255  957.725427  63213.676353   \n",
       "2021-10-18 05:00:00   814.5705  61368.6650  983.994437  63336.653873   \n",
       "\n",
       "                      BBand Lower  \n",
       "2021-10-18 00:30:00  59569.507389  \n",
       "2021-10-18 01:00:00  59434.424738  \n",
       "2021-10-18 01:30:00  59366.428281  \n",
       "2021-10-18 02:00:00  59355.774122  \n",
       "2021-10-18 02:30:00  59347.959049  \n",
       "2021-10-18 03:00:00  59345.330698  \n",
       "2021-10-18 03:30:00  59349.673379  \n",
       "2021-10-18 04:00:00  59359.680400  \n",
       "2021-10-18 04:30:00  59382.774647  \n",
       "2021-10-18 05:00:00  59400.676127  "
      ]
     },
     "execution_count": 26,
     "metadata": {},
     "output_type": "execute_result"
    }
   ],
   "source": [
    "# FILTER BY DATE\n",
    "date = datetime(2021,10,18)\n",
    "BTC_BB_ZOOM_df = BTC_BB_df1[BTC_BB_df1.index > date]\n",
    "BTC_BB_ZOOM_df.head(10)"
   ]
  },
  {
   "cell_type": "code",
   "execution_count": 27,
   "id": "5f400c1d",
   "metadata": {
    "ExecuteTime": {
     "end_time": "2021-11-03T23:39:44.298094Z",
     "start_time": "2021-11-03T23:39:44.063794Z"
    },
    "hidden": true
   },
   "outputs": [
    {
     "data": {
      "image/png": "[encoded data removed]",
      "text/plain": [
       "<Figure size 936x360 with 1 Axes>"
      ]
     },
     "metadata": {},
     "output_type": "display_data"
    }
   ],
   "source": [
    "#list of colmns to keep\n",
    "column_ls = ['Last','SMA', 'BBand Upper','BBand Lower']\n",
    "#plot data\n",
    "BTC_BB_ZOOM_df[column_ls].plot(figsize=(13,5))\n",
    "plt.title('BBands')\n",
    "plt.ylabel('Price')             \n",
    "plt.show()"
   ]
  },
  {
   "cell_type": "code",
   "execution_count": 32,
   "id": "0205d35e",
   "metadata": {
    "ExecuteTime": {
     "end_time": "2021-11-03T23:40:59.035932Z",
     "start_time": "2021-11-03T23:40:59.015862Z"
    },
    "hidden": true
   },
   "outputs": [
    {
     "data": {
      "text/plain": [
       "(17418, 10)"
      ]
     },
     "execution_count": 32,
     "metadata": {},
     "output_type": "execute_result"
    }
   ],
   "source": [
    "#create a new data frame\n",
    "new_df = BTC_BB_df1[period:-1]\n",
    "new_df.shape"
   ]
  },
  {
   "cell_type": "code",
   "execution_count": 97,
   "id": "e5a899b0",
   "metadata": {
    "ExecuteTime": {
     "end_time": "2021-11-04T01:43:26.700108Z",
     "start_time": "2021-11-04T01:43:26.684151Z"
    },
    "hidden": true
   },
   "outputs": [],
   "source": [
    "# create function to buy and sell signals\n",
    "def alert_signal(data):\n",
    "    maintain_s = []\n",
    "    maintain_date = []\n",
    "    \n",
    "    buy_date = []\n",
    "    buy_s = []\n",
    "    \n",
    "    buy_graph_s = []\n",
    "    \n",
    "    sell_date = []\n",
    "    sell_s = []\n",
    "    \n",
    "    sell_graph_s = []\n",
    "    \n",
    "    for i in range(len(data['Last'])):\n",
    "        if data['Last'][i] > data['BBand Upper'][i]:\n",
    "#             buy_date.append(data['Date (GMT)'][i])\n",
    "            buy_s.append(True)\n",
    "    \n",
    "#             buy_graph_s.append(np.nan)\n",
    "            \n",
    "        elif data['Last'][i] < data['BBand Lower'][i]:\n",
    "#             sell_date.append(data['Date (GMT)'][i])\n",
    "            sell_s.append(True)\n",
    "#             sell_graph_s.append(np.nan)\n",
    "        else:\n",
    "            maintain_s.append('1')\n",
    "#             maintain_date.append(data['Date (GMT)'][i])\n",
    "\n",
    "        results = zip( BTC_BB_df1['Date (GMT)'] ,\n",
    "        maintain_s ,\n",
    "        buy_s ,\n",
    "        sell_s )\n",
    "        resultsdf= pd.DataFrame(results, columns = ['Date', \n",
    "                                                    'maintain signal', \n",
    "                                                    'buy signal','sell signal']) \n",
    "    return (resultsdf.head(20))"
   ]
  },
  {
   "cell_type": "code",
   "execution_count": 98,
   "id": "c4ee1cf9",
   "metadata": {
    "ExecuteTime": {
     "end_time": "2021-11-04T01:43:36.542410Z",
     "start_time": "2021-11-04T01:43:27.241736Z"
    },
    "hidden": true
   },
   "outputs": [
    {
     "data": {
      "text/html": [
       "<div>\n",
       "<style scoped>\n",
       "    .dataframe tbody tr th:only-of-type {\n",
       "        vertical-align: middle;\n",
       "    }\n",
       "\n",
       "    .dataframe tbody tr th {\n",
       "        vertical-align: top;\n",
       "    }\n",
       "\n",
       "    .dataframe thead th {\n",
       "        text-align: right;\n",
       "    }\n",
       "</style>\n",
       "<table border=\"1\" class=\"dataframe\">\n",
       "  <thead>\n",
       "    <tr style=\"text-align: right;\">\n",
       "      <th></th>\n",
       "      <th>Date</th>\n",
       "      <th>maintain signal</th>\n",
       "      <th>buy signal</th>\n",
       "      <th>sell signal</th>\n",
       "    </tr>\n",
       "  </thead>\n",
       "  <tbody>\n",
       "    <tr>\n",
       "      <th>0</th>\n",
       "      <td>10/30/2020 23:00</td>\n",
       "      <td>1</td>\n",
       "      <td>True</td>\n",
       "      <td>True</td>\n",
       "    </tr>\n",
       "    <tr>\n",
       "      <th>1</th>\n",
       "      <td>10/30/2020 23:30</td>\n",
       "      <td>1</td>\n",
       "      <td>True</td>\n",
       "      <td>True</td>\n",
       "    </tr>\n",
       "    <tr>\n",
       "      <th>2</th>\n",
       "      <td>10/31/2020 0:00</td>\n",
       "      <td>1</td>\n",
       "      <td>True</td>\n",
       "      <td>True</td>\n",
       "    </tr>\n",
       "    <tr>\n",
       "      <th>3</th>\n",
       "      <td>10/31/2020 0:30</td>\n",
       "      <td>1</td>\n",
       "      <td>True</td>\n",
       "      <td>True</td>\n",
       "    </tr>\n",
       "    <tr>\n",
       "      <th>4</th>\n",
       "      <td>10/31/2020 1:00</td>\n",
       "      <td>1</td>\n",
       "      <td>True</td>\n",
       "      <td>True</td>\n",
       "    </tr>\n",
       "    <tr>\n",
       "      <th>5</th>\n",
       "      <td>10/31/2020 1:30</td>\n",
       "      <td>1</td>\n",
       "      <td>True</td>\n",
       "      <td>True</td>\n",
       "    </tr>\n",
       "    <tr>\n",
       "      <th>6</th>\n",
       "      <td>10/31/2020 2:00</td>\n",
       "      <td>1</td>\n",
       "      <td>True</td>\n",
       "      <td>True</td>\n",
       "    </tr>\n",
       "    <tr>\n",
       "      <th>7</th>\n",
       "      <td>10/31/2020 2:30</td>\n",
       "      <td>1</td>\n",
       "      <td>True</td>\n",
       "      <td>True</td>\n",
       "    </tr>\n",
       "    <tr>\n",
       "      <th>8</th>\n",
       "      <td>10/31/2020 3:00</td>\n",
       "      <td>1</td>\n",
       "      <td>True</td>\n",
       "      <td>True</td>\n",
       "    </tr>\n",
       "    <tr>\n",
       "      <th>9</th>\n",
       "      <td>10/31/2020 3:30</td>\n",
       "      <td>1</td>\n",
       "      <td>True</td>\n",
       "      <td>True</td>\n",
       "    </tr>\n",
       "    <tr>\n",
       "      <th>10</th>\n",
       "      <td>10/31/2020 4:00</td>\n",
       "      <td>1</td>\n",
       "      <td>True</td>\n",
       "      <td>True</td>\n",
       "    </tr>\n",
       "    <tr>\n",
       "      <th>11</th>\n",
       "      <td>10/31/2020 4:30</td>\n",
       "      <td>1</td>\n",
       "      <td>True</td>\n",
       "      <td>True</td>\n",
       "    </tr>\n",
       "    <tr>\n",
       "      <th>12</th>\n",
       "      <td>10/31/2020 5:00</td>\n",
       "      <td>1</td>\n",
       "      <td>True</td>\n",
       "      <td>True</td>\n",
       "    </tr>\n",
       "    <tr>\n",
       "      <th>13</th>\n",
       "      <td>10/31/2020 5:30</td>\n",
       "      <td>1</td>\n",
       "      <td>True</td>\n",
       "      <td>True</td>\n",
       "    </tr>\n",
       "    <tr>\n",
       "      <th>14</th>\n",
       "      <td>10/31/2020 6:00</td>\n",
       "      <td>1</td>\n",
       "      <td>True</td>\n",
       "      <td>True</td>\n",
       "    </tr>\n",
       "    <tr>\n",
       "      <th>15</th>\n",
       "      <td>10/31/2020 6:30</td>\n",
       "      <td>1</td>\n",
       "      <td>True</td>\n",
       "      <td>True</td>\n",
       "    </tr>\n",
       "    <tr>\n",
       "      <th>16</th>\n",
       "      <td>10/31/2020 7:00</td>\n",
       "      <td>1</td>\n",
       "      <td>True</td>\n",
       "      <td>True</td>\n",
       "    </tr>\n",
       "    <tr>\n",
       "      <th>17</th>\n",
       "      <td>10/31/2020 7:30</td>\n",
       "      <td>1</td>\n",
       "      <td>True</td>\n",
       "      <td>True</td>\n",
       "    </tr>\n",
       "    <tr>\n",
       "      <th>18</th>\n",
       "      <td>10/31/2020 8:00</td>\n",
       "      <td>1</td>\n",
       "      <td>True</td>\n",
       "      <td>True</td>\n",
       "    </tr>\n",
       "    <tr>\n",
       "      <th>19</th>\n",
       "      <td>10/31/2020 8:30</td>\n",
       "      <td>1</td>\n",
       "      <td>True</td>\n",
       "      <td>True</td>\n",
       "    </tr>\n",
       "  </tbody>\n",
       "</table>\n",
       "</div>"
      ],
      "text/plain": [
       "                Date maintain signal  buy signal  sell signal\n",
       "0   10/30/2020 23:00               1        True         True\n",
       "1   10/30/2020 23:30               1        True         True\n",
       "2    10/31/2020 0:00               1        True         True\n",
       "3    10/31/2020 0:30               1        True         True\n",
       "4    10/31/2020 1:00               1        True         True\n",
       "5    10/31/2020 1:30               1        True         True\n",
       "6    10/31/2020 2:00               1        True         True\n",
       "7    10/31/2020 2:30               1        True         True\n",
       "8    10/31/2020 3:00               1        True         True\n",
       "9    10/31/2020 3:30               1        True         True\n",
       "10   10/31/2020 4:00               1        True         True\n",
       "11   10/31/2020 4:30               1        True         True\n",
       "12   10/31/2020 5:00               1        True         True\n",
       "13   10/31/2020 5:30               1        True         True\n",
       "14   10/31/2020 6:00               1        True         True\n",
       "15   10/31/2020 6:30               1        True         True\n",
       "16   10/31/2020 7:00               1        True         True\n",
       "17   10/31/2020 7:30               1        True         True\n",
       "18   10/31/2020 8:00               1        True         True\n",
       "19   10/31/2020 8:30               1        True         True"
      ]
     },
     "execution_count": 98,
     "metadata": {},
     "output_type": "execute_result"
    }
   ],
   "source": [
    "alert_signal(new_df)"
   ]
  },
  {
   "cell_type": "code",
   "execution_count": null,
   "id": "40bcfc80",
   "metadata": {
    "hidden": true
   },
   "outputs": [],
   "source": []
  },
  {
   "cell_type": "markdown",
   "id": "4935ebc6",
   "metadata": {},
   "source": [
    "## Machine learning"
   ]
  },
  {
   "cell_type": "code",
   "execution_count": null,
   "id": "558071b9",
   "metadata": {},
   "outputs": [],
   "source": []
  }
 ],
 "metadata": {
  "kernelspec": {
   "display_name": "PythonData",
   "language": "python",
   "name": "pythondata"
  },
  "language_info": {
   "codemirror_mode": {
    "name": "ipython",
    "version": 3
   },
   "file_extension": ".py",
   "mimetype": "text/x-python",
   "name": "python",
   "nbconvert_exporter": "python",
   "pygments_lexer": "ipython3",
   "version": "3.9.4"
  },
  "toc": {
   "base_numbering": 1,
   "nav_menu": {},
   "number_sections": true,
   "sideBar": true,
   "skip_h1_title": false,
   "title_cell": "Table of Contents",
   "title_sidebar": "Contents",
   "toc_cell": false,
   "toc_position": {},
   "toc_section_display": true,
   "toc_window_display": false
  },
  "varInspector": {
   "cols": {
    "lenName": 16,
    "lenType": 16,
    "lenVar": 40
   },
   "kernels_config": {
    "python": {
     "delete_cmd_postfix": "",
     "delete_cmd_prefix": "del ",
     "library": "var_list.py",
     "varRefreshCmd": "print(var_dic_list())"
    },
    "r": {
     "delete_cmd_postfix": ") ",
     "delete_cmd_prefix": "rm(",
     "library": "var_list.r",
     "varRefreshCmd": "cat(var_dic_list()) "
    }
   },
   "position": {
    "height": "219.4px",
    "left": "193.2px",
    "right": "20px",
    "top": "-17px",
    "width": "519px"
   },
   "types_to_exclude": [
    "module",
    "function",
    "builtin_function_or_method",
    "instance",
    "_Feature"
   ],
   "window_display": false
  }
 },
 "nbformat": 4,
 "nbformat_minor": 5
}
