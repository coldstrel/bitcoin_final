{
 "cells": [
  {
   "cell_type": "markdown",
   "id": "54a9a420",
   "metadata": {},
   "source": [
    "### Importing Necessary Libraries"
   ]
  },
  {
   "cell_type": "code",
   "execution_count": 35,
   "id": "fa849292",
   "metadata": {},
   "outputs": [],
   "source": [
    "import pandas as pd\n",
    "import numpy as np\n",
    "import matplotlib.pyplot as plt\n",
    "plt.style.use('ggplot')"
   ]
  },
  {
   "cell_type": "markdown",
   "id": "d27ebf6a",
   "metadata": {},
   "source": [
    "### Loading the Data"
   ]
  },
  {
   "cell_type": "code",
   "execution_count": 36,
   "id": "d280a9c6",
   "metadata": {},
   "outputs": [],
   "source": [
    "btc = pd.read_csv(\"BTC_Daily.csv\")"
   ]
  },
  {
   "cell_type": "code",
   "execution_count": 37,
   "id": "f3e1d451",
   "metadata": {},
   "outputs": [
    {
     "data": {
      "text/html": [
       "<div>\n",
       "<style scoped>\n",
       "    .dataframe tbody tr th:only-of-type {\n",
       "        vertical-align: middle;\n",
       "    }\n",
       "\n",
       "    .dataframe tbody tr th {\n",
       "        vertical-align: top;\n",
       "    }\n",
       "\n",
       "    .dataframe thead th {\n",
       "        text-align: right;\n",
       "    }\n",
       "</style>\n",
       "<table border=\"1\" class=\"dataframe\">\n",
       "  <thead>\n",
       "    <tr style=\"text-align: right;\">\n",
       "      <th></th>\n",
       "      <th>Date</th>\n",
       "      <th>Open</th>\n",
       "      <th>High</th>\n",
       "      <th>Low</th>\n",
       "      <th>Last</th>\n",
       "      <th>Diff_Open_Cls</th>\n",
       "    </tr>\n",
       "  </thead>\n",
       "  <tbody>\n",
       "    <tr>\n",
       "      <th>0</th>\n",
       "      <td>7/17/2014</td>\n",
       "      <td>613.03</td>\n",
       "      <td>628.94</td>\n",
       "      <td>610.00</td>\n",
       "      <td>623.01</td>\n",
       "      <td>-9.98</td>\n",
       "    </tr>\n",
       "    <tr>\n",
       "      <th>1</th>\n",
       "      <td>7/18/2014</td>\n",
       "      <td>622.73</td>\n",
       "      <td>632.80</td>\n",
       "      <td>618.46</td>\n",
       "      <td>629.70</td>\n",
       "      <td>-6.97</td>\n",
       "    </tr>\n",
       "    <tr>\n",
       "      <th>2</th>\n",
       "      <td>7/19/2014</td>\n",
       "      <td>629.71</td>\n",
       "      <td>632.06</td>\n",
       "      <td>624.95</td>\n",
       "      <td>627.53</td>\n",
       "      <td>2.18</td>\n",
       "    </tr>\n",
       "    <tr>\n",
       "      <th>3</th>\n",
       "      <td>7/20/2014</td>\n",
       "      <td>628.88</td>\n",
       "      <td>628.89</td>\n",
       "      <td>619.99</td>\n",
       "      <td>624.66</td>\n",
       "      <td>4.22</td>\n",
       "    </tr>\n",
       "    <tr>\n",
       "      <th>4</th>\n",
       "      <td>7/21/2014</td>\n",
       "      <td>624.49</td>\n",
       "      <td>625.31</td>\n",
       "      <td>615.04</td>\n",
       "      <td>620.00</td>\n",
       "      <td>4.49</td>\n",
       "    </tr>\n",
       "  </tbody>\n",
       "</table>\n",
       "</div>"
      ],
      "text/plain": [
       "        Date    Open    High     Low    Last  Diff_Open_Cls\n",
       "0  7/17/2014  613.03  628.94  610.00  623.01          -9.98\n",
       "1  7/18/2014  622.73  632.80  618.46  629.70          -6.97\n",
       "2  7/19/2014  629.71  632.06  624.95  627.53           2.18\n",
       "3  7/20/2014  628.88  628.89  619.99  624.66           4.22\n",
       "4  7/21/2014  624.49  625.31  615.04  620.00           4.49"
      ]
     },
     "execution_count": 37,
     "metadata": {},
     "output_type": "execute_result"
    }
   ],
   "source": [
    "btc.head()"
   ]
  },
  {
   "cell_type": "code",
   "execution_count": 38,
   "id": "e6795a10",
   "metadata": {},
   "outputs": [
    {
     "data": {
      "text/plain": [
       "Date              object\n",
       "Open             float64\n",
       "High             float64\n",
       "Low              float64\n",
       "Last             float64\n",
       "Diff_Open_Cls    float64\n",
       "dtype: object"
      ]
     },
     "execution_count": 38,
     "metadata": {},
     "output_type": "execute_result"
    }
   ],
   "source": [
    "btc.dtypes"
   ]
  },
  {
   "cell_type": "code",
   "execution_count": 39,
   "id": "0ea01ab5",
   "metadata": {},
   "outputs": [
    {
     "data": {
      "text/plain": [
       "Date             datetime64[ns]\n",
       "Open                    float64\n",
       "High                    float64\n",
       "Low                     float64\n",
       "Last                    float64\n",
       "Diff_Open_Cls           float64\n",
       "dtype: object"
      ]
     },
     "execution_count": 39,
     "metadata": {},
     "output_type": "execute_result"
    }
   ],
   "source": [
    "# Converting Dates into a Datetime Format\n",
    "btc[\"Date\"] = pd.to_datetime(btc.Date)\n",
    "btc.dtypes"
   ]
  },
  {
   "cell_type": "code",
   "execution_count": 40,
   "id": "8f20a4df",
   "metadata": {},
   "outputs": [],
   "source": [
    "# Setting dates as the index\n",
    "btc.set_index('Date', inplace=True)"
   ]
  },
  {
   "cell_type": "code",
   "execution_count": 41,
   "id": "ac70ae45",
   "metadata": {},
   "outputs": [
    {
     "data": {
      "text/html": [
       "<div>\n",
       "<style scoped>\n",
       "    .dataframe tbody tr th:only-of-type {\n",
       "        vertical-align: middle;\n",
       "    }\n",
       "\n",
       "    .dataframe tbody tr th {\n",
       "        vertical-align: top;\n",
       "    }\n",
       "\n",
       "    .dataframe thead th {\n",
       "        text-align: right;\n",
       "    }\n",
       "</style>\n",
       "<table border=\"1\" class=\"dataframe\">\n",
       "  <thead>\n",
       "    <tr style=\"text-align: right;\">\n",
       "      <th></th>\n",
       "      <th>Open</th>\n",
       "      <th>High</th>\n",
       "      <th>Low</th>\n",
       "      <th>Last</th>\n",
       "      <th>Diff_Open_Cls</th>\n",
       "    </tr>\n",
       "    <tr>\n",
       "      <th>Date</th>\n",
       "      <th></th>\n",
       "      <th></th>\n",
       "      <th></th>\n",
       "      <th></th>\n",
       "      <th></th>\n",
       "    </tr>\n",
       "  </thead>\n",
       "  <tbody>\n",
       "    <tr>\n",
       "      <th>2014-07-17</th>\n",
       "      <td>613.03</td>\n",
       "      <td>628.94</td>\n",
       "      <td>610.00</td>\n",
       "      <td>623.01</td>\n",
       "      <td>-9.98</td>\n",
       "    </tr>\n",
       "    <tr>\n",
       "      <th>2014-07-18</th>\n",
       "      <td>622.73</td>\n",
       "      <td>632.80</td>\n",
       "      <td>618.46</td>\n",
       "      <td>629.70</td>\n",
       "      <td>-6.97</td>\n",
       "    </tr>\n",
       "    <tr>\n",
       "      <th>2014-07-19</th>\n",
       "      <td>629.71</td>\n",
       "      <td>632.06</td>\n",
       "      <td>624.95</td>\n",
       "      <td>627.53</td>\n",
       "      <td>2.18</td>\n",
       "    </tr>\n",
       "    <tr>\n",
       "      <th>2014-07-20</th>\n",
       "      <td>628.88</td>\n",
       "      <td>628.89</td>\n",
       "      <td>619.99</td>\n",
       "      <td>624.66</td>\n",
       "      <td>4.22</td>\n",
       "    </tr>\n",
       "    <tr>\n",
       "      <th>2014-07-21</th>\n",
       "      <td>624.49</td>\n",
       "      <td>625.31</td>\n",
       "      <td>615.04</td>\n",
       "      <td>620.00</td>\n",
       "      <td>4.49</td>\n",
       "    </tr>\n",
       "  </tbody>\n",
       "</table>\n",
       "</div>"
      ],
      "text/plain": [
       "              Open    High     Low    Last  Diff_Open_Cls\n",
       "Date                                                     \n",
       "2014-07-17  613.03  628.94  610.00  623.01          -9.98\n",
       "2014-07-18  622.73  632.80  618.46  629.70          -6.97\n",
       "2014-07-19  629.71  632.06  624.95  627.53           2.18\n",
       "2014-07-20  628.88  628.89  619.99  624.66           4.22\n",
       "2014-07-21  624.49  625.31  615.04  620.00           4.49"
      ]
     },
     "execution_count": 41,
     "metadata": {},
     "output_type": "execute_result"
    }
   ],
   "source": [
    "btc.head()"
   ]
  },
  {
   "cell_type": "code",
   "execution_count": 42,
   "id": "b4909277",
   "metadata": {},
   "outputs": [
    {
     "data": {
      "text/html": [
       "<div>\n",
       "<style scoped>\n",
       "    .dataframe tbody tr th:only-of-type {\n",
       "        vertical-align: middle;\n",
       "    }\n",
       "\n",
       "    .dataframe tbody tr th {\n",
       "        vertical-align: top;\n",
       "    }\n",
       "\n",
       "    .dataframe thead th {\n",
       "        text-align: right;\n",
       "    }\n",
       "</style>\n",
       "<table border=\"1\" class=\"dataframe\">\n",
       "  <thead>\n",
       "    <tr style=\"text-align: right;\">\n",
       "      <th></th>\n",
       "      <th>Last</th>\n",
       "    </tr>\n",
       "    <tr>\n",
       "      <th>Date</th>\n",
       "      <th></th>\n",
       "    </tr>\n",
       "  </thead>\n",
       "  <tbody>\n",
       "    <tr>\n",
       "      <th>2017-01-01</th>\n",
       "      <td>996.68</td>\n",
       "    </tr>\n",
       "    <tr>\n",
       "      <th>2017-01-02</th>\n",
       "      <td>1011.32</td>\n",
       "    </tr>\n",
       "    <tr>\n",
       "      <th>2017-01-03</th>\n",
       "      <td>1035.51</td>\n",
       "    </tr>\n",
       "    <tr>\n",
       "      <th>2017-01-04</th>\n",
       "      <td>1114.35</td>\n",
       "    </tr>\n",
       "    <tr>\n",
       "      <th>2017-01-05</th>\n",
       "      <td>1004.73</td>\n",
       "    </tr>\n",
       "  </tbody>\n",
       "</table>\n",
       "</div>"
      ],
      "text/plain": [
       "               Last\n",
       "Date               \n",
       "2017-01-01   996.68\n",
       "2017-01-02  1011.32\n",
       "2017-01-03  1035.51\n",
       "2017-01-04  1114.35\n",
       "2017-01-05  1004.73"
      ]
     },
     "execution_count": 42,
     "metadata": {},
     "output_type": "execute_result"
    }
   ],
   "source": [
    "# Selecting only the Closing Price as well as the dates starting from January 2017.\n",
    "# This is the time when Bitcoin and Cryptocurrency in general started to become popular to trade and is probably a better representation of current crypto trading trends.\n",
    "\n",
    "btc_prices = btc[['Last']].loc['2017-01-01':]\n",
    "btc_prices.head()"
   ]
  },
  {
   "cell_type": "code",
   "execution_count": 43,
   "id": "7e0b82f9",
   "metadata": {},
   "outputs": [
    {
     "data": {
      "image/png": "[encoded data removed]",
      "text/plain": [
       "<Figure size 1152x360 with 1 Axes>"
      ]
     },
     "metadata": {},
     "output_type": "display_data"
    }
   ],
   "source": [
    "# Plotting Bitcoin's Historical Prices\n",
    "btc_prices.plot(figsize=(16,5))\n",
    "\n",
    "plt.xlabel('Date')\n",
    "plt.ylabel('Price in USD')\n",
    "plt.title('Bitcoin Price')\n",
    "plt.savefig('btcprice.png')\n",
    "\n",
    "\n",
    "plt.show()"
   ]
  },
  {
   "cell_type": "code",
   "execution_count": 44,
   "id": "e00dbe98",
   "metadata": {},
   "outputs": [],
   "source": [
    "btc_diff = btc_prices.diff(1).dropna()"
   ]
  },
  {
   "cell_type": "code",
   "execution_count": 45,
   "id": "e442f40e",
   "metadata": {},
   "outputs": [
    {
     "data": {
      "text/html": [
       "<div>\n",
       "<style scoped>\n",
       "    .dataframe tbody tr th:only-of-type {\n",
       "        vertical-align: middle;\n",
       "    }\n",
       "\n",
       "    .dataframe tbody tr th {\n",
       "        vertical-align: top;\n",
       "    }\n",
       "\n",
       "    .dataframe thead th {\n",
       "        text-align: right;\n",
       "    }\n",
       "</style>\n",
       "<table border=\"1\" class=\"dataframe\">\n",
       "  <thead>\n",
       "    <tr style=\"text-align: right;\">\n",
       "      <th></th>\n",
       "      <th>Last</th>\n",
       "    </tr>\n",
       "    <tr>\n",
       "      <th>Date</th>\n",
       "      <th></th>\n",
       "    </tr>\n",
       "  </thead>\n",
       "  <tbody>\n",
       "    <tr>\n",
       "      <th>2017-01-02</th>\n",
       "      <td>14.64</td>\n",
       "    </tr>\n",
       "    <tr>\n",
       "      <th>2017-01-03</th>\n",
       "      <td>24.19</td>\n",
       "    </tr>\n",
       "    <tr>\n",
       "      <th>2017-01-04</th>\n",
       "      <td>78.84</td>\n",
       "    </tr>\n",
       "    <tr>\n",
       "      <th>2017-01-05</th>\n",
       "      <td>-109.62</td>\n",
       "    </tr>\n",
       "    <tr>\n",
       "      <th>2017-01-06</th>\n",
       "      <td>-110.84</td>\n",
       "    </tr>\n",
       "  </tbody>\n",
       "</table>\n",
       "</div>"
      ],
      "text/plain": [
       "              Last\n",
       "Date              \n",
       "2017-01-02   14.64\n",
       "2017-01-03   24.19\n",
       "2017-01-04   78.84\n",
       "2017-01-05 -109.62\n",
       "2017-01-06 -110.84"
      ]
     },
     "execution_count": 45,
     "metadata": {},
     "output_type": "execute_result"
    }
   ],
   "source": [
    "btc_diff.head()"
   ]
  },
  {
   "cell_type": "code",
   "execution_count": 46,
   "id": "11426047",
   "metadata": {},
   "outputs": [
    {
     "data": {
      "image/png": "[encoded data removed]",
      "text/plain": [
       "<Figure size 864x360 with 1 Axes>"
      ]
     },
     "metadata": {},
     "output_type": "display_data"
    }
   ],
   "source": [
    "# Plotting the differences daily\n",
    "btc_diff.plot(figsize=(12,5))\n",
    "plt.title('Plot of the Daily Changes in Price for BTC')\n",
    "plt.ylabel('Change in USD')\n",
    "plt.show()"
   ]
  },
  {
   "cell_type": "markdown",
   "id": "8a9842a7",
   "metadata": {},
   "source": [
    "### K-means Algorithm"
   ]
  },
  {
   "cell_type": "code",
   "execution_count": 47,
   "id": "82e36711",
   "metadata": {},
   "outputs": [],
   "source": [
    "import plotly.express as px\n",
    "import hvplot.pandas\n",
    "from sklearn.cluster import KMeans"
   ]
  },
  {
   "cell_type": "code",
   "execution_count": 48,
   "id": "2ca83dae",
   "metadata": {},
   "outputs": [
    {
     "data": {
      "text/html": [
       "<div>\n",
       "<style scoped>\n",
       "    .dataframe tbody tr th:only-of-type {\n",
       "        vertical-align: middle;\n",
       "    }\n",
       "\n",
       "    .dataframe tbody tr th {\n",
       "        vertical-align: top;\n",
       "    }\n",
       "\n",
       "    .dataframe thead th {\n",
       "        text-align: right;\n",
       "    }\n",
       "</style>\n",
       "<table border=\"1\" class=\"dataframe\">\n",
       "  <thead>\n",
       "    <tr style=\"text-align: right;\">\n",
       "      <th></th>\n",
       "      <th>Open</th>\n",
       "      <th>High</th>\n",
       "      <th>Low</th>\n",
       "      <th>Last</th>\n",
       "      <th>Diff_Open_Cls</th>\n",
       "    </tr>\n",
       "    <tr>\n",
       "      <th>Date</th>\n",
       "      <th></th>\n",
       "      <th></th>\n",
       "      <th></th>\n",
       "      <th></th>\n",
       "      <th></th>\n",
       "    </tr>\n",
       "  </thead>\n",
       "  <tbody>\n",
       "    <tr>\n",
       "      <th>2014-07-17</th>\n",
       "      <td>613.03</td>\n",
       "      <td>628.94</td>\n",
       "      <td>610.00</td>\n",
       "      <td>623.01</td>\n",
       "      <td>-9.98</td>\n",
       "    </tr>\n",
       "    <tr>\n",
       "      <th>2014-07-18</th>\n",
       "      <td>622.73</td>\n",
       "      <td>632.80</td>\n",
       "      <td>618.46</td>\n",
       "      <td>629.70</td>\n",
       "      <td>-6.97</td>\n",
       "    </tr>\n",
       "    <tr>\n",
       "      <th>2014-07-19</th>\n",
       "      <td>629.71</td>\n",
       "      <td>632.06</td>\n",
       "      <td>624.95</td>\n",
       "      <td>627.53</td>\n",
       "      <td>2.18</td>\n",
       "    </tr>\n",
       "    <tr>\n",
       "      <th>2014-07-20</th>\n",
       "      <td>628.88</td>\n",
       "      <td>628.89</td>\n",
       "      <td>619.99</td>\n",
       "      <td>624.66</td>\n",
       "      <td>4.22</td>\n",
       "    </tr>\n",
       "    <tr>\n",
       "      <th>2014-07-21</th>\n",
       "      <td>624.49</td>\n",
       "      <td>625.31</td>\n",
       "      <td>615.04</td>\n",
       "      <td>620.00</td>\n",
       "      <td>4.49</td>\n",
       "    </tr>\n",
       "  </tbody>\n",
       "</table>\n",
       "</div>"
      ],
      "text/plain": [
       "              Open    High     Low    Last  Diff_Open_Cls\n",
       "Date                                                     \n",
       "2014-07-17  613.03  628.94  610.00  623.01          -9.98\n",
       "2014-07-18  622.73  632.80  618.46  629.70          -6.97\n",
       "2014-07-19  629.71  632.06  624.95  627.53           2.18\n",
       "2014-07-20  628.88  628.89  619.99  624.66           4.22\n",
       "2014-07-21  624.49  625.31  615.04  620.00           4.49"
      ]
     },
     "execution_count": 48,
     "metadata": {},
     "output_type": "execute_result"
    }
   ],
   "source": [
    "btc.head()"
   ]
  },
  {
   "cell_type": "code",
   "execution_count": 63,
   "id": "fea7ef20",
   "metadata": {},
   "outputs": [
    {
     "data": {
      "text/html": [
       "<div>\n",
       "<style scoped>\n",
       "    .dataframe tbody tr th:only-of-type {\n",
       "        vertical-align: middle;\n",
       "    }\n",
       "\n",
       "    .dataframe tbody tr th {\n",
       "        vertical-align: top;\n",
       "    }\n",
       "\n",
       "    .dataframe thead th {\n",
       "        text-align: right;\n",
       "    }\n",
       "</style>\n",
       "<table border=\"1\" class=\"dataframe\">\n",
       "  <thead>\n",
       "    <tr style=\"text-align: right;\">\n",
       "      <th></th>\n",
       "      <th>Last</th>\n",
       "      <th>Diff_Open_Cls</th>\n",
       "    </tr>\n",
       "    <tr>\n",
       "      <th>Date</th>\n",
       "      <th></th>\n",
       "      <th></th>\n",
       "    </tr>\n",
       "  </thead>\n",
       "  <tbody>\n",
       "    <tr>\n",
       "      <th>2017-01-01</th>\n",
       "      <td>996.68</td>\n",
       "      <td>-30.34</td>\n",
       "    </tr>\n",
       "    <tr>\n",
       "      <th>2017-01-02</th>\n",
       "      <td>1011.32</td>\n",
       "      <td>-14.59</td>\n",
       "    </tr>\n",
       "    <tr>\n",
       "      <th>2017-01-03</th>\n",
       "      <td>1035.51</td>\n",
       "      <td>-24.08</td>\n",
       "    </tr>\n",
       "    <tr>\n",
       "      <th>2017-01-04</th>\n",
       "      <td>1114.35</td>\n",
       "      <td>-78.84</td>\n",
       "    </tr>\n",
       "    <tr>\n",
       "      <th>2017-01-05</th>\n",
       "      <td>1004.73</td>\n",
       "      <td>109.62</td>\n",
       "    </tr>\n",
       "  </tbody>\n",
       "</table>\n",
       "</div>"
      ],
      "text/plain": [
       "               Last  Diff_Open_Cls\n",
       "Date                              \n",
       "2017-01-01   996.68         -30.34\n",
       "2017-01-02  1011.32         -14.59\n",
       "2017-01-03  1035.51         -24.08\n",
       "2017-01-04  1114.35         -78.84\n",
       "2017-01-05  1004.73         109.62"
      ]
     },
     "execution_count": 63,
     "metadata": {},
     "output_type": "execute_result"
    }
   ],
   "source": [
    "btc = btc[:,['Last','Diff_Open_Cls']].loc['2017-01-01':]\n",
    "btc.head()"
   ]
  },
  {
   "cell_type": "code",
   "execution_count": 64,
   "id": "ca9c9676",
   "metadata": {},
   "outputs": [],
   "source": [
    "x = btc.values"
   ]
  },
  {
   "cell_type": "code",
   "execution_count": 65,
   "id": "39c0f91a",
   "metadata": {},
   "outputs": [
    {
     "data": {
      "text/plain": [
       "(1734, 2)"
      ]
     },
     "execution_count": 65,
     "metadata": {},
     "output_type": "execute_result"
    }
   ],
   "source": [
    "x.shape"
   ]
  },
  {
   "cell_type": "code",
   "execution_count": 68,
   "id": "aa6dc980",
   "metadata": {},
   "outputs": [],
   "source": [
    "def timeseries_to_supervised(X, timesteps,n_target):\n",
    "    x = np.zeros([len(X)-(timesteps+n_target), timesteps, X.shape[1]])\n",
    "    y = np.zeros([len(X)-(timesteps+n_target), n_target])\n",
    "    \n",
    "    for t in range(timesteps):\n",
    "        x[:,t] = X[t:-(timesteps+n_target)+t,:]\n",
    "    for i in range(n_target):\n",
    "        y[:,i] = X[timesteps+i:-(n_target-i),0]\n",
    "    return x,y"
   ]
  },
  {
   "cell_type": "code",
   "execution_count": 69,
   "id": "3f2f7b07",
   "metadata": {},
   "outputs": [],
   "source": [
    "# How it will behave the next two days considering the last 30 days\n",
    "X,y=timeseries_to_supervised(x, 30, 2)"
   ]
  },
  {
   "cell_type": "code",
   "execution_count": 71,
   "id": "fa42c11e",
   "metadata": {},
   "outputs": [
    {
     "data": {
      "text/plain": [
       "array([43438.5 , 48124.18, 48013.52, 48915.95, 49000.75, 51470.86,\n",
       "       54924.79, 54197.75, 53988.23, 54589.99, 55345.64, 57320.06,\n",
       "       55345.68, 56969.57, 57445.95, 62512.35, 60991.36, 61011.41,\n",
       "       61378.35, 64128.64, 65992.78, 62668.5 , 60719.58, 61120.13,\n",
       "       60307.79, 62539.22, 62088.98, 58908.09, 61393.96, 62379.71])"
      ]
     },
     "execution_count": 71,
     "metadata": {},
     "output_type": "execute_result"
    }
   ],
   "source": [
    "X[-1,:,0]"
   ]
  },
  {
   "cell_type": "code",
   "execution_count": 72,
   "id": "0c1e946a",
   "metadata": {},
   "outputs": [
    {
     "data": {
      "text/plain": [
       "array([61669.21, 60655.85])"
      ]
     },
     "execution_count": 72,
     "metadata": {},
     "output_type": "execute_result"
    }
   ],
   "source": [
    "y[-1,:]"
   ]
  },
  {
   "cell_type": "code",
   "execution_count": 74,
   "id": "22e36f9d",
   "metadata": {},
   "outputs": [
    {
     "data": {
      "text/plain": [
       "array([1., 1., 1., 1., 0., 0., 1., 1., 0., 0.])"
      ]
     },
     "execution_count": 74,
     "metadata": {},
     "output_type": "execute_result"
    }
   ],
   "source": [
    "# Convert numeric value to variable category\n",
    "# 0 = price drop = sell\n",
    "# 1 = price increase = buy\n",
    "price_last_day = X[:,-1,0]\n",
    "price_next_two_days = y[:,1]\n",
    "target = price_next_two_days-price_last_day\n",
    "target[target<=0]=0\n",
    "target[target>0]=1\n",
    "target[:10]\n"
   ]
  },
  {
   "cell_type": "code",
   "execution_count": 75,
   "id": "ca523130",
   "metadata": {},
   "outputs": [
    {
     "data": {
      "image/png": "[encoded data removed]",
      "text/plain": [
       "<Figure size 432x288 with 1 Axes>"
      ]
     },
     "metadata": {},
     "output_type": "display_data"
    }
   ],
   "source": [
    "for i in range(target.shape[0]):\n",
    "    if target[i]==0:\n",
    "        plt.scatter(X[i,0,0],X[i,1,0],color='r')\n",
    "    else:\n",
    "        plt.scatter(X[i,0,0],X[i,1,0],color='b')"
   ]
  },
  {
   "cell_type": "code",
   "execution_count": 79,
   "id": "30109462",
   "metadata": {},
   "outputs": [
    {
     "data": {
      "text/plain": [
       "(1702, 30, 2)"
      ]
     },
     "execution_count": 79,
     "metadata": {},
     "output_type": "execute_result"
    }
   ],
   "source": [
    "X.shape"
   ]
  },
  {
   "cell_type": "code",
   "execution_count": 80,
   "id": "3351e6d2",
   "metadata": {},
   "outputs": [],
   "source": [
    "X_flatten=np.zeros((X.shape[0],X.shape[1]*X.shape[2]))\n",
    "for i in range(X.shape[0]):\n",
    "    X_flatten[i,:]=X[i,:].flatten()"
   ]
  },
  {
   "cell_type": "code",
   "execution_count": 82,
   "id": "e0203e54",
   "metadata": {},
   "outputs": [
    {
     "data": {
      "text/plain": [
       "(1702, 60)"
      ]
     },
     "execution_count": 82,
     "metadata": {},
     "output_type": "execute_result"
    }
   ],
   "source": [
    "X_flatten.shape"
   ]
  },
  {
   "cell_type": "code",
   "execution_count": 85,
   "id": "c82981c4",
   "metadata": {},
   "outputs": [],
   "source": [
    "#Training and Test\n",
    "tt=int(0.9*len(X))\n",
    "x_train,x_test = X_flatten[:tt],X_flatten[tt:]\n",
    "y_train,y_test = target[:tt],target[tt:]"
   ]
  },
  {
   "cell_type": "code",
   "execution_count": 91,
   "id": "10b55751",
   "metadata": {},
   "outputs": [],
   "source": [
    "from sklearn.cluster import KMeans\n",
    "kmeans = KMeans(n_clusters=2, random_state=0).fit(x_train)\n",
    "\n",
    "y_pred = kmeans.predict(x_test)"
   ]
  },
  {
   "cell_type": "code",
   "execution_count": 92,
   "id": "a48d8721",
   "metadata": {},
   "outputs": [
    {
     "data": {
      "text/plain": [
       "array([1, 1, 1, 1, 1, 1, 1, 1, 1, 1, 1, 1, 1, 1, 1, 1, 1, 1, 1, 1, 1, 1,\n",
       "       1, 1, 1, 1, 1, 1, 1, 1, 1, 1, 1, 1, 1, 1, 1, 1, 1, 1, 1, 1, 1, 1,\n",
       "       1, 1, 1, 1, 1, 1, 1, 1, 1, 1, 1, 1, 1, 1, 1, 1, 1, 1, 1, 1, 1, 1,\n",
       "       1, 1, 1, 1, 1, 1, 1, 1, 1, 1, 1, 1, 1, 1, 1, 1, 1, 1, 1, 1, 1, 1,\n",
       "       1, 1, 1, 1, 1, 1, 1, 1, 1, 1, 1, 1, 1, 1, 1, 1, 1, 1, 1, 1, 1, 1,\n",
       "       1, 1, 1, 1, 1, 1, 1, 1, 1, 1, 1, 1, 1, 1, 1, 1, 1, 1, 1, 1, 1, 1,\n",
       "       1, 1, 1, 1, 1, 1, 1, 1, 1, 1, 1, 1, 1, 1, 1, 1, 1, 1, 1, 1, 1, 1,\n",
       "       1, 1, 1, 1, 1, 1, 1, 1, 1, 1, 1, 1, 1, 1, 1, 1, 1])"
      ]
     },
     "execution_count": 92,
     "metadata": {},
     "output_type": "execute_result"
    }
   ],
   "source": [
    "y_pred"
   ]
  },
  {
   "cell_type": "code",
   "execution_count": 93,
   "id": "b2b9251d",
   "metadata": {},
   "outputs": [
    {
     "data": {
      "text/plain": [
       "array([0., 0., 0., 0., 0., 0., 0., 0., 0., 0., 1., 1., 0., 1., 0., 0., 1.,\n",
       "       1., 1., 1., 1., 0., 0., 0., 0., 0., 1., 1., 1., 0., 1., 1., 1., 0.,\n",
       "       0., 0., 0., 1., 0., 0., 1., 1., 0., 0., 1., 1., 1., 0., 0., 0., 1.,\n",
       "       1., 0., 0., 1., 0., 0., 1., 1., 0., 0., 0., 0., 0., 0., 0., 0., 0.,\n",
       "       1., 1., 1., 1., 1., 1., 1., 1., 1., 1., 1., 1., 0., 0., 1., 1., 1.,\n",
       "       1., 1., 1., 1., 1., 0., 1., 1., 0., 0., 0., 0., 1., 1., 1., 0., 1.,\n",
       "       0., 0., 0., 1., 1., 1., 0., 0., 0., 1., 1., 1., 1., 1., 0., 0., 0.,\n",
       "       0., 0., 1., 0., 1., 1., 1., 0., 1., 1., 0., 0., 0., 1., 0., 0., 1.,\n",
       "       1., 0., 0., 1., 1., 1., 1., 1., 1., 1., 1., 0., 1., 1., 1., 1., 0.,\n",
       "       1., 1., 1., 0., 1., 1., 1., 0., 0., 0., 0., 1., 1., 0., 0., 1., 1.,\n",
       "       0.])"
      ]
     },
     "execution_count": 93,
     "metadata": {},
     "output_type": "execute_result"
    }
   ],
   "source": [
    "y_test"
   ]
  },
  {
   "cell_type": "code",
   "execution_count": null,
   "id": "1353fb3f",
   "metadata": {},
   "outputs": [],
   "source": []
  }
 ],
 "metadata": {
  "kernelspec": {
   "display_name": "mlenv",
   "language": "python",
   "name": "mlenv"
  },
  "language_info": {
   "codemirror_mode": {
    "name": "ipython",
    "version": 3
   },
   "file_extension": ".py",
   "mimetype": "text/x-python",
   "name": "python",
   "nbconvert_exporter": "python",
   "pygments_lexer": "ipython3",
   "version": "3.7.10"
  }
 },
 "nbformat": 4,
 "nbformat_minor": 5
}
