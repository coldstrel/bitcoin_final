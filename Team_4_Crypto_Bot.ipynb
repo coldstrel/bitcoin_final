{
 "cells": [
  {
   "cell_type": "markdown",
   "id": "316ee970",
   "metadata": {},
   "source": [
    "# Bot de inversion para cripto"
   ]
  },
  {
   "cell_type": "code",
   "execution_count": 1,
   "id": "d672e5c1",
   "metadata": {
    "ExecuteTime": {
     "end_time": "2021-11-22T03:26:46.848637Z",
     "start_time": "2021-11-22T03:26:46.845645Z"
    },
    "code_folding": []
   },
   "outputs": [],
   "source": [
    "#!pip install yfinance\n",
    "#!pip install mpl_finance\n",
    "#!pip install python-binance\n",
    "#!pip3 install plotly"
   ]
  },
  {
   "cell_type": "markdown",
   "id": "5722b21d",
   "metadata": {},
   "source": [
    "## import dependencies"
   ]
  },
  {
   "cell_type": "code",
   "execution_count": 2,
   "id": "6f0b9d69",
   "metadata": {
    "ExecuteTime": {
     "end_time": "2021-11-22T03:26:48.744376Z",
     "start_time": "2021-11-22T03:26:46.850634Z"
    },
    "run_control": {
     "marked": true
    }
   },
   "outputs": [],
   "source": [
    "import os\n",
    "import pandas as pd\n",
    "import numpy as np\n",
    "from sklearn.linear_model import LinearRegression\n",
    "from sklearn.model_selection import train_test_split\n",
    "import matplotlib.pyplot as plt\n",
    "plt.style.use('fivethirtyeight')\n",
    "from datetime import datetime\n",
    "from datetime import date\n",
    "from datetime import timedelta\n",
    "import plotly.graph_objects as go\n",
    "from binance import Client\n",
    "from config import API_Key,Secret_Key\n",
    "import os\n",
    "import glob"
   ]
  },
  {
   "cell_type": "markdown",
   "id": "2e3a88e3",
   "metadata": {},
   "source": [
    "## Gathering data with binance api"
   ]
  },
  {
   "cell_type": "code",
   "execution_count": 3,
   "id": "976c6da9",
   "metadata": {
    "ExecuteTime": {
     "end_time": "2021-11-22T03:26:49.366632Z",
     "start_time": "2021-11-22T03:26:48.747317Z"
    }
   },
   "outputs": [],
   "source": [
    "client = Client(API_Key, Secret_Key)"
   ]
  },
  {
   "cell_type": "code",
   "execution_count": 4,
   "id": "f6a8de29",
   "metadata": {
    "ExecuteTime": {
     "end_time": "2021-11-22T03:26:49.381624Z",
     "start_time": "2021-11-22T03:26:49.368713Z"
    }
   },
   "outputs": [],
   "source": [
    "# get historical kline data from any date range\n",
    "#BTCOIN USDOLAR PRICE\n",
    "#first currency and crypto,then time interval, and time to go back\n",
    "# arguments of function have to be strings\n",
    "\n",
    "\n",
    "def get_crypto_data(crypto, interval, lookback):\n",
    "    Crypto_df = pd.DataFrame(client.get_historical_klines(crypto, interval, lookback + ' ago UTC'))\n",
    "    \n",
    "   # show only first 5 columns\n",
    "    Crypto_df = Crypto_df.iloc[:,:6]\n",
    "    #naming columns\n",
    "    Crypto_df.columns = ['Date_and_Time','Open', 'High', 'Low','Last','Volume']\n",
    "    # from the complete data, set index to date\n",
    "#     Crypto_df = Crypto_df.\\\n",
    "#     set_index(pd.DatetimeIndex(Crypto_df['Date'].values))\n",
    "#     Crypto_df.tail()\n",
    "    Crypto_df = Crypto_df.set_index('Date_and_Time')\n",
    "    Crypto_df.index = pd.to_datetime(Crypto_df.index, unit='ms')\n",
    "#     Crypto_df.tz_localize('UTC').tz_convert('Mexico/General')\n",
    "    \n",
    "\n",
    "   # all values are stored as string so change them into float.\n",
    "    Crypto_df = Crypto_df.astype(float)\n",
    "    return Crypto_df"
   ]
  },
  {
   "cell_type": "markdown",
   "id": "fc6edea2",
   "metadata": {},
   "source": [
    "## Creating crypto df"
   ]
  },
  {
   "cell_type": "code",
   "execution_count": 5,
   "id": "39e8d0ec",
   "metadata": {
    "ExecuteTime": {
     "end_time": "2021-11-22T03:26:51.115264Z",
     "start_time": "2021-11-22T03:26:49.384584Z"
    }
   },
   "outputs": [
    {
     "data": {
      "text/plain": [
       "(1440, 5)"
      ]
     },
     "execution_count": 5,
     "metadata": {},
     "output_type": "execute_result"
    }
   ],
   "source": [
    "crypto_df= get_crypto_data('BTCUSDT','1m','1 day').tz_localize('UTC').tz_convert('Mexico/General')\n",
    "crypto_df.shape"
   ]
  },
  {
   "cell_type": "code",
   "execution_count": 6,
   "id": "4fe736b5",
   "metadata": {
    "ExecuteTime": {
     "end_time": "2021-11-22T03:26:51.145500Z",
     "start_time": "2021-11-22T03:26:51.116260Z"
    }
   },
   "outputs": [
    {
     "data": {
      "text/html": [
       "<div>\n",
       "<style scoped>\n",
       "    .dataframe tbody tr th:only-of-type {\n",
       "        vertical-align: middle;\n",
       "    }\n",
       "\n",
       "    .dataframe tbody tr th {\n",
       "        vertical-align: top;\n",
       "    }\n",
       "\n",
       "    .dataframe thead th {\n",
       "        text-align: right;\n",
       "    }\n",
       "</style>\n",
       "<table border=\"1\" class=\"dataframe\">\n",
       "  <thead>\n",
       "    <tr style=\"text-align: right;\">\n",
       "      <th></th>\n",
       "      <th>Open</th>\n",
       "      <th>High</th>\n",
       "      <th>Low</th>\n",
       "      <th>Last</th>\n",
       "      <th>Volume</th>\n",
       "    </tr>\n",
       "    <tr>\n",
       "      <th>Date_and_Time</th>\n",
       "      <th></th>\n",
       "      <th></th>\n",
       "      <th></th>\n",
       "      <th></th>\n",
       "      <th></th>\n",
       "    </tr>\n",
       "  </thead>\n",
       "  <tbody>\n",
       "    <tr>\n",
       "      <th>2021-11-21 21:17:00-06:00</th>\n",
       "      <td>57687.02</td>\n",
       "      <td>57736.27</td>\n",
       "      <td>57684.66</td>\n",
       "      <td>57712.83</td>\n",
       "      <td>17.19864</td>\n",
       "    </tr>\n",
       "    <tr>\n",
       "      <th>2021-11-21 21:18:00-06:00</th>\n",
       "      <td>57712.83</td>\n",
       "      <td>57763.39</td>\n",
       "      <td>57712.82</td>\n",
       "      <td>57761.86</td>\n",
       "      <td>10.36728</td>\n",
       "    </tr>\n",
       "    <tr>\n",
       "      <th>2021-11-21 21:19:00-06:00</th>\n",
       "      <td>57761.86</td>\n",
       "      <td>57803.23</td>\n",
       "      <td>57758.01</td>\n",
       "      <td>57759.90</td>\n",
       "      <td>17.99742</td>\n",
       "    </tr>\n",
       "    <tr>\n",
       "      <th>2021-11-21 21:20:00-06:00</th>\n",
       "      <td>57759.90</td>\n",
       "      <td>57759.91</td>\n",
       "      <td>57720.01</td>\n",
       "      <td>57739.16</td>\n",
       "      <td>11.02835</td>\n",
       "    </tr>\n",
       "    <tr>\n",
       "      <th>2021-11-21 21:21:00-06:00</th>\n",
       "      <td>57739.16</td>\n",
       "      <td>57739.64</td>\n",
       "      <td>57686.14</td>\n",
       "      <td>57700.01</td>\n",
       "      <td>24.07973</td>\n",
       "    </tr>\n",
       "    <tr>\n",
       "      <th>2021-11-21 21:22:00-06:00</th>\n",
       "      <td>57700.00</td>\n",
       "      <td>57719.07</td>\n",
       "      <td>57656.57</td>\n",
       "      <td>57676.46</td>\n",
       "      <td>16.36998</td>\n",
       "    </tr>\n",
       "    <tr>\n",
       "      <th>2021-11-21 21:23:00-06:00</th>\n",
       "      <td>57676.46</td>\n",
       "      <td>57682.75</td>\n",
       "      <td>57650.00</td>\n",
       "      <td>57663.26</td>\n",
       "      <td>13.78064</td>\n",
       "    </tr>\n",
       "    <tr>\n",
       "      <th>2021-11-21 21:24:00-06:00</th>\n",
       "      <td>57663.26</td>\n",
       "      <td>57664.11</td>\n",
       "      <td>57641.44</td>\n",
       "      <td>57642.71</td>\n",
       "      <td>12.59113</td>\n",
       "    </tr>\n",
       "    <tr>\n",
       "      <th>2021-11-21 21:25:00-06:00</th>\n",
       "      <td>57642.72</td>\n",
       "      <td>57718.70</td>\n",
       "      <td>57637.26</td>\n",
       "      <td>57686.16</td>\n",
       "      <td>16.23464</td>\n",
       "    </tr>\n",
       "    <tr>\n",
       "      <th>2021-11-21 21:26:00-06:00</th>\n",
       "      <td>57686.16</td>\n",
       "      <td>57707.98</td>\n",
       "      <td>57644.24</td>\n",
       "      <td>57668.86</td>\n",
       "      <td>19.46746</td>\n",
       "    </tr>\n",
       "  </tbody>\n",
       "</table>\n",
       "</div>"
      ],
      "text/plain": [
       "                               Open      High       Low      Last    Volume\n",
       "Date_and_Time                                                              \n",
       "2021-11-21 21:17:00-06:00  57687.02  57736.27  57684.66  57712.83  17.19864\n",
       "2021-11-21 21:18:00-06:00  57712.83  57763.39  57712.82  57761.86  10.36728\n",
       "2021-11-21 21:19:00-06:00  57761.86  57803.23  57758.01  57759.90  17.99742\n",
       "2021-11-21 21:20:00-06:00  57759.90  57759.91  57720.01  57739.16  11.02835\n",
       "2021-11-21 21:21:00-06:00  57739.16  57739.64  57686.14  57700.01  24.07973\n",
       "2021-11-21 21:22:00-06:00  57700.00  57719.07  57656.57  57676.46  16.36998\n",
       "2021-11-21 21:23:00-06:00  57676.46  57682.75  57650.00  57663.26  13.78064\n",
       "2021-11-21 21:24:00-06:00  57663.26  57664.11  57641.44  57642.71  12.59113\n",
       "2021-11-21 21:25:00-06:00  57642.72  57718.70  57637.26  57686.16  16.23464\n",
       "2021-11-21 21:26:00-06:00  57686.16  57707.98  57644.24  57668.86  19.46746"
      ]
     },
     "execution_count": 6,
     "metadata": {},
     "output_type": "execute_result"
    }
   ],
   "source": [
    "crypto_df.tail(10)"
   ]
  },
  {
   "cell_type": "code",
   "execution_count": 7,
   "id": "d3534926",
   "metadata": {
    "ExecuteTime": {
     "end_time": "2021-11-22T03:26:51.360792Z",
     "start_time": "2021-11-22T03:26:51.148461Z"
    }
   },
   "outputs": [
    {
     "data": {
      "image/png": "[encoded data removed]",
      "text/plain": [
       "<Figure size 1080x360 with 1 Axes>"
      ]
     },
     "metadata": {},
     "output_type": "display_data"
    }
   ],
   "source": [
    "# plot prices\n",
    "plt.figure(figsize=(15, 5))\n",
    "plt.plot(crypto_df['Last'],label='closing price', linewidth = 0.9)\n",
    "plt.title('Closing Price History From Previous month')\n",
    "plt.xlabel('Date')\n",
    "plt.ylabel('Price USD')\n",
    "plt.xticks(rotation=30)\n",
    "plt.show()"
   ]
  },
  {
   "cell_type": "code",
   "execution_count": 8,
   "id": "cf2fdcdd",
   "metadata": {
    "ExecuteTime": {
     "end_time": "2021-11-22T03:26:51.376746Z",
     "start_time": "2021-11-22T03:26:51.362783Z"
    }
   },
   "outputs": [],
   "source": [
    "# fig = go.Figure(data=[go.Candlestick(x=crypto_df.index,\n",
    "#                 open=crypto_df['Open'],\n",
    "#                 high=crypto_df['High'],\n",
    "#                 low=crypto_df['Low'],\n",
    "#                 close=crypto_df['Last'])])\n",
    "# fig.update_layout(xaxis_rangeslider_visible=False)\n",
    "# fig.show()"
   ]
  },
  {
   "cell_type": "markdown",
   "id": "804619cc",
   "metadata": {},
   "source": [
    "## code machine larning: Linear regresion and tecnical indicators"
   ]
  },
  {
   "cell_type": "code",
   "execution_count": 9,
   "id": "69d61bca",
   "metadata": {
    "ExecuteTime": {
     "end_time": "2021-11-22T03:26:51.406665Z",
     "start_time": "2021-11-22T03:26:51.381733Z"
    }
   },
   "outputs": [
    {
     "data": {
      "text/html": [
       "<div>\n",
       "<style scoped>\n",
       "    .dataframe tbody tr th:only-of-type {\n",
       "        vertical-align: middle;\n",
       "    }\n",
       "\n",
       "    .dataframe tbody tr th {\n",
       "        vertical-align: top;\n",
       "    }\n",
       "\n",
       "    .dataframe thead th {\n",
       "        text-align: right;\n",
       "    }\n",
       "</style>\n",
       "<table border=\"1\" class=\"dataframe\">\n",
       "  <thead>\n",
       "    <tr style=\"text-align: right;\">\n",
       "      <th></th>\n",
       "      <th>Last</th>\n",
       "    </tr>\n",
       "    <tr>\n",
       "      <th>Date_and_Time</th>\n",
       "      <th></th>\n",
       "    </tr>\n",
       "  </thead>\n",
       "  <tbody>\n",
       "    <tr>\n",
       "      <th>2021-11-20 21:27:00-06:00</th>\n",
       "      <td>58964.99</td>\n",
       "    </tr>\n",
       "    <tr>\n",
       "      <th>2021-11-20 21:28:00-06:00</th>\n",
       "      <td>58979.28</td>\n",
       "    </tr>\n",
       "    <tr>\n",
       "      <th>2021-11-20 21:29:00-06:00</th>\n",
       "      <td>58942.01</td>\n",
       "    </tr>\n",
       "    <tr>\n",
       "      <th>2021-11-20 21:30:00-06:00</th>\n",
       "      <td>58960.09</td>\n",
       "    </tr>\n",
       "    <tr>\n",
       "      <th>2021-11-20 21:31:00-06:00</th>\n",
       "      <td>58935.14</td>\n",
       "    </tr>\n",
       "    <tr>\n",
       "      <th>2021-11-20 21:32:00-06:00</th>\n",
       "      <td>58913.53</td>\n",
       "    </tr>\n",
       "    <tr>\n",
       "      <th>2021-11-20 21:33:00-06:00</th>\n",
       "      <td>58927.20</td>\n",
       "    </tr>\n",
       "    <tr>\n",
       "      <th>2021-11-20 21:34:00-06:00</th>\n",
       "      <td>58929.66</td>\n",
       "    </tr>\n",
       "    <tr>\n",
       "      <th>2021-11-20 21:35:00-06:00</th>\n",
       "      <td>58952.43</td>\n",
       "    </tr>\n",
       "    <tr>\n",
       "      <th>2021-11-20 21:36:00-06:00</th>\n",
       "      <td>58911.11</td>\n",
       "    </tr>\n",
       "    <tr>\n",
       "      <th>2021-11-20 21:37:00-06:00</th>\n",
       "      <td>58942.05</td>\n",
       "    </tr>\n",
       "    <tr>\n",
       "      <th>2021-11-20 21:38:00-06:00</th>\n",
       "      <td>58941.20</td>\n",
       "    </tr>\n",
       "    <tr>\n",
       "      <th>2021-11-20 21:39:00-06:00</th>\n",
       "      <td>58909.01</td>\n",
       "    </tr>\n",
       "    <tr>\n",
       "      <th>2021-11-20 21:40:00-06:00</th>\n",
       "      <td>58907.99</td>\n",
       "    </tr>\n",
       "    <tr>\n",
       "      <th>2021-11-20 21:41:00-06:00</th>\n",
       "      <td>58830.22</td>\n",
       "    </tr>\n",
       "    <tr>\n",
       "      <th>2021-11-20 21:42:00-06:00</th>\n",
       "      <td>58836.99</td>\n",
       "    </tr>\n",
       "  </tbody>\n",
       "</table>\n",
       "</div>"
      ],
      "text/plain": [
       "                               Last\n",
       "Date_and_Time                      \n",
       "2021-11-20 21:27:00-06:00  58964.99\n",
       "2021-11-20 21:28:00-06:00  58979.28\n",
       "2021-11-20 21:29:00-06:00  58942.01\n",
       "2021-11-20 21:30:00-06:00  58960.09\n",
       "2021-11-20 21:31:00-06:00  58935.14\n",
       "2021-11-20 21:32:00-06:00  58913.53\n",
       "2021-11-20 21:33:00-06:00  58927.20\n",
       "2021-11-20 21:34:00-06:00  58929.66\n",
       "2021-11-20 21:35:00-06:00  58952.43\n",
       "2021-11-20 21:36:00-06:00  58911.11\n",
       "2021-11-20 21:37:00-06:00  58942.05\n",
       "2021-11-20 21:38:00-06:00  58941.20\n",
       "2021-11-20 21:39:00-06:00  58909.01\n",
       "2021-11-20 21:40:00-06:00  58907.99\n",
       "2021-11-20 21:41:00-06:00  58830.22\n",
       "2021-11-20 21:42:00-06:00  58836.99"
      ]
     },
     "execution_count": 9,
     "metadata": {},
     "output_type": "execute_result"
    }
   ],
   "source": [
    "# showing only BTC price\n",
    "crypto_last_price_df = crypto_df[['Last']]\n",
    "crypto_last_price_df.head(16)"
   ]
  },
  {
   "cell_type": "code",
   "execution_count": 10,
   "id": "77881f42",
   "metadata": {
    "ExecuteTime": {
     "end_time": "2021-11-22T03:26:51.422622Z",
     "start_time": "2021-11-22T03:26:51.408661Z"
    }
   },
   "outputs": [
    {
     "name": "stderr",
     "output_type": "stream",
     "text": [
      "<ipython-input-10-91f82b2f9c00>:5: SettingWithCopyWarning: \n",
      "A value is trying to be set on a copy of a slice from a DataFrame.\n",
      "Try using .loc[row_indexer,col_indexer] = value instead\n",
      "\n",
      "See the caveats in the documentation: https://pandas.pydata.org/pandas-docs/stable/user_guide/indexing.html#returning-a-view-versus-a-copy\n",
      "  crypto_last_price_df['Prediction'] = crypto_last_price_df[['Last']].shift(-predict_periods)\n"
     ]
    }
   ],
   "source": [
    "#  variable for predicting x number of periods into the future\n",
    "predict_periods = 16 #numer of periods, then change this info to function\n",
    "\n",
    "# create another column shifted n units up\n",
    "crypto_last_price_df['Prediction'] = crypto_last_price_df[['Last']].shift(-predict_periods)"
   ]
  },
  {
   "cell_type": "code",
   "execution_count": 11,
   "id": "fb071096",
   "metadata": {
    "ExecuteTime": {
     "end_time": "2021-11-22T03:26:51.438579Z",
     "start_time": "2021-11-22T03:26:51.424618Z"
    }
   },
   "outputs": [
    {
     "data": {
      "text/html": [
       "<div>\n",
       "<style scoped>\n",
       "    .dataframe tbody tr th:only-of-type {\n",
       "        vertical-align: middle;\n",
       "    }\n",
       "\n",
       "    .dataframe tbody tr th {\n",
       "        vertical-align: top;\n",
       "    }\n",
       "\n",
       "    .dataframe thead th {\n",
       "        text-align: right;\n",
       "    }\n",
       "</style>\n",
       "<table border=\"1\" class=\"dataframe\">\n",
       "  <thead>\n",
       "    <tr style=\"text-align: right;\">\n",
       "      <th></th>\n",
       "      <th>Last</th>\n",
       "      <th>Prediction</th>\n",
       "    </tr>\n",
       "    <tr>\n",
       "      <th>Date_and_Time</th>\n",
       "      <th></th>\n",
       "      <th></th>\n",
       "    </tr>\n",
       "  </thead>\n",
       "  <tbody>\n",
       "    <tr>\n",
       "      <th>2021-11-20 21:27:00-06:00</th>\n",
       "      <td>58964.99</td>\n",
       "      <td>58835.29</td>\n",
       "    </tr>\n",
       "    <tr>\n",
       "      <th>2021-11-20 21:28:00-06:00</th>\n",
       "      <td>58979.28</td>\n",
       "      <td>58791.66</td>\n",
       "    </tr>\n",
       "    <tr>\n",
       "      <th>2021-11-20 21:29:00-06:00</th>\n",
       "      <td>58942.01</td>\n",
       "      <td>58796.32</td>\n",
       "    </tr>\n",
       "    <tr>\n",
       "      <th>2021-11-20 21:30:00-06:00</th>\n",
       "      <td>58960.09</td>\n",
       "      <td>58785.73</td>\n",
       "    </tr>\n",
       "    <tr>\n",
       "      <th>2021-11-20 21:31:00-06:00</th>\n",
       "      <td>58935.14</td>\n",
       "      <td>58750.01</td>\n",
       "    </tr>\n",
       "    <tr>\n",
       "      <th>2021-11-20 21:32:00-06:00</th>\n",
       "      <td>58913.53</td>\n",
       "      <td>58735.77</td>\n",
       "    </tr>\n",
       "    <tr>\n",
       "      <th>2021-11-20 21:33:00-06:00</th>\n",
       "      <td>58927.20</td>\n",
       "      <td>58766.95</td>\n",
       "    </tr>\n",
       "    <tr>\n",
       "      <th>2021-11-20 21:34:00-06:00</th>\n",
       "      <td>58929.66</td>\n",
       "      <td>58663.25</td>\n",
       "    </tr>\n",
       "    <tr>\n",
       "      <th>2021-11-20 21:35:00-06:00</th>\n",
       "      <td>58952.43</td>\n",
       "      <td>58594.10</td>\n",
       "    </tr>\n",
       "    <tr>\n",
       "      <th>2021-11-20 21:36:00-06:00</th>\n",
       "      <td>58911.11</td>\n",
       "      <td>58602.24</td>\n",
       "    </tr>\n",
       "    <tr>\n",
       "      <th>2021-11-20 21:37:00-06:00</th>\n",
       "      <td>58942.05</td>\n",
       "      <td>58662.42</td>\n",
       "    </tr>\n",
       "    <tr>\n",
       "      <th>2021-11-20 21:38:00-06:00</th>\n",
       "      <td>58941.20</td>\n",
       "      <td>58704.27</td>\n",
       "    </tr>\n",
       "    <tr>\n",
       "      <th>2021-11-20 21:39:00-06:00</th>\n",
       "      <td>58909.01</td>\n",
       "      <td>58688.37</td>\n",
       "    </tr>\n",
       "    <tr>\n",
       "      <th>2021-11-20 21:40:00-06:00</th>\n",
       "      <td>58907.99</td>\n",
       "      <td>58604.42</td>\n",
       "    </tr>\n",
       "    <tr>\n",
       "      <th>2021-11-20 21:41:00-06:00</th>\n",
       "      <td>58830.22</td>\n",
       "      <td>58660.07</td>\n",
       "    </tr>\n",
       "    <tr>\n",
       "      <th>2021-11-20 21:42:00-06:00</th>\n",
       "      <td>58836.99</td>\n",
       "      <td>58613.10</td>\n",
       "    </tr>\n",
       "  </tbody>\n",
       "</table>\n",
       "</div>"
      ],
      "text/plain": [
       "                               Last  Prediction\n",
       "Date_and_Time                                  \n",
       "2021-11-20 21:27:00-06:00  58964.99    58835.29\n",
       "2021-11-20 21:28:00-06:00  58979.28    58791.66\n",
       "2021-11-20 21:29:00-06:00  58942.01    58796.32\n",
       "2021-11-20 21:30:00-06:00  58960.09    58785.73\n",
       "2021-11-20 21:31:00-06:00  58935.14    58750.01\n",
       "2021-11-20 21:32:00-06:00  58913.53    58735.77\n",
       "2021-11-20 21:33:00-06:00  58927.20    58766.95\n",
       "2021-11-20 21:34:00-06:00  58929.66    58663.25\n",
       "2021-11-20 21:35:00-06:00  58952.43    58594.10\n",
       "2021-11-20 21:36:00-06:00  58911.11    58602.24\n",
       "2021-11-20 21:37:00-06:00  58942.05    58662.42\n",
       "2021-11-20 21:38:00-06:00  58941.20    58704.27\n",
       "2021-11-20 21:39:00-06:00  58909.01    58688.37\n",
       "2021-11-20 21:40:00-06:00  58907.99    58604.42\n",
       "2021-11-20 21:41:00-06:00  58830.22    58660.07\n",
       "2021-11-20 21:42:00-06:00  58836.99    58613.10"
      ]
     },
     "execution_count": 11,
     "metadata": {},
     "output_type": "execute_result"
    }
   ],
   "source": [
    "# show df with new column\n",
    "crypto_last_price_df.head(16)"
   ]
  },
  {
   "cell_type": "code",
   "execution_count": 12,
   "id": "ca050d05",
   "metadata": {
    "ExecuteTime": {
     "end_time": "2021-11-22T03:26:51.454049Z",
     "start_time": "2021-11-22T03:26:51.441084Z"
    }
   },
   "outputs": [
    {
     "data": {
      "text/html": [
       "<div>\n",
       "<style scoped>\n",
       "    .dataframe tbody tr th:only-of-type {\n",
       "        vertical-align: middle;\n",
       "    }\n",
       "\n",
       "    .dataframe tbody tr th {\n",
       "        vertical-align: top;\n",
       "    }\n",
       "\n",
       "    .dataframe thead th {\n",
       "        text-align: right;\n",
       "    }\n",
       "</style>\n",
       "<table border=\"1\" class=\"dataframe\">\n",
       "  <thead>\n",
       "    <tr style=\"text-align: right;\">\n",
       "      <th></th>\n",
       "      <th>Last</th>\n",
       "      <th>Prediction</th>\n",
       "    </tr>\n",
       "    <tr>\n",
       "      <th>Date_and_Time</th>\n",
       "      <th></th>\n",
       "      <th></th>\n",
       "    </tr>\n",
       "  </thead>\n",
       "  <tbody>\n",
       "    <tr>\n",
       "      <th>2021-11-21 21:10:00-06:00</th>\n",
       "      <td>57704.76</td>\n",
       "      <td>57668.86</td>\n",
       "    </tr>\n",
       "    <tr>\n",
       "      <th>2021-11-21 21:11:00-06:00</th>\n",
       "      <td>57671.86</td>\n",
       "      <td>NaN</td>\n",
       "    </tr>\n",
       "    <tr>\n",
       "      <th>2021-11-21 21:12:00-06:00</th>\n",
       "      <td>57672.02</td>\n",
       "      <td>NaN</td>\n",
       "    </tr>\n",
       "    <tr>\n",
       "      <th>2021-11-21 21:13:00-06:00</th>\n",
       "      <td>57723.96</td>\n",
       "      <td>NaN</td>\n",
       "    </tr>\n",
       "    <tr>\n",
       "      <th>2021-11-21 21:14:00-06:00</th>\n",
       "      <td>57711.01</td>\n",
       "      <td>NaN</td>\n",
       "    </tr>\n",
       "    <tr>\n",
       "      <th>2021-11-21 21:15:00-06:00</th>\n",
       "      <td>57694.70</td>\n",
       "      <td>NaN</td>\n",
       "    </tr>\n",
       "    <tr>\n",
       "      <th>2021-11-21 21:16:00-06:00</th>\n",
       "      <td>57687.03</td>\n",
       "      <td>NaN</td>\n",
       "    </tr>\n",
       "    <tr>\n",
       "      <th>2021-11-21 21:17:00-06:00</th>\n",
       "      <td>57712.83</td>\n",
       "      <td>NaN</td>\n",
       "    </tr>\n",
       "    <tr>\n",
       "      <th>2021-11-21 21:18:00-06:00</th>\n",
       "      <td>57761.86</td>\n",
       "      <td>NaN</td>\n",
       "    </tr>\n",
       "    <tr>\n",
       "      <th>2021-11-21 21:19:00-06:00</th>\n",
       "      <td>57759.90</td>\n",
       "      <td>NaN</td>\n",
       "    </tr>\n",
       "    <tr>\n",
       "      <th>2021-11-21 21:20:00-06:00</th>\n",
       "      <td>57739.16</td>\n",
       "      <td>NaN</td>\n",
       "    </tr>\n",
       "    <tr>\n",
       "      <th>2021-11-21 21:21:00-06:00</th>\n",
       "      <td>57700.01</td>\n",
       "      <td>NaN</td>\n",
       "    </tr>\n",
       "    <tr>\n",
       "      <th>2021-11-21 21:22:00-06:00</th>\n",
       "      <td>57676.46</td>\n",
       "      <td>NaN</td>\n",
       "    </tr>\n",
       "    <tr>\n",
       "      <th>2021-11-21 21:23:00-06:00</th>\n",
       "      <td>57663.26</td>\n",
       "      <td>NaN</td>\n",
       "    </tr>\n",
       "    <tr>\n",
       "      <th>2021-11-21 21:24:00-06:00</th>\n",
       "      <td>57642.71</td>\n",
       "      <td>NaN</td>\n",
       "    </tr>\n",
       "    <tr>\n",
       "      <th>2021-11-21 21:25:00-06:00</th>\n",
       "      <td>57686.16</td>\n",
       "      <td>NaN</td>\n",
       "    </tr>\n",
       "    <tr>\n",
       "      <th>2021-11-21 21:26:00-06:00</th>\n",
       "      <td>57668.86</td>\n",
       "      <td>NaN</td>\n",
       "    </tr>\n",
       "  </tbody>\n",
       "</table>\n",
       "</div>"
      ],
      "text/plain": [
       "                               Last  Prediction\n",
       "Date_and_Time                                  \n",
       "2021-11-21 21:10:00-06:00  57704.76    57668.86\n",
       "2021-11-21 21:11:00-06:00  57671.86         NaN\n",
       "2021-11-21 21:12:00-06:00  57672.02         NaN\n",
       "2021-11-21 21:13:00-06:00  57723.96         NaN\n",
       "2021-11-21 21:14:00-06:00  57711.01         NaN\n",
       "2021-11-21 21:15:00-06:00  57694.70         NaN\n",
       "2021-11-21 21:16:00-06:00  57687.03         NaN\n",
       "2021-11-21 21:17:00-06:00  57712.83         NaN\n",
       "2021-11-21 21:18:00-06:00  57761.86         NaN\n",
       "2021-11-21 21:19:00-06:00  57759.90         NaN\n",
       "2021-11-21 21:20:00-06:00  57739.16         NaN\n",
       "2021-11-21 21:21:00-06:00  57700.01         NaN\n",
       "2021-11-21 21:22:00-06:00  57676.46         NaN\n",
       "2021-11-21 21:23:00-06:00  57663.26         NaN\n",
       "2021-11-21 21:24:00-06:00  57642.71         NaN\n",
       "2021-11-21 21:25:00-06:00  57686.16         NaN\n",
       "2021-11-21 21:26:00-06:00  57668.86         NaN"
      ]
     },
     "execution_count": 12,
     "metadata": {},
     "output_type": "execute_result"
    }
   ],
   "source": [
    "# show last 15 rows of new dataset\n",
    "crypto_last_price_df.tail(17)"
   ]
  },
  {
   "cell_type": "code",
   "execution_count": 13,
   "id": "9c3a1a9d",
   "metadata": {
    "ExecuteTime": {
     "end_time": "2021-11-22T03:26:51.469014Z",
     "start_time": "2021-11-22T03:26:51.455045Z"
    }
   },
   "outputs": [
    {
     "name": "stdout",
     "output_type": "stream",
     "text": [
      "[[58964.99]\n",
      " [58979.28]\n",
      " [58942.01]\n",
      " ...\n",
      " [57678.45]\n",
      " [57712.57]\n",
      " [57704.76]]\n"
     ]
    }
   ],
   "source": [
    "# create independent dataset, convert the dataframe to a np array and drop prediction column\n",
    "a=np.array(crypto_last_price_df[['Last']])\n",
    "#remove the last n rows where n is the prediction days\n",
    "a=a[:-predict_periods]\n",
    "print(a)"
   ]
  },
  {
   "cell_type": "code",
   "execution_count": 14,
   "id": "d8d25173",
   "metadata": {
    "ExecuteTime": {
     "end_time": "2021-11-22T03:26:51.484965Z",
     "start_time": "2021-11-22T03:26:51.472002Z"
    }
   },
   "outputs": [
    {
     "name": "stdout",
     "output_type": "stream",
     "text": [
      "[58835.29 58791.66 58796.32 ... 57642.71 57686.16 57668.86]\n"
     ]
    }
   ],
   "source": [
    "# CREATE THE DEPENDENT DATA SET\n",
    "#CONVERT THE DF TO A NP ARRAY\n",
    "b = crypto_last_price_df['Prediction'].values\n",
    "\n",
    "#get all values except las n rows\n",
    "b = b[:-predict_periods]\n",
    "print(b)"
   ]
  },
  {
   "cell_type": "code",
   "execution_count": 15,
   "id": "79129978",
   "metadata": {
    "ExecuteTime": {
     "end_time": "2021-11-22T03:26:51.499926Z",
     "start_time": "2021-11-22T03:26:51.486960Z"
    }
   },
   "outputs": [],
   "source": [
    "# split the data into 85% traning and 15% testing\n",
    "a_train, a_test, b_train, b_test = train_test_split(a,b, test_size = 0.15, shuffle = False)"
   ]
  },
  {
   "cell_type": "code",
   "execution_count": 16,
   "id": "76b74f96",
   "metadata": {
    "ExecuteTime": {
     "end_time": "2021-11-22T03:26:51.531842Z",
     "start_time": "2021-11-22T03:26:51.503915Z"
    }
   },
   "outputs": [
    {
     "data": {
      "text/plain": [
       "LinearRegression()"
      ]
     },
     "execution_count": 16,
     "metadata": {},
     "output_type": "execute_result"
    }
   ],
   "source": [
    "# create and train the model\n",
    "Lreg = LinearRegression()\n",
    "# train\n",
    "Lreg.fit(a_train,b_train)\n"
   ]
  },
  {
   "cell_type": "code",
   "execution_count": 17,
   "id": "675120b8",
   "metadata": {
    "ExecuteTime": {
     "end_time": "2021-11-22T03:26:51.547797Z",
     "start_time": "2021-11-22T03:26:51.532837Z"
    }
   },
   "outputs": [
    {
     "name": "stdout",
     "output_type": "stream",
     "text": [
      "LIN REG SIMILARITY: -0.22891277569284574\n"
     ]
    }
   ],
   "source": [
    "# test shows R^2 \n",
    "Lreg_similarity = Lreg.score(a_test,b_test)\n",
    "print('LIN REG SIMILARITY:', Lreg_similarity)"
   ]
  },
  {
   "cell_type": "code",
   "execution_count": 18,
   "id": "9deed59d",
   "metadata": {
    "ExecuteTime": {
     "end_time": "2021-11-22T03:26:51.563754Z",
     "start_time": "2021-11-22T03:26:51.549792Z"
    }
   },
   "outputs": [
    {
     "name": "stdout",
     "output_type": "stream",
     "text": [
      "[[57671.86]\n",
      " [57672.02]\n",
      " [57723.96]\n",
      " [57711.01]\n",
      " [57694.7 ]\n",
      " [57687.03]\n",
      " [57712.83]\n",
      " [57761.86]\n",
      " [57759.9 ]\n",
      " [57739.16]\n",
      " [57700.01]\n",
      " [57676.46]\n",
      " [57663.26]\n",
      " [57642.71]\n",
      " [57686.16]\n",
      " [57668.86]]\n"
     ]
    }
   ],
   "source": [
    "# create variable a_projection and set equal to last 14 rows of original dataset\n",
    "a_projection = np.array(crypto_last_price_df[['Last']])[-predict_periods:]\n",
    "print(a_projection)"
   ]
  },
  {
   "cell_type": "code",
   "execution_count": 19,
   "id": "b91d22c5",
   "metadata": {
    "ExecuteTime": {
     "end_time": "2021-11-22T03:26:51.579712Z",
     "start_time": "2021-11-22T03:26:51.564751Z"
    }
   },
   "outputs": [
    {
     "name": "stdout",
     "output_type": "stream",
     "text": [
      "[57888.27612825 57888.4118379  57932.46658322 57921.48258338\n",
      " 57907.64868087 57901.1430995  57923.02628065 57964.6128067\n",
      " 57962.95036348 57945.35900002 57912.1525449  57892.17778071\n",
      " 57880.98173453 57863.55152629 57900.40517827 57885.7315723 ]\n"
     ]
    }
   ],
   "source": [
    "# print lreg models predictions for next 14 days\n",
    "Lreg_predict = Lreg.predict(a_projection)\n",
    "print(Lreg_predict)"
   ]
  },
  {
   "cell_type": "code",
   "execution_count": 30,
   "id": "36a61a75",
   "metadata": {
    "ExecuteTime": {
     "end_time": "2021-11-22T03:27:42.228853Z",
     "start_time": "2021-11-22T03:27:42.203919Z"
    }
   },
   "outputs": [
    {
     "name": "stdout",
     "output_type": "stream",
     "text": [
      "['.ipynb_checkpoints', 'previous_predicted_price_2021_11_21_09_24_57_PM.csv', 'previous_predicted_price_2021_11_21_09_26_51_PM.csv']\n",
      "===============\n",
      "previous_predicted_price_2021_11_21_09_24_57_PM.csv\n"
     ]
    },
    {
     "data": {
      "text/html": [
       "<div>\n",
       "<style scoped>\n",
       "    .dataframe tbody tr th:only-of-type {\n",
       "        vertical-align: middle;\n",
       "    }\n",
       "\n",
       "    .dataframe tbody tr th {\n",
       "        vertical-align: top;\n",
       "    }\n",
       "\n",
       "    .dataframe thead th {\n",
       "        text-align: right;\n",
       "    }\n",
       "</style>\n",
       "<table border=\"1\" class=\"dataframe\">\n",
       "  <thead>\n",
       "    <tr style=\"text-align: right;\">\n",
       "      <th></th>\n",
       "      <th>actual_price</th>\n",
       "      <th>predicted_price</th>\n",
       "      <th>previously_predicted_price</th>\n",
       "    </tr>\n",
       "  </thead>\n",
       "  <tbody>\n",
       "    <tr>\n",
       "      <th>0</th>\n",
       "      <td>[57671.86]</td>\n",
       "      <td>57888.276128</td>\n",
       "      <td>57922.401425</td>\n",
       "    </tr>\n",
       "    <tr>\n",
       "      <th>1</th>\n",
       "      <td>[57672.02]</td>\n",
       "      <td>57888.411838</td>\n",
       "      <td>57915.773269</td>\n",
       "    </tr>\n",
       "    <tr>\n",
       "      <th>2</th>\n",
       "      <td>[57723.96]</td>\n",
       "      <td>57932.466583</td>\n",
       "      <td>57887.851841</td>\n",
       "    </tr>\n",
       "    <tr>\n",
       "      <th>3</th>\n",
       "      <td>[57711.01]</td>\n",
       "      <td>57921.482583</td>\n",
       "      <td>57887.987629</td>\n",
       "    </tr>\n",
       "    <tr>\n",
       "      <th>4</th>\n",
       "      <td>[57694.7]</td>\n",
       "      <td>57907.648681</td>\n",
       "      <td>57932.067840</td>\n",
       "    </tr>\n",
       "  </tbody>\n",
       "</table>\n",
       "</div>"
      ],
      "text/plain": [
       "  actual_price  predicted_price  previously_predicted_price\n",
       "0   [57671.86]     57888.276128                57922.401425\n",
       "1   [57672.02]     57888.411838                57915.773269\n",
       "2   [57723.96]     57932.466583                57887.851841\n",
       "3   [57711.01]     57921.482583                57887.987629\n",
       "4    [57694.7]     57907.648681                57932.067840"
      ]
     },
     "execution_count": 30,
     "metadata": {},
     "output_type": "execute_result"
    }
   ],
   "source": [
    "results_compare=zip(a_projection,Lreg_predict)\n",
    "results_df= pd.DataFrame(results_compare, columns = ['actual_price', 'predicted_price'])\n",
    "\n",
    "previously_predicted = results_df[['predicted_price']]\n",
    "\n",
    "date = datetime.now().strftime(\"%Y_%m_%d_%I_%M_%S_%p\")\n",
    "previously_predicted.to_csv(f'Resources/previous_predicted_price_{date}.csv') \n",
    "\n",
    "pwd = os.getcwd()\n",
    "path = os.path.join(pwd,'Resources')\n",
    "entries = os.listdir(path)\n",
    "\n",
    "price_results_df = pd.concat([results_df, pd.read_csv('Resources/'+ entries[-2])], axis =1)\n",
    "price_results_df.drop(columns=['Unnamed: 0'],inplace=True, axis=1)\n",
    "price_results_df.columns = ['actual_price', 'predicted_price', \n",
    "                                            'previously_predicted_price']\n",
    "price_results_df.head(17)"
   ]
  },
  {
   "cell_type": "code",
   "execution_count": 21,
   "id": "2f71f3e1",
   "metadata": {
    "ExecuteTime": {
     "end_time": "2021-11-22T03:26:51.625589Z",
     "start_time": "2021-11-22T03:26:51.610649Z"
    }
   },
   "outputs": [
    {
     "data": {
      "text/html": [
       "<div>\n",
       "<style scoped>\n",
       "    .dataframe tbody tr th:only-of-type {\n",
       "        vertical-align: middle;\n",
       "    }\n",
       "\n",
       "    .dataframe tbody tr th {\n",
       "        vertical-align: top;\n",
       "    }\n",
       "\n",
       "    .dataframe thead th {\n",
       "        text-align: right;\n",
       "    }\n",
       "</style>\n",
       "<table border=\"1\" class=\"dataframe\">\n",
       "  <thead>\n",
       "    <tr style=\"text-align: right;\">\n",
       "      <th></th>\n",
       "      <th>predicted_price</th>\n",
       "    </tr>\n",
       "  </thead>\n",
       "  <tbody>\n",
       "    <tr>\n",
       "      <th>count</th>\n",
       "      <td>16.000000</td>\n",
       "    </tr>\n",
       "    <tr>\n",
       "      <th>mean</th>\n",
       "      <td>57910.648606</td>\n",
       "    </tr>\n",
       "    <tr>\n",
       "      <th>std</th>\n",
       "      <td>29.281234</td>\n",
       "    </tr>\n",
       "    <tr>\n",
       "      <th>min</th>\n",
       "      <td>57863.551526</td>\n",
       "    </tr>\n",
       "    <tr>\n",
       "      <th>25%</th>\n",
       "      <td>57888.377910</td>\n",
       "    </tr>\n",
       "    <tr>\n",
       "      <th>50%</th>\n",
       "      <td>57904.395890</td>\n",
       "    </tr>\n",
       "    <tr>\n",
       "      <th>75%</th>\n",
       "      <td>57925.386356</td>\n",
       "    </tr>\n",
       "    <tr>\n",
       "      <th>max</th>\n",
       "      <td>57964.612807</td>\n",
       "    </tr>\n",
       "  </tbody>\n",
       "</table>\n",
       "</div>"
      ],
      "text/plain": [
       "       predicted_price\n",
       "count        16.000000\n",
       "mean      57910.648606\n",
       "std          29.281234\n",
       "min       57863.551526\n",
       "25%       57888.377910\n",
       "50%       57904.395890\n",
       "75%       57925.386356\n",
       "max       57964.612807"
      ]
     },
     "execution_count": 21,
     "metadata": {},
     "output_type": "execute_result"
    }
   ],
   "source": [
    "results_df.describe()"
   ]
  },
  {
   "cell_type": "code",
   "execution_count": 22,
   "id": "8f13d83a",
   "metadata": {
    "ExecuteTime": {
     "end_time": "2021-11-22T03:26:51.768207Z",
     "start_time": "2021-11-22T03:26:51.627584Z"
    }
   },
   "outputs": [
    {
     "data": {
      "text/plain": [
       "<matplotlib.collections.PathCollection at 0x1c829221a90>"
      ]
     },
     "execution_count": 22,
     "metadata": {},
     "output_type": "execute_result"
    },
    {
     "data": {
      "image/png": "[encoded data removed]",
      "text/plain": [
       "<Figure size 432x288 with 1 Axes>"
      ]
     },
     "metadata": {},
     "output_type": "display_data"
    }
   ],
   "source": [
    "plt.scatter(a, b, color=\"DarkGreen\" )"
   ]
  },
  {
   "cell_type": "code",
   "execution_count": 23,
   "id": "8f115f5e",
   "metadata": {
    "ExecuteTime": {
     "end_time": "2021-11-22T03:26:51.908835Z",
     "start_time": "2021-11-22T03:26:51.769206Z"
    }
   },
   "outputs": [
    {
     "data": {
      "text/plain": [
       "[<matplotlib.lines.Line2D at 0x1c829366100>]"
      ]
     },
     "execution_count": 23,
     "metadata": {},
     "output_type": "execute_result"
    },
    {
     "data": {
      "image/png": "[encoded data removed]",
      "text/plain": [
       "<Figure size 432x288 with 1 Axes>"
      ]
     },
     "metadata": {},
     "output_type": "display_data"
    }
   ],
   "source": [
    "plt.plot(a_projection,Lreg_predict, color='r')"
   ]
  },
  {
   "cell_type": "code",
   "execution_count": 24,
   "id": "3b52cf3d",
   "metadata": {
    "ExecuteTime": {
     "end_time": "2021-11-22T03:26:52.049457Z",
     "start_time": "2021-11-22T03:26:51.914816Z"
    }
   },
   "outputs": [
    {
     "data": {
      "image/png": "[encoded data removed]",
      "text/plain": [
       "<Figure size 432x288 with 1 Axes>"
      ]
     },
     "metadata": {},
     "output_type": "display_data"
    }
   ],
   "source": [
    "plt.scatter(a, b, color=\"DarkGreen\" )\n",
    "plt.plot(a_projection,Lreg_predict, color='r')\n",
    "plt.show()"
   ]
  },
  {
   "cell_type": "markdown",
   "id": "f7fc16eb",
   "metadata": {},
   "source": [
    "## TI MACHINE L GRAPAHS"
   ]
  },
  {
   "cell_type": "code",
   "execution_count": 25,
   "id": "740e1643",
   "metadata": {
    "ExecuteTime": {
     "end_time": "2021-11-22T03:26:52.064416Z",
     "start_time": "2021-11-22T03:26:52.053445Z"
    }
   },
   "outputs": [],
   "source": [
    "def TI_MachLearn_graphs(df):\n",
    "    #Create DF for MACD\n",
    "    crypto_MACD_df= df.copy(deep=True)\n",
    "    #Calculate MACD and signal line \n",
    "    # short term EMA ewm=exponential weighted functions\n",
    "    crypto_MACD_df['S_EMA']=crypto_MACD_df.predicted_price.ewm(span=12, adjust=False).mean()\n",
    "    #Long term EMA ewm=exponential weighted functions\n",
    "    crypto_MACD_df['L_EMA']=crypto_MACD_df.predicted_price.ewm(span=26, adjust=False).mean()\n",
    "    #Calculate MACD line\n",
    "    crypto_MACD_df['MACD_line']=\\\n",
    "                              crypto_MACD_df.S_EMA-crypto_MACD_df.L_EMA\n",
    "    #calculate Signal Line\n",
    "    crypto_MACD_df['Sig_line']=\\\n",
    "                              crypto_MACD_df.MACD_line.ewm(span=9, adjust=False).mean()\n",
    "    \n",
    "    #chart from previous week\n",
    "    plt.figure(figsize=(12, 5))\n",
    "    plt.plot(crypto_MACD_df.MACD_line, label='BTC MACD', color='k')\n",
    "    plt.plot(crypto_MACD_df.Sig_line, label='signal ln', color='r')\n",
    "    plt.title('MACD graph next 16 periods')\n",
    "    plt.xlabel('Date')\n",
    "    plt.ylabel('PRICE USD')\n",
    "    plt.xticks(rotation=30)\n",
    "    plt.legend(loc='upper left')\n",
    "\n",
    "   ####################################################################################\n",
    "    crypto_BBand_df=df.copy(deep=True)\n",
    "    # calculate SMA, SD, UPPER BAN, LOWER BAND\n",
    "    #GET TIME PERIOD\n",
    "    period = 2 \n",
    "\n",
    "    # calculate SMA\n",
    "    crypto_BBand_df['SMA']=crypto_BBand_df['predicted_price'].rolling(window = period).mean()\n",
    "    #calculate std\n",
    "    crypto_BBand_df['STD']=crypto_BBand_df['predicted_price'].rolling(window = period).std()\n",
    "    #calculate BB UP\n",
    "    crypto_BBand_df['BBand Upper']=crypto_BBand_df['SMA']+(crypto_BBand_df['STD']*2)\n",
    "    #calculate BB LOW\n",
    "    crypto_BBand_df['BBand Lower']=crypto_BBand_df['SMA']-(crypto_BBand_df['STD']*2)\n",
    "\n",
    "    #list of colmns to keep\n",
    "    column_ls = ['predicted_price','SMA', 'BBand Upper','BBand Lower']\n",
    "    #plot data PREVIOUS WEEK\n",
    "    fig = plt.figure(figsize = (13,6))\n",
    "    ax=fig.add_subplot(1,1,1)\n",
    "    x_axis=crypto_BBand_df.index\n",
    "    ax.fill_between(x_axis,crypto_BBand_df['BBand Upper'], crypto_BBand_df['BBand Lower'],label='BBands', color='beige')\n",
    "    ax.plot(x_axis,crypto_BBand_df['predicted_price'], color = 'k', label='closing price')\n",
    "    ax.plot(x_axis,crypto_BBand_df['SMA'], color = 'r', label='SMA')\n",
    "    ax.set_title('BBands next 16 periods')\n",
    "    ax.set_xlabel('Date')\n",
    "    ax.set_ylabel('price')\n",
    "    plt.xticks(rotation=30)\n",
    "    ax.legend()\n",
    "    plt.show()    "
   ]
  },
  {
   "cell_type": "code",
   "execution_count": 26,
   "id": "8b3b58c1",
   "metadata": {
    "ExecuteTime": {
     "end_time": "2021-11-22T03:26:52.502292Z",
     "start_time": "2021-11-22T03:26:52.065416Z"
    }
   },
   "outputs": [
    {
     "data": {
      "image/png": "[encoded data removed]",
      "text/plain": [
       "<Figure size 864x360 with 1 Axes>"
      ]
     },
     "metadata": {},
     "output_type": "display_data"
    },
    {
     "data": {
      "image/png": "[encoded data removed]",
      "text/plain": [
       "<Figure size 936x432 with 1 Axes>"
      ]
     },
     "metadata": {},
     "output_type": "display_data"
    }
   ],
   "source": [
    "TI_MachLearn_graphs(results_df)"
   ]
  },
  {
   "cell_type": "markdown",
   "id": "cfe75315",
   "metadata": {
    "heading_collapsed": true
   },
   "source": [
    "## macd machine learning notification"
   ]
  },
  {
   "cell_type": "code",
   "execution_count": 27,
   "id": "afaac58d",
   "metadata": {
    "ExecuteTime": {
     "end_time": "2021-11-22T03:26:52.518231Z",
     "start_time": "2021-11-22T03:26:52.505246Z"
    },
    "hidden": true
   },
   "outputs": [],
   "source": [
    "#buy sell signal\n",
    "def alert_MACD_ML(signal):\n",
    "    buy = []\n",
    "#     crypto_buy_price = []\n",
    "#     crypto_sell_price = []\n",
    "    sell = []\n",
    "    flag = -1\n",
    "    for i in range(0,len(signal)):\n",
    "        if signal['MACD_line'][i] > signal['Sig_line'][i]:\n",
    "            sell.append(np.nan)\n",
    "            if flag != 1:\n",
    "                buy.append('1')\n",
    "                crypto_buy_price.append(signal['predicted_price'][i])\n",
    "                flag = 1\n",
    "            else:\n",
    "                buy.append(np.nan)\n",
    "        elif signal['MACD_line'][i] < signal['Sig_line'][i]:\n",
    "            buy.append(np.nan)\n",
    "            if flag != 0:\n",
    "                sell.append('1')\n",
    "                crypto_sell_price.append(signal['predicted_price'][i])\n",
    "                flag = 0\n",
    "            else:\n",
    "                sell.append(np.nan)\n",
    "                crypto_sell_price.append(np.nan)\n",
    "        else:\n",
    "            buy.append(np.nan)\n",
    "            sell.append(np.nan)\n",
    "    return(buy,sell)\n",
    "            "
   ]
  },
  {
   "cell_type": "code",
   "execution_count": 28,
   "id": "eec2f5fe",
   "metadata": {
    "ExecuteTime": {
     "end_time": "2021-11-22T03:26:52.549132Z",
     "start_time": "2021-11-22T03:26:52.520205Z"
    },
    "hidden": true
   },
   "outputs": [
    {
     "data": {
      "text/html": [
       "<div>\n",
       "<style scoped>\n",
       "    .dataframe tbody tr th:only-of-type {\n",
       "        vertical-align: middle;\n",
       "    }\n",
       "\n",
       "    .dataframe tbody tr th {\n",
       "        vertical-align: top;\n",
       "    }\n",
       "\n",
       "    .dataframe thead th {\n",
       "        text-align: right;\n",
       "    }\n",
       "</style>\n",
       "<table border=\"1\" class=\"dataframe\">\n",
       "  <thead>\n",
       "    <tr style=\"text-align: right;\">\n",
       "      <th></th>\n",
       "      <th>actual_price</th>\n",
       "      <th>predicted_price</th>\n",
       "      <th>S_EMA</th>\n",
       "      <th>L_EMA</th>\n",
       "      <th>MACD_line</th>\n",
       "      <th>Sig_line</th>\n",
       "    </tr>\n",
       "  </thead>\n",
       "  <tbody>\n",
       "    <tr>\n",
       "      <th>0</th>\n",
       "      <td>[57671.86]</td>\n",
       "      <td>57888.276128</td>\n",
       "      <td>57888.276128</td>\n",
       "      <td>57888.276128</td>\n",
       "      <td>0.000000</td>\n",
       "      <td>0.000000</td>\n",
       "    </tr>\n",
       "    <tr>\n",
       "      <th>1</th>\n",
       "      <td>[57672.02]</td>\n",
       "      <td>57888.411838</td>\n",
       "      <td>57888.297007</td>\n",
       "      <td>57888.286181</td>\n",
       "      <td>0.010826</td>\n",
       "      <td>0.002165</td>\n",
       "    </tr>\n",
       "    <tr>\n",
       "      <th>2</th>\n",
       "      <td>[57723.96]</td>\n",
       "      <td>57932.466583</td>\n",
       "      <td>57895.092326</td>\n",
       "      <td>57891.558803</td>\n",
       "      <td>3.533523</td>\n",
       "      <td>0.708437</td>\n",
       "    </tr>\n",
       "    <tr>\n",
       "      <th>3</th>\n",
       "      <td>[57711.01]</td>\n",
       "      <td>57921.482583</td>\n",
       "      <td>57899.152366</td>\n",
       "      <td>57893.775380</td>\n",
       "      <td>5.376986</td>\n",
       "      <td>1.642147</td>\n",
       "    </tr>\n",
       "    <tr>\n",
       "      <th>4</th>\n",
       "      <td>[57694.7]</td>\n",
       "      <td>57907.648681</td>\n",
       "      <td>57900.459491</td>\n",
       "      <td>57894.803031</td>\n",
       "      <td>5.656460</td>\n",
       "      <td>2.445009</td>\n",
       "    </tr>\n",
       "    <tr>\n",
       "      <th>5</th>\n",
       "      <td>[57687.03]</td>\n",
       "      <td>57901.143099</td>\n",
       "      <td>57900.564662</td>\n",
       "      <td>57895.272666</td>\n",
       "      <td>5.291995</td>\n",
       "      <td>3.014406</td>\n",
       "    </tr>\n",
       "    <tr>\n",
       "      <th>6</th>\n",
       "      <td>[57712.83]</td>\n",
       "      <td>57923.026281</td>\n",
       "      <td>57904.020295</td>\n",
       "      <td>57897.328489</td>\n",
       "      <td>6.691806</td>\n",
       "      <td>3.749886</td>\n",
       "    </tr>\n",
       "    <tr>\n",
       "      <th>7</th>\n",
       "      <td>[57761.86]</td>\n",
       "      <td>57964.612807</td>\n",
       "      <td>57913.342220</td>\n",
       "      <td>57902.312513</td>\n",
       "      <td>11.029707</td>\n",
       "      <td>5.205851</td>\n",
       "    </tr>\n",
       "    <tr>\n",
       "      <th>8</th>\n",
       "      <td>[57759.9]</td>\n",
       "      <td>57962.950363</td>\n",
       "      <td>57920.974242</td>\n",
       "      <td>57906.804206</td>\n",
       "      <td>14.170037</td>\n",
       "      <td>6.998688</td>\n",
       "    </tr>\n",
       "    <tr>\n",
       "      <th>9</th>\n",
       "      <td>[57739.16]</td>\n",
       "      <td>57945.359000</td>\n",
       "      <td>57924.725743</td>\n",
       "      <td>57909.660116</td>\n",
       "      <td>15.065627</td>\n",
       "      <td>8.612076</td>\n",
       "    </tr>\n",
       "    <tr>\n",
       "      <th>10</th>\n",
       "      <td>[57700.01]</td>\n",
       "      <td>57912.152545</td>\n",
       "      <td>57922.791405</td>\n",
       "      <td>57909.844741</td>\n",
       "      <td>12.946665</td>\n",
       "      <td>9.478993</td>\n",
       "    </tr>\n",
       "    <tr>\n",
       "      <th>11</th>\n",
       "      <td>[57676.46]</td>\n",
       "      <td>57892.177781</td>\n",
       "      <td>57918.081617</td>\n",
       "      <td>57908.536077</td>\n",
       "      <td>9.545540</td>\n",
       "      <td>9.492303</td>\n",
       "    </tr>\n",
       "    <tr>\n",
       "      <th>12</th>\n",
       "      <td>[57663.26]</td>\n",
       "      <td>57880.981735</td>\n",
       "      <td>57912.373943</td>\n",
       "      <td>57906.495015</td>\n",
       "      <td>5.878928</td>\n",
       "      <td>8.769628</td>\n",
       "    </tr>\n",
       "    <tr>\n",
       "      <th>13</th>\n",
       "      <td>[57642.71]</td>\n",
       "      <td>57863.551526</td>\n",
       "      <td>57904.862802</td>\n",
       "      <td>57903.314015</td>\n",
       "      <td>1.548786</td>\n",
       "      <td>7.325459</td>\n",
       "    </tr>\n",
       "    <tr>\n",
       "      <th>14</th>\n",
       "      <td>[57686.16]</td>\n",
       "      <td>57900.405178</td>\n",
       "      <td>57904.177013</td>\n",
       "      <td>57903.098546</td>\n",
       "      <td>1.078467</td>\n",
       "      <td>6.076061</td>\n",
       "    </tr>\n",
       "    <tr>\n",
       "      <th>15</th>\n",
       "      <td>[57668.86]</td>\n",
       "      <td>57885.731572</td>\n",
       "      <td>57901.339253</td>\n",
       "      <td>57901.812103</td>\n",
       "      <td>-0.472850</td>\n",
       "      <td>4.766279</td>\n",
       "    </tr>\n",
       "  </tbody>\n",
       "</table>\n",
       "</div>"
      ],
      "text/plain": [
       "   actual_price  predicted_price         S_EMA         L_EMA  MACD_line  \\\n",
       "0    [57671.86]     57888.276128  57888.276128  57888.276128   0.000000   \n",
       "1    [57672.02]     57888.411838  57888.297007  57888.286181   0.010826   \n",
       "2    [57723.96]     57932.466583  57895.092326  57891.558803   3.533523   \n",
       "3    [57711.01]     57921.482583  57899.152366  57893.775380   5.376986   \n",
       "4     [57694.7]     57907.648681  57900.459491  57894.803031   5.656460   \n",
       "5    [57687.03]     57901.143099  57900.564662  57895.272666   5.291995   \n",
       "6    [57712.83]     57923.026281  57904.020295  57897.328489   6.691806   \n",
       "7    [57761.86]     57964.612807  57913.342220  57902.312513  11.029707   \n",
       "8     [57759.9]     57962.950363  57920.974242  57906.804206  14.170037   \n",
       "9    [57739.16]     57945.359000  57924.725743  57909.660116  15.065627   \n",
       "10   [57700.01]     57912.152545  57922.791405  57909.844741  12.946665   \n",
       "11   [57676.46]     57892.177781  57918.081617  57908.536077   9.545540   \n",
       "12   [57663.26]     57880.981735  57912.373943  57906.495015   5.878928   \n",
       "13   [57642.71]     57863.551526  57904.862802  57903.314015   1.548786   \n",
       "14   [57686.16]     57900.405178  57904.177013  57903.098546   1.078467   \n",
       "15   [57668.86]     57885.731572  57901.339253  57901.812103  -0.472850   \n",
       "\n",
       "    Sig_line  \n",
       "0   0.000000  \n",
       "1   0.002165  \n",
       "2   0.708437  \n",
       "3   1.642147  \n",
       "4   2.445009  \n",
       "5   3.014406  \n",
       "6   3.749886  \n",
       "7   5.205851  \n",
       "8   6.998688  \n",
       "9   8.612076  \n",
       "10  9.478993  \n",
       "11  9.492303  \n",
       "12  8.769628  \n",
       "13  7.325459  \n",
       "14  6.076061  \n",
       "15  4.766279  "
      ]
     },
     "execution_count": 28,
     "metadata": {},
     "output_type": "execute_result"
    }
   ],
   "source": [
    "#Create DF for MACD\n",
    "crypto_MACD_ML_df= results_df.copy(deep=True)\n",
    "#Calculate MACD and signal line \n",
    "# short term EMA ewm=exponential weighted functions\n",
    "crypto_MACD_ML_df['S_EMA']=crypto_MACD_ML_df.predicted_price.ewm(span=12, adjust=False).mean()\n",
    "#Long term EMA ewm=exponential weighted functions\n",
    "crypto_MACD_ML_df['L_EMA']=crypto_MACD_ML_df.predicted_price.ewm(span=26, adjust=False).mean()\n",
    "#Calculate MACD line\n",
    "crypto_MACD_ML_df['MACD_line']=\\\n",
    "                          crypto_MACD_ML_df.S_EMA-crypto_MACD_ML_df.L_EMA\n",
    "#calculate Signal Line\n",
    "crypto_MACD_ML_df['Sig_line']=\\\n",
    "                          crypto_MACD_ML_df.MACD_line.ewm(span=9, adjust=False).mean()\n",
    "crypto_MACD_ML_df.tail(20)"
   ]
  },
  {
   "cell_type": "code",
   "execution_count": 29,
   "id": "15581f90",
   "metadata": {
    "ExecuteTime": {
     "end_time": "2021-11-22T03:26:52.986253Z",
     "start_time": "2021-11-22T03:26:52.552121Z"
    },
    "hidden": true
   },
   "outputs": [
    {
     "ename": "NameError",
     "evalue": "name 'crypto_buy_price' is not defined",
     "output_type": "error",
     "traceback": [
      "\u001b[1;31m---------------------------------------------------------------------------\u001b[0m",
      "\u001b[1;31mNameError\u001b[0m                                 Traceback (most recent call last)",
      "\u001b[1;32m<ipython-input-29-c6228e9c51c0>\u001b[0m in \u001b[0;36m<module>\u001b[1;34m\u001b[0m\n\u001b[0;32m      1\u001b[0m \u001b[1;31m#create buy and sell columns in df\u001b[0m\u001b[1;33m\u001b[0m\u001b[1;33m\u001b[0m\u001b[1;33m\u001b[0m\u001b[0m\n\u001b[1;32m----> 2\u001b[1;33m \u001b[0mx\u001b[0m \u001b[1;33m=\u001b[0m \u001b[0malert_MACD_ML\u001b[0m\u001b[1;33m(\u001b[0m\u001b[0mcrypto_MACD_ML_df\u001b[0m\u001b[1;33m)\u001b[0m\u001b[1;33m\u001b[0m\u001b[1;33m\u001b[0m\u001b[0m\n\u001b[0m\u001b[0;32m      3\u001b[0m \u001b[0mcrypto_MACD_ML_df\u001b[0m\u001b[1;33m[\u001b[0m\u001b[1;34m'Buy_Notification'\u001b[0m\u001b[1;33m]\u001b[0m \u001b[1;33m=\u001b[0m \u001b[0mx\u001b[0m\u001b[1;33m[\u001b[0m\u001b[1;36m0\u001b[0m\u001b[1;33m]\u001b[0m\u001b[1;33m\u001b[0m\u001b[1;33m\u001b[0m\u001b[0m\n\u001b[0;32m      4\u001b[0m \u001b[0mcrypto_MACD_ML_df\u001b[0m\u001b[1;33m[\u001b[0m\u001b[1;34m'Sell_Notification'\u001b[0m\u001b[1;33m]\u001b[0m \u001b[1;33m=\u001b[0m \u001b[0mx\u001b[0m\u001b[1;33m[\u001b[0m\u001b[1;36m1\u001b[0m\u001b[1;33m]\u001b[0m\u001b[1;33m\u001b[0m\u001b[1;33m\u001b[0m\u001b[0m\n\u001b[0;32m      5\u001b[0m \u001b[1;31m# crypto_MACD_ML_df['Crypto_buy_price'] = x[2]\u001b[0m\u001b[1;33m\u001b[0m\u001b[1;33m\u001b[0m\u001b[1;33m\u001b[0m\u001b[0m\n",
      "\u001b[1;32m<ipython-input-27-c79158683cfd>\u001b[0m in \u001b[0;36malert_MACD_ML\u001b[1;34m(signal)\u001b[0m\n\u001b[0;32m     11\u001b[0m             \u001b[1;32mif\u001b[0m \u001b[0mflag\u001b[0m \u001b[1;33m!=\u001b[0m \u001b[1;36m1\u001b[0m\u001b[1;33m:\u001b[0m\u001b[1;33m\u001b[0m\u001b[1;33m\u001b[0m\u001b[0m\n\u001b[0;32m     12\u001b[0m                 \u001b[0mbuy\u001b[0m\u001b[1;33m.\u001b[0m\u001b[0mappend\u001b[0m\u001b[1;33m(\u001b[0m\u001b[1;34m'1'\u001b[0m\u001b[1;33m)\u001b[0m\u001b[1;33m\u001b[0m\u001b[1;33m\u001b[0m\u001b[0m\n\u001b[1;32m---> 13\u001b[1;33m                 \u001b[0mcrypto_buy_price\u001b[0m\u001b[1;33m.\u001b[0m\u001b[0mappend\u001b[0m\u001b[1;33m(\u001b[0m\u001b[0msignal\u001b[0m\u001b[1;33m[\u001b[0m\u001b[1;34m'predicted_price'\u001b[0m\u001b[1;33m]\u001b[0m\u001b[1;33m[\u001b[0m\u001b[0mi\u001b[0m\u001b[1;33m]\u001b[0m\u001b[1;33m)\u001b[0m\u001b[1;33m\u001b[0m\u001b[1;33m\u001b[0m\u001b[0m\n\u001b[0m\u001b[0;32m     14\u001b[0m                 \u001b[0mflag\u001b[0m \u001b[1;33m=\u001b[0m \u001b[1;36m1\u001b[0m\u001b[1;33m\u001b[0m\u001b[1;33m\u001b[0m\u001b[0m\n\u001b[0;32m     15\u001b[0m             \u001b[1;32melse\u001b[0m\u001b[1;33m:\u001b[0m\u001b[1;33m\u001b[0m\u001b[1;33m\u001b[0m\u001b[0m\n",
      "\u001b[1;31mNameError\u001b[0m: name 'crypto_buy_price' is not defined"
     ]
    }
   ],
   "source": [
    "#create buy and sell columns in df\n",
    "x = alert_MACD_ML(crypto_MACD_ML_df)\n",
    "crypto_MACD_ML_df['Buy_Notification'] = x[0]\n",
    "crypto_MACD_ML_df['Sell_Notification'] = x[1]\n",
    "# crypto_MACD_ML_df['Crypto_buy_price'] = x[2]\n",
    "# crypto_MACD_ML_df['Crypto_sell_price'] = x[3]\n",
    "\n",
    "# create df with buy and sell info\n",
    "crypto_MACD_ML_BuySell_Sig_df = crypto_MACD_ML_df[['Buy_Notification', 'Sell_Notification']]\n",
    "crypto_MACD_ML_BuySell_Sig_df.fillna(0).head(50)"
   ]
  },
  {
   "cell_type": "code",
   "execution_count": null,
   "id": "deffd6da",
   "metadata": {
    "ExecuteTime": {
     "end_time": "2021-11-22T03:26:53.036114Z",
     "start_time": "2021-11-22T03:26:46.984Z"
    },
    "hidden": true
   },
   "outputs": [],
   "source": [
    "crypto_MACD_ML_BuySell_Sig_df.to_csv('predicted_notifications')"
   ]
  },
  {
   "cell_type": "markdown",
   "id": "dbf34797",
   "metadata": {
    "heading_collapsed": true
   },
   "source": [
    "## MACD df"
   ]
  },
  {
   "cell_type": "code",
   "execution_count": null,
   "id": "8ebfd0ce",
   "metadata": {
    "ExecuteTime": {
     "end_time": "2021-11-22T03:26:53.037112Z",
     "start_time": "2021-11-22T03:26:46.992Z"
    },
    "hidden": true
   },
   "outputs": [],
   "source": [
    "#Create DF for MACD\n",
    "crypto_MACD_df= crypto_df.copy(deep=True)\n",
    "#Calculate MACD and signal line \n",
    "# short term EMA ewm=exponential weighted functions\n",
    "crypto_MACD_df['S_EMA']=crypto_MACD_df.Last.ewm(span=12, adjust=False).mean()\n",
    "#Long term EMA ewm=exponential weighted functions\n",
    "crypto_MACD_df['L_EMA']=crypto_MACD_df.Last.ewm(span=26, adjust=False).mean()\n",
    "#Calculate MACD line\n",
    "crypto_MACD_df['MACD_line']=\\\n",
    "                          crypto_MACD_df.S_EMA-crypto_MACD_df.L_EMA\n",
    "#calculate Signal Line\n",
    "crypto_MACD_df['Sig_line']=\\\n",
    "                          crypto_MACD_df.MACD_line.ewm(span=9, adjust=False).mean()\n",
    "crypto_MACD_df.tail(20)\n"
   ]
  },
  {
   "cell_type": "markdown",
   "id": "04164381",
   "metadata": {
    "heading_collapsed": true
   },
   "source": [
    "## MACD buy and sell notification"
   ]
  },
  {
   "cell_type": "code",
   "execution_count": null,
   "id": "bba33b8a",
   "metadata": {
    "ExecuteTime": {
     "end_time": "2021-11-22T03:26:53.038109Z",
     "start_time": "2021-11-22T03:26:47.001Z"
    },
    "hidden": true
   },
   "outputs": [],
   "source": [
    "#buy sell signal\n",
    "def alert_MACD(signal):\n",
    "    buy = []\n",
    "    sell = []\n",
    "    flag = -1\n",
    "    for i in range(0,len(signal)):\n",
    "        if signal['MACD_line'][i] > signal['Sig_line'][i]:\n",
    "            sell.append(np.nan)\n",
    "            if flag != 1:\n",
    "                buy.append('1')\n",
    "                flag = 1\n",
    "            else:\n",
    "                buy.append(np.nan)\n",
    "        elif signal['MACD_line'][i] < signal['Sig_line'][i]:\n",
    "            buy.append(np.nan)\n",
    "            if flag != 0:\n",
    "                sell.append('1')\n",
    "                flag = 0\n",
    "            else:\n",
    "                sell.append(np.nan)\n",
    "        else:\n",
    "            buy.append(np.nan)\n",
    "            sell.append(np.nan)\n",
    "    return(buy,sell)\n",
    "            "
   ]
  },
  {
   "cell_type": "code",
   "execution_count": null,
   "id": "90821fbd",
   "metadata": {
    "ExecuteTime": {
     "end_time": "2021-11-22T03:26:53.038109Z",
     "start_time": "2021-11-22T03:26:47.005Z"
    },
    "hidden": true
   },
   "outputs": [],
   "source": [
    "#create buy and sell columns in df\n",
    "x = alert_MACD(crypto_MACD_df)\n",
    "crypto_MACD_df['Buy_Notification'] = x[0]\n",
    "crypto_MACD_df['Sell_Notification'] = x[1]\n",
    "\n",
    "# create df with buy and sell info\n",
    "crypto_MACD_BuySell_Sig_df = crypto_MACD_df[['Buy_Notification', 'Sell_Notification']]\n",
    "crypto_MACD_BuySell_Sig_df.fillna(0).sort_index(ascending=False).head(50)"
   ]
  },
  {
   "cell_type": "markdown",
   "id": "28d90b5c",
   "metadata": {
    "ExecuteTime": {
     "end_time": "2021-11-01T23:11:20.664523Z",
     "start_time": "2021-11-01T23:11:20.657117Z"
    },
    "heading_collapsed": true
   },
   "source": [
    "## BOLLINGER BANDS df"
   ]
  },
  {
   "cell_type": "code",
   "execution_count": null,
   "id": "4a6ab531",
   "metadata": {
    "ExecuteTime": {
     "end_time": "2021-11-22T03:26:53.039107Z",
     "start_time": "2021-11-22T03:26:47.008Z"
    },
    "hidden": true
   },
   "outputs": [],
   "source": [
    "crypto_BBand_df =crypto_df.copy(deep=True)\n",
    "# calculate SMA, SD, UPPER BAN, LOWER BAND\n",
    "#GET TIME PERIOD\n",
    "period = 20\n",
    "\n",
    "# calculate SMA\n",
    "crypto_BBand_df['SMA']=crypto_BBand_df['Last'].rolling(window = period).mean()\n",
    "#calculate std\n",
    "crypto_BBand_df['STD']=crypto_BBand_df['Last'].rolling(window = period).std()\n",
    "#calculate BB UP\n",
    "crypto_BBand_df['BBand Upper']=crypto_BBand_df['SMA']+(crypto_BBand_df['STD']*2)\n",
    "#calculate BB LOW\n",
    "crypto_BBand_df['BBand Lower']=crypto_BBand_df['SMA']-(crypto_BBand_df['STD']*2)\n",
    "\n",
    "crypto_BBand_df.head(30)"
   ]
  },
  {
   "cell_type": "markdown",
   "id": "e841c5eb",
   "metadata": {
    "heading_collapsed": true
   },
   "source": [
    "## BBand buy sell Notification"
   ]
  },
  {
   "cell_type": "code",
   "execution_count": null,
   "id": "bbe32689",
   "metadata": {
    "ExecuteTime": {
     "end_time": "2021-11-22T03:26:53.040103Z",
     "start_time": "2021-11-22T03:26:47.011Z"
    },
    "hidden": true
   },
   "outputs": [],
   "source": [
    "#buy sell signal\n",
    "def alert_BBands(signal):\n",
    "    buy = []\n",
    "    sell = []\n",
    "    flag = -1\n",
    "    for i in range(0,len(signal)):\n",
    "        if signal['Last'][i] > signal['BBand Upper'][i]:\n",
    "            sell.append(np.nan)\n",
    "            if flag != 1:\n",
    "                buy.append('1')\n",
    "                flag = 1\n",
    "            else:\n",
    "                buy.append(np.nan)\n",
    "        elif signal['Last'][i] < signal['BBand Lower'][i]:\n",
    "            buy.append(np.nan)\n",
    "            if flag != 0:\n",
    "                sell.append('1')\n",
    "                flag = 0\n",
    "            else:\n",
    "                sell.append(np.nan)\n",
    "        else:\n",
    "            buy.append(np.nan)\n",
    "            sell.append(np.nan)\n",
    "    return(buy,sell)\n",
    "            "
   ]
  },
  {
   "cell_type": "code",
   "execution_count": null,
   "id": "af57cbab",
   "metadata": {
    "ExecuteTime": {
     "end_time": "2021-11-22T03:26:53.041101Z",
     "start_time": "2021-11-22T03:26:47.014Z"
    },
    "hidden": true
   },
   "outputs": [],
   "source": [
    "#create buy and sell columns in df\n",
    "x=alert_BBands(crypto_BBand_df)\n",
    "crypto_BBand_df['Buy_Notification'] = x[0]\n",
    "crypto_BBand_df['Sell_Notification'] = x[1]\n",
    "\n",
    "# create df with buy and sell info\n",
    "crypto_BBand_BuySell_Sig_df = crypto_BBand_df[['Buy_Notification', 'Sell_Notification']]\n",
    "crypto_BBand_BuySell_Sig_df.fillna(0).sort_index(ascending=False).head(50)"
   ]
  },
  {
   "cell_type": "markdown",
   "id": "0a58f975",
   "metadata": {
    "heading_collapsed": true
   },
   "source": [
    "## TI-Buy&Sell-notification(MACD & BBand alert condition is equal)"
   ]
  },
  {
   "cell_type": "code",
   "execution_count": null,
   "id": "0e2333c1",
   "metadata": {
    "ExecuteTime": {
     "end_time": "2021-11-22T03:26:53.042099Z",
     "start_time": "2021-11-22T03:26:47.018Z"
    },
    "hidden": true
   },
   "outputs": [],
   "source": [
    "def alert(df1,df2):\n",
    "    buy = []\n",
    "    sell = []\n",
    "    flag = -1\n",
    "    for i in range(0,len(df1)):\n",
    "        if df1['Buy_Notification'][i] == df2['Buy_Notification'][i]:\n",
    "            sell.append(np.nan)\n",
    "            if flag != 1:\n",
    "                buy.append('1')\n",
    "                flag = 1\n",
    "            else:\n",
    "                buy.append(np.nan)\n",
    "        elif df1['Sell_Notification'][i]== df2['Sell_Notification'][i]:\n",
    "            buy.append(np.nan)\n",
    "            if flag != 0:\n",
    "                sell.append('1')\n",
    "                flag = 0\n",
    "            else:\n",
    "                sell.append(np.nan)\n",
    "        else:\n",
    "            buy.append(np.nan)\n",
    "            sell.append(np.nan)\n",
    "    return(buy,sell)               \n",
    "            "
   ]
  },
  {
   "cell_type": "code",
   "execution_count": null,
   "id": "c3e85c54",
   "metadata": {
    "ExecuteTime": {
     "end_time": "2021-11-22T03:26:53.042099Z",
     "start_time": "2021-11-22T03:26:47.028Z"
    },
    "hidden": true
   },
   "outputs": [],
   "source": [
    "#create buy and sell columns in df\n",
    "x=alert(crypto_BBand_df,crypto_MACD_df)\n",
    "crypto_alert_df = crypto_df.copy(deep=True)\n",
    "crypto_alert_df['Buy_Notification'] = x[0]\n",
    "crypto_alert_df['Sell_Notification'] = x[1]\n",
    "\n",
    "# create df with buy and sell info\n",
    "crypto_alert_BuySell_Sig_df = crypto_alert_df[['Buy_Notification', 'Sell_Notification']]\n",
    "crypto_alert_BuySell_Sig_df.fillna(0).sort_index(ascending=False).head(59)"
   ]
  },
  {
   "cell_type": "code",
   "execution_count": null,
   "id": "62f7522c",
   "metadata": {
    "ExecuteTime": {
     "end_time": "2021-11-22T03:26:53.043096Z",
     "start_time": "2021-11-22T03:26:47.035Z"
    },
    "hidden": true
   },
   "outputs": [],
   "source": [
    "crypto_buy_df=crypto_alert_BuySell_Sig_df.loc[crypto_alert_BuySell_Sig_df['Buy_Notification'] == 1]\n",
    "crypto_buy_df"
   ]
  },
  {
   "cell_type": "code",
   "execution_count": null,
   "id": "b4bfcdcf",
   "metadata": {
    "ExecuteTime": {
     "end_time": "2021-11-22T03:26:53.044093Z",
     "start_time": "2021-11-22T03:26:47.038Z"
    },
    "hidden": true
   },
   "outputs": [],
   "source": [
    "crypto_sell_df=crypto_alert_BuySell_Sig_df.loc[crypto_alert_BuySell_Sig_df['Sell_Notification'] == 1]\n",
    "crypto_sell_df"
   ]
  },
  {
   "cell_type": "code",
   "execution_count": null,
   "id": "b978bc31",
   "metadata": {
    "ExecuteTime": {
     "end_time": "2021-11-22T03:26:53.045090Z",
     "start_time": "2021-11-22T03:26:47.042Z"
    },
    "hidden": true
   },
   "outputs": [],
   "source": [
    "crypto_df['Last'].describe()"
   ]
  },
  {
   "cell_type": "markdown",
   "id": "4935ebc6",
   "metadata": {
    "heading_collapsed": true
   },
   "source": [
    "## Technical Indicators graphs"
   ]
  },
  {
   "cell_type": "code",
   "execution_count": null,
   "id": "1eb9c92b",
   "metadata": {
    "ExecuteTime": {
     "end_time": "2021-11-22T03:26:53.046088Z",
     "start_time": "2021-11-22T03:26:47.046Z"
    },
    "code_folding": [],
    "hidden": true
   },
   "outputs": [],
   "source": [
    "def TI_graphs(df):\n",
    "    #Create DF for MACD\n",
    "    crypto_MACD_df= df.copy(deep=True)\n",
    "    #Calculate MACD and signal line \n",
    "    # short term EMA ewm=exponential weighted functions\n",
    "    crypto_MACD_df['S_EMA']=crypto_MACD_df.Last.ewm(span=12, adjust=False).mean()\n",
    "    #Long term EMA ewm=exponential weighted functions\n",
    "    crypto_MACD_df['L_EMA']=crypto_MACD_df.Last.ewm(span=26, adjust=False).mean()\n",
    "    #Calculate MACD line\n",
    "    crypto_MACD_df['MACD_line']=\\\n",
    "                              crypto_MACD_df.S_EMA-crypto_MACD_df.L_EMA\n",
    "    #calculate Signal Line\n",
    "    crypto_MACD_df['Sig_line']=\\\n",
    "                              crypto_MACD_df.MACD_line.ewm(span=9, adjust=False).mean()\n",
    "    \n",
    "    #chart from previous week\n",
    "    plt.figure(figsize=(12, 5))\n",
    "    plt.plot(crypto_MACD_df.MACD_line, label='BTC MACD', color='k',linewidth=0.7)\n",
    "    plt.plot(crypto_MACD_df.Sig_line, label='signal ln', color='r', linewidth=1)\n",
    "    plt.title('MACD graph from previous month')\n",
    "    plt.xlabel('Date')\n",
    "    plt.ylabel('PRICE USD')\n",
    "    plt.xticks(rotation=30)\n",
    "    plt.legend(loc='upper left')\n",
    "    \n",
    "    # plt chart from previous day \n",
    "    now = datetime.now()\n",
    "    Previous_Date = date.today() - timedelta(days=1)\n",
    "    plt.figure(figsize=(13, 4))\n",
    "    plt.plot(crypto_MACD_df.MACD_line, label='BTC MACD', color='k',linewidth=0.9)\n",
    "    plt.plot(crypto_MACD_df.Sig_line, label='signal ln', color='r',linewidth=0.7)\n",
    "    plt.legend(loc='upper left')\n",
    "    plt.xlim([Previous_Date, now])\n",
    "    plt.title('MACD graph from previous day')\n",
    "    plt.xlabel('Date')\n",
    "    plt.ylabel('PRICE USD')\n",
    "    plt.xticks(rotation=30)\n",
    "    plt.show()\n",
    "    \n",
    "    # plt chart from previous hour\n",
    "    now = datetime.now()\n",
    "    lastHour = date.today() - timedelta(hours = 1)\n",
    "    plt.figure(figsize=(15, 5))\n",
    "    plt.plot(crypto_MACD_df.MACD_line, label='BTC MACD', color='k',linewidth=0.7)\n",
    "    plt.plot(crypto_MACD_df.Sig_line, label='signal ln', color='r',linewidth=1)\n",
    "    plt.legend(loc='upper left')\n",
    "    plt.xlim([lastHour, now])\n",
    "    plt.title('MACD graph from previous hour')\n",
    "    plt.xlabel('Date')\n",
    "    plt.ylabel('PRICE USD')\n",
    "    plt.xticks(rotation=30)\n",
    "    plt.show()\n",
    "   ####################################################################################\n",
    "    crypto_BBand_df=df.copy(deep=True)\n",
    "    # calculate SMA, SD, UPPER BAN, LOWER BAND\n",
    "    #GET TIME PERIOD\n",
    "    period = 20 \n",
    "\n",
    "    # calculate SMA\n",
    "    crypto_BBand_df['SMA']=crypto_BBand_df['Last'].rolling(window = period).mean()\n",
    "    #calculate std\n",
    "    crypto_BBand_df['STD']=crypto_BBand_df['Last'].rolling(window = period).std()\n",
    "    #calculate BB UP\n",
    "    crypto_BBand_df['BBand Upper']=crypto_BBand_df['SMA']+(crypto_BBand_df['STD']*2)\n",
    "    #calculate BB LOW\n",
    "    crypto_BBand_df['BBand Lower']=crypto_BBand_df['SMA']-(crypto_BBand_df['STD']*2)\n",
    "\n",
    "    #list of colmns to keep\n",
    "    column_ls = ['Last','SMA', 'BBand Upper','BBand Lower']\n",
    "    #plot data PREVIOUS WEEK\n",
    "    fig = plt.figure(figsize = (13,6))\n",
    "    ax=fig.add_subplot(1,1,1)\n",
    "    x_axis=crypto_BBand_df.index\n",
    "    ax.fill_between(x_axis,crypto_BBand_df['BBand Upper'], crypto_BBand_df['BBand Lower'],label='BBands', color='beige')\n",
    "    ax.plot(x_axis,crypto_BBand_df['Last'], color = 'k', label='closing price', linewidth=0.6)\n",
    "    ax.plot(x_axis,crypto_BBand_df['SMA'], color = 'r', label='SMA', linewidth=1.5)\n",
    "    ax.set_title('BBands previous month')\n",
    "    ax.set_xlabel('Date')\n",
    "    ax.set_ylabel('price')\n",
    "    plt.xticks(rotation=30)\n",
    "    ax.legend()\n",
    "    plt.show()\n",
    "\n",
    "    now = datetime.now()\n",
    "    Previous_Date = date.today() - timedelta(days=1)\n",
    "    #list of colmns to keep\n",
    "    column_ls = ['Last','SMA', 'BBand Upper','BBand Lower']\n",
    "    #plot data PREVIOUS DAY\n",
    "    fig = plt.figure(figsize = (13,5))\n",
    "    ax=fig.add_subplot(1,1,1)\n",
    "    x_axis=crypto_BBand_df.index\n",
    "    ax.fill_between(x_axis,crypto_BBand_df['BBand Upper'], crypto_BBand_df['BBand Lower'],label='BBands', color='beige')\n",
    "    ax.plot(x_axis,crypto_BBand_df['Last'], color = 'k', label='closing price', linewidth=0.7)\n",
    "    ax.plot(x_axis,crypto_BBand_df['SMA'], color = 'lightcoral', label='SMA', linewidth=1.5)\n",
    "    plt.xlim([Previous_Date,now])\n",
    "    ax.set_title('BBands previous day')\n",
    "    ax.set_xlabel('Date')\n",
    "    ax.set_ylabel('price')\n",
    "    plt.xticks(rotation=30)\n",
    "    ax.legend()\n",
    "    plt.show()\n",
    "\n",
    "    now = datetime.now()\n",
    "    lastHour = date.today() - timedelta(hours = 1)\n",
    "    #list of colmns to keep\n",
    "    column_ls = ['Last','SMA', 'BBand Upper','BBand Lower']\n",
    "    #plot data PREVIOUS HOUR\n",
    "    fig = plt.figure(figsize = (13,12))\n",
    "    ax=fig.add_subplot(1,1,1)\n",
    "    x_axis=crypto_BBand_df.index\n",
    "    ax.fill_between(x_axis,crypto_BBand_df['BBand Upper'], crypto_BBand_df['BBand Lower'],label='BBands', color='beige')\n",
    "    ax.plot(x_axis,crypto_BBand_df['Last'], color = 'k', label='closing price', linewidth=0.5)\n",
    "    ax.plot(x_axis,crypto_BBand_df['SMA'], color = 'r', label='SMA', linewidth=0.7)\n",
    "    plt.xlim([lastHour,now])\n",
    "    ax.set_title('BBands ')\n",
    "    ax.set_xlabel('Date')\n",
    "    ax.set_ylabel('price')\n",
    "    plt.title('BBands last hour')\n",
    "    plt.xticks(rotation=30)\n",
    "    ax.legend()\n",
    "    plt.show()\n",
    "    "
   ]
  },
  {
   "cell_type": "code",
   "execution_count": null,
   "id": "429f4287",
   "metadata": {
    "ExecuteTime": {
     "end_time": "2021-11-22T03:26:53.047087Z",
     "start_time": "2021-11-22T03:26:47.050Z"
    },
    "hidden": true
   },
   "outputs": [],
   "source": [
    "TI_graphs(crypto_df)"
   ]
  },
  {
   "cell_type": "markdown",
   "id": "0a934f1a",
   "metadata": {},
   "source": [
    "## BACKTESTING MACD"
   ]
  },
  {
   "cell_type": "code",
   "execution_count": null,
   "id": "2616be13",
   "metadata": {
    "ExecuteTime": {
     "end_time": "2021-11-22T03:26:53.048087Z",
     "start_time": "2021-11-22T03:26:47.057Z"
    }
   },
   "outputs": [],
   "source": [
    "# You cannot asume you will buy or sell exactly on the notification time, \n",
    "#but you can assume you will buy in the next time\n",
    "Buy, Sell = [],[]\n",
    "for i in range(2,len(crypto_MACD_df)):\n",
    "    if crypto_MACD_df.MACD_line.iloc[i] > crypto_MACD_df.Sig_line.iloc[i] and\\\n",
    "    crypto_MACD_df.MACD_line.iloc[i-1]< crypto_MACD_df.Sig_line.iloc[i-1]:\n",
    "        Buy.append(i)\n",
    "    elif crypto_MACD_df.MACD_line.iloc[i] < crypto_MACD_df.Sig_line.iloc[i] and\\\n",
    "    crypto_MACD_df.MACD_line.iloc[i-1]> crypto_MACD_df.Sig_line.iloc[i-1]:\n",
    "        Sell.append(i)"
   ]
  },
  {
   "cell_type": "code",
   "execution_count": null,
   "id": "9092a217",
   "metadata": {
    "ExecuteTime": {
     "end_time": "2021-11-22T03:26:53.049082Z",
     "start_time": "2021-11-22T03:26:47.064Z"
    }
   },
   "outputs": [],
   "source": [
    "realbuy = [i+1 for i in Buy]\n",
    "realsell = [i+1 for i in Sell]\n",
    "                                                                             "
   ]
  },
  {
   "cell_type": "code",
   "execution_count": null,
   "id": "c57728e8",
   "metadata": {
    "ExecuteTime": {
     "end_time": "2021-11-22T03:26:53.050077Z",
     "start_time": "2021-11-22T03:26:47.067Z"
    }
   },
   "outputs": [],
   "source": [
    "buyprice = crypto_MACD_df.Open.iloc[realbuy]\n",
    "buyprice\n"
   ]
  },
  {
   "cell_type": "code",
   "execution_count": null,
   "id": "950a5855",
   "metadata": {
    "ExecuteTime": {
     "end_time": "2021-11-22T03:26:53.051088Z",
     "start_time": "2021-11-22T03:26:47.072Z"
    }
   },
   "outputs": [],
   "source": [
    "sellprice =crypto_MACD_df.Open.iloc[realsell]\n",
    "sellprice"
   ]
  },
  {
   "cell_type": "code",
   "execution_count": null,
   "id": "313ec062",
   "metadata": {
    "ExecuteTime": {
     "end_time": "2021-11-22T03:26:53.051088Z",
     "start_time": "2021-11-22T03:26:47.076Z"
    }
   },
   "outputs": [],
   "source": [
    "# to calculate profit, exclude initial and final buying or selling condition\n",
    "if sellprice.index[0]<buyprice.index[0]:\n",
    "    sellprice = sellprice.drop(sellprice.index[0])\n",
    "elif buyprice.index[-1]>buyprice.index[-1]:\n",
    "    buyprice = buyprice.drop(buyprice.index[-1])\n",
    "    "
   ]
  },
  {
   "cell_type": "code",
   "execution_count": null,
   "id": "987ec5d8",
   "metadata": {
    "ExecuteTime": {
     "end_time": "2021-11-22T03:26:53.052072Z",
     "start_time": "2021-11-22T03:26:47.081Z"
    }
   },
   "outputs": [],
   "source": [
    "profitsrel = []\n",
    "for i in range(len(sellprice)):\n",
    "    profitsrel.append((sellprice[i]-buyprice[i])/buyprice[i])"
   ]
  },
  {
   "cell_type": "code",
   "execution_count": null,
   "id": "53707801",
   "metadata": {
    "ExecuteTime": {
     "end_time": "2021-11-22T03:26:53.053070Z",
     "start_time": "2021-11-22T03:26:47.086Z"
    }
   },
   "outputs": [],
   "source": [
    "profits_df = pd.DataFrame(profitsrel)\n",
    "profits_df.describe()\n"
   ]
  },
  {
   "cell_type": "code",
   "execution_count": null,
   "id": "bfed89c9",
   "metadata": {},
   "outputs": [],
   "source": []
  },
  {
   "cell_type": "code",
   "execution_count": null,
   "id": "730f696b",
   "metadata": {},
   "outputs": [],
   "source": []
  }
 ],
 "metadata": {
  "kernelspec": {
   "display_name": "PythonData",
   "language": "python",
   "name": "pythondata"
  },
  "language_info": {
   "codemirror_mode": {
    "name": "ipython",
    "version": 3
   },
   "file_extension": ".py",
   "mimetype": "text/x-python",
   "name": "python",
   "nbconvert_exporter": "python",
   "pygments_lexer": "ipython3",
   "version": "3.9.4"
  },
  "toc": {
   "base_numbering": 1,
   "nav_menu": {},
   "number_sections": true,
   "sideBar": true,
   "skip_h1_title": false,
   "title_cell": "Table of Contents",
   "title_sidebar": "Contents",
   "toc_cell": false,
   "toc_position": {},
   "toc_section_display": true,
   "toc_window_display": false
  },
  "varInspector": {
   "cols": {
    "lenName": 16,
    "lenType": 16,
    "lenVar": 40
   },
   "kernels_config": {
    "python": {
     "delete_cmd_postfix": "",
     "delete_cmd_prefix": "del ",
     "library": "var_list.py",
     "varRefreshCmd": "print(var_dic_list())"
    },
    "r": {
     "delete_cmd_postfix": ") ",
     "delete_cmd_prefix": "rm(",
     "library": "var_list.r",
     "varRefreshCmd": "cat(var_dic_list()) "
    }
   },
   "position": {
    "height": "429.4px",
    "left": "295.2px",
    "right": "20px",
    "top": "2px",
    "width": "800px"
   },
   "types_to_exclude": [
    "module",
    "function",
    "builtin_function_or_method",
    "instance",
    "_Feature"
   ],
   "window_display": false
  }
 },
 "nbformat": 4,
 "nbformat_minor": 5
}
